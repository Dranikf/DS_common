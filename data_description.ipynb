{
 "cells": [
  {
   "cell_type": "markdown",
   "id": "05611658-bf9d-4257-921c-3931b6e96928",
   "metadata": {},
   "source": [
    "# Examples of using fuction in \"data_description.py\""
   ]
  },
  {
   "cell_type": "code",
   "execution_count": 1,
   "id": "b2b361ec-aed8-4dca-9244-3a85deafb02e",
   "metadata": {},
   "outputs": [],
   "source": [
    "import pandas as pd\n",
    "import numpy as np\n",
    "from data_description import *"
   ]
  },
  {
   "cell_type": "markdown",
   "id": "bf1964f4-bdd5-4bc8-ba1a-b9169501f54f",
   "metadata": {},
   "source": [
    "# Creation an exmples data frame"
   ]
  },
  {
   "cell_type": "code",
   "execution_count": 24,
   "id": "57d1455d-ccb6-4c69-9632-b4e0cd20fa96",
   "metadata": {},
   "outputs": [],
   "source": [
    "frame_size = 100\n",
    "\n",
    "data = pd.DataFrame({\n",
    "    'dates_column' : np.datetime64('2017-01-01') + np.random.choice(np.arange(0, 60), frame_size),\n",
    "    'object_column' : np.random.choice(['lev1', 'lev2', 'lev3'], frame_size),\n",
    "    'category_column' : pd.Series(np.random.choice(['lev1', 'lev2', 'lev3'], frame_size), dtype = \"category\"),\n",
    "    'bool_column' : np.random.choice([True, False], frame_size),\n",
    "    'float_column' : np.random.normal(5, 1, frame_size),\n",
    "    'integer_column' : np.random.normal(5, 1, frame_size).astype('int64')\n",
    "})\n",
    "\n",
    "for col_name in data.columns:\n",
    "    data.loc[data.sample(20).index, col_name] = np.NaN"
   ]
  },
  {
   "cell_type": "markdown",
   "id": "418c06e2-02f7-4948-bb14-2f05b44401e6",
   "metadata": {},
   "source": [
    "# Testing of fucntion which describes columns"
   ]
  },
  {
   "cell_type": "markdown",
   "id": "7818ecea-21ef-43cb-96e7-34a72754e74b",
   "metadata": {},
   "source": [
    "## Testing of \"get_col_av_values\" function"
   ]
  },
  {
   "cell_type": "code",
   "execution_count": 25,
   "id": "e8015dd4-b4e1-4e0b-a77d-38fedd018042",
   "metadata": {},
   "outputs": [
    {
     "data": {
      "text/plain": [
       "dates_column                     [01.01.2017;01.03.2017]\n",
       "object_column                      lev1, lev2, lev3, nan\n",
       "category_column                    lev2, lev3, lev1, nan\n",
       "bool_column                             False, nan, True\n",
       "float_column       [2.772175016001849;7.262010316752875]\n",
       "integer_column                                 [1.0;7.0]\n",
       "dtype: object"
      ]
     },
     "execution_count": 25,
     "metadata": {},
     "output_type": "execute_result"
    }
   ],
   "source": [
    "data.apply(get_col_av_values)"
   ]
  },
  {
   "cell_type": "markdown",
   "id": "7e8ad2b5-302a-41f1-ba0b-e550f63ccd75",
   "metadata": {},
   "source": [
    "## Testing of \"get_col_obj_count\" function"
   ]
  },
  {
   "cell_type": "code",
   "execution_count": 26,
   "id": "4cfe2ee9-34e3-4962-9a8e-338cd160bf97",
   "metadata": {},
   "outputs": [
    {
     "data": {
      "text/plain": [
       "dates_column       -\n",
       "object_column      4\n",
       "category_column    4\n",
       "bool_column        3\n",
       "float_column       -\n",
       "integer_column     -\n",
       "dtype: object"
      ]
     },
     "execution_count": 26,
     "metadata": {},
     "output_type": "execute_result"
    }
   ],
   "source": [
    "data.apply(get_col_obj_count)"
   ]
  },
  {
   "cell_type": "markdown",
   "id": "188fc78c-dd82-490a-97be-c7afd33ac1e2",
   "metadata": {},
   "source": [
    "## Testing of \"get_columns_desription\" function"
   ]
  },
  {
   "cell_type": "code",
   "execution_count": 27,
   "id": "495e0b96-1896-44d9-8fe6-a8ac94c440a9",
   "metadata": {},
   "outputs": [
    {
     "data": {
      "text/html": [
       "<div>\n",
       "<style scoped>\n",
       "    .dataframe tbody tr th:only-of-type {\n",
       "        vertical-align: middle;\n",
       "    }\n",
       "\n",
       "    .dataframe tbody tr th {\n",
       "        vertical-align: top;\n",
       "    }\n",
       "\n",
       "    .dataframe thead th {\n",
       "        text-align: right;\n",
       "    }\n",
       "</style>\n",
       "<table border=\"1\" class=\"dataframe\">\n",
       "  <thead>\n",
       "    <tr style=\"text-align: right;\">\n",
       "      <th></th>\n",
       "      <th>Data type</th>\n",
       "      <th>Range</th>\n",
       "      <th>Values number</th>\n",
       "      <th>NA count</th>\n",
       "    </tr>\n",
       "  </thead>\n",
       "  <tbody>\n",
       "    <tr>\n",
       "      <th>dates_column</th>\n",
       "      <td>datetime64[ns]</td>\n",
       "      <td>[01.01.2017;01.03.2017]</td>\n",
       "      <td>-</td>\n",
       "      <td>20</td>\n",
       "    </tr>\n",
       "    <tr>\n",
       "      <th>object_column</th>\n",
       "      <td>object</td>\n",
       "      <td>lev1, lev2, lev3, nan</td>\n",
       "      <td>4</td>\n",
       "      <td>20</td>\n",
       "    </tr>\n",
       "    <tr>\n",
       "      <th>category_column</th>\n",
       "      <td>category</td>\n",
       "      <td>lev2, lev3, lev1, nan</td>\n",
       "      <td>4</td>\n",
       "      <td>20</td>\n",
       "    </tr>\n",
       "    <tr>\n",
       "      <th>bool_column</th>\n",
       "      <td>object</td>\n",
       "      <td>False, nan, True</td>\n",
       "      <td>3</td>\n",
       "      <td>20</td>\n",
       "    </tr>\n",
       "    <tr>\n",
       "      <th>float_column</th>\n",
       "      <td>float64</td>\n",
       "      <td>[2.772175016001849;7.262010316752875]</td>\n",
       "      <td>-</td>\n",
       "      <td>20</td>\n",
       "    </tr>\n",
       "    <tr>\n",
       "      <th>integer_column</th>\n",
       "      <td>float64</td>\n",
       "      <td>[1.0;7.0]</td>\n",
       "      <td>-</td>\n",
       "      <td>20</td>\n",
       "    </tr>\n",
       "  </tbody>\n",
       "</table>\n",
       "</div>"
      ],
      "text/plain": [
       "                      Data type                                  Range  \\\n",
       "dates_column     datetime64[ns]                [01.01.2017;01.03.2017]   \n",
       "object_column            object                  lev1, lev2, lev3, nan   \n",
       "category_column        category                  lev2, lev3, lev1, nan   \n",
       "bool_column              object                       False, nan, True   \n",
       "float_column            float64  [2.772175016001849;7.262010316752875]   \n",
       "integer_column          float64                              [1.0;7.0]   \n",
       "\n",
       "                Values number NA count  \n",
       "dates_column                -       20  \n",
       "object_column               4       20  \n",
       "category_column             4       20  \n",
       "bool_column                 3       20  \n",
       "float_column                -       20  \n",
       "integer_column              -       20  "
      ]
     },
     "execution_count": 27,
     "metadata": {},
     "output_type": "execute_result"
    }
   ],
   "source": [
    "get_columns_desription(data)"
   ]
  }
 ],
 "metadata": {
  "kernelspec": {
   "display_name": "Python 3 (ipykernel)",
   "language": "python",
   "name": "python3"
  },
  "language_info": {
   "codemirror_mode": {
    "name": "ipython",
    "version": 3
   },
   "file_extension": ".py",
   "mimetype": "text/x-python",
   "name": "python",
   "nbconvert_exporter": "python",
   "pygments_lexer": "ipython3",
   "version": "3.10.0"
  }
 },
 "nbformat": 4,
 "nbformat_minor": 5
}
