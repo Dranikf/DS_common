{
 "cells": [
  {
   "cell_type": "markdown",
   "id": "05611658-bf9d-4257-921c-3931b6e96928",
   "metadata": {},
   "source": [
    "# Examples of using fuction in \"data_description.py\""
   ]
  },
  {
   "cell_type": "code",
   "execution_count": 3,
   "id": "b2b361ec-aed8-4dca-9244-3a85deafb02e",
   "metadata": {},
   "outputs": [
    {
     "name": "stdout",
     "output_type": "stream",
     "text": [
      "The autoreload extension is already loaded. To reload it, use:\n",
      "  %reload_ext autoreload\n"
     ]
    }
   ],
   "source": [
    "import pandas as pd\n",
    "import numpy as np\n",
    "\n",
    "%load_ext autoreload\n",
    "%autoreload 2\n",
    "\n",
    "from data_description import *"
   ]
  },
  {
   "cell_type": "markdown",
   "id": "bf1964f4-bdd5-4bc8-ba1a-b9169501f54f",
   "metadata": {},
   "source": [
    "# Creation an exmples data frame"
   ]
  },
  {
   "cell_type": "code",
   "execution_count": 4,
   "id": "57d1455d-ccb6-4c69-9632-b4e0cd20fa96",
   "metadata": {},
   "outputs": [],
   "source": [
    "frame_size = 100\n",
    "\n",
    "data = pd.DataFrame({\n",
    "    'dates_column' : np.datetime64('2017-01-01') + np.random.choice(np.arange(0, 60), frame_size),\n",
    "    'object_column' : np.random.choice(['lev1', 'lev2', 'lev3'], frame_size),\n",
    "    'category_column' : pd.Series(\n",
    "        np.random.choice(['lev1', 'lev2', 'lev3'], frame_size), dtype = \"category\"\n",
    "    ),\n",
    "    'bool_column' : np.random.choice([True, False], frame_size),\n",
    "    'float_column' : np.random.normal(5, 1, frame_size),\n",
    "    'integer_column' : np.random.normal(5, 1, frame_size).astype('int64')\n",
    "})\n",
    "\n",
    "for col_name in data.columns:\n",
    "    data.loc[data.sample(20).index, col_name] = np.NaN"
   ]
  },
  {
   "cell_type": "markdown",
   "id": "7818ecea-21ef-43cb-96e7-34a72754e74b",
   "metadata": {},
   "source": [
    "# `get_col_av_values`\n",
    "\n",
    "Get availible values in getted column. Makes different\n",
    "for numeric dtypes and others. \n",
    "For numeric dtypes returns range like \"[min, max]\".\n",
    "For non-numeric dtypes returns possible values. "
   ]
  },
  {
   "cell_type": "code",
   "execution_count": 5,
   "id": "e8015dd4-b4e1-4e0b-a77d-38fedd018042",
   "metadata": {},
   "outputs": [
    {
     "data": {
      "text/plain": [
       "dates_column                     [01.01.2017;27.02.2017]\n",
       "object_column                      lev1, lev2, nan, lev3\n",
       "category_column                    lev2, nan, lev1, lev3\n",
       "bool_column                             False, True, nan\n",
       "float_column       [2.6158986388590093;6.95890359809643]\n",
       "integer_column                                 [3.0;7.0]\n",
       "dtype: object"
      ]
     },
     "execution_count": 5,
     "metadata": {},
     "output_type": "execute_result"
    }
   ],
   "source": [
    "data.apply(get_col_av_values)"
   ]
  },
  {
   "cell_type": "markdown",
   "id": "7e8ad2b5-302a-41f1-ba0b-e550f63ccd75",
   "metadata": {},
   "source": [
    "# `get_col_obj_unique_count`\n",
    "\n",
    "For non-numeric pandas.Series, returns a count of unique values. \n",
    "For numeric variables returns \"-\"."
   ]
  },
  {
   "cell_type": "code",
   "execution_count": 6,
   "id": "4cfe2ee9-34e3-4962-9a8e-338cd160bf97",
   "metadata": {},
   "outputs": [
    {
     "data": {
      "text/plain": [
       "dates_column       -\n",
       "object_column      4\n",
       "category_column    4\n",
       "bool_column        3\n",
       "float_column       -\n",
       "integer_column     -\n",
       "dtype: object"
      ]
     },
     "execution_count": 6,
     "metadata": {},
     "output_type": "execute_result"
    }
   ],
   "source": [
    "data.apply(get_col_obj_unique_count)"
   ]
  },
  {
   "cell_type": "markdown",
   "id": "188fc78c-dd82-490a-97be-c7afd33ac1e2",
   "metadata": {},
   "source": [
    "# `get_Dran_col_descr`"
   ]
  },
  {
   "cell_type": "code",
   "execution_count": 7,
   "id": "c320355b-e5bb-42b9-93d3-5909f77b420f",
   "metadata": {},
   "outputs": [
    {
     "data": {
      "text/html": [
       "<div>\n",
       "<style scoped>\n",
       "    .dataframe tbody tr th:only-of-type {\n",
       "        vertical-align: middle;\n",
       "    }\n",
       "\n",
       "    .dataframe tbody tr th {\n",
       "        vertical-align: top;\n",
       "    }\n",
       "\n",
       "    .dataframe thead th {\n",
       "        text-align: right;\n",
       "    }\n",
       "</style>\n",
       "<table border=\"1\" class=\"dataframe\">\n",
       "  <thead>\n",
       "    <tr style=\"text-align: right;\">\n",
       "      <th></th>\n",
       "      <th>type</th>\n",
       "      <th>unique values</th>\n",
       "      <th>unique count</th>\n",
       "      <th>nan count</th>\n",
       "    </tr>\n",
       "  </thead>\n",
       "  <tbody>\n",
       "    <tr>\n",
       "      <th>dates_column</th>\n",
       "      <td>datetime64[ns]</td>\n",
       "      <td>[01.01.2017;27.02.2017]</td>\n",
       "      <td>-</td>\n",
       "      <td>20</td>\n",
       "    </tr>\n",
       "    <tr>\n",
       "      <th>object_column</th>\n",
       "      <td>object</td>\n",
       "      <td>lev1, lev2, nan, lev3</td>\n",
       "      <td>4</td>\n",
       "      <td>20</td>\n",
       "    </tr>\n",
       "    <tr>\n",
       "      <th>category_column</th>\n",
       "      <td>category</td>\n",
       "      <td>lev2, nan, lev1, lev3</td>\n",
       "      <td>4</td>\n",
       "      <td>20</td>\n",
       "    </tr>\n",
       "    <tr>\n",
       "      <th>bool_column</th>\n",
       "      <td>object</td>\n",
       "      <td>False, True, nan</td>\n",
       "      <td>3</td>\n",
       "      <td>20</td>\n",
       "    </tr>\n",
       "    <tr>\n",
       "      <th>float_column</th>\n",
       "      <td>float64</td>\n",
       "      <td>[2.6158986388590093;6.95890359809643]</td>\n",
       "      <td>-</td>\n",
       "      <td>20</td>\n",
       "    </tr>\n",
       "    <tr>\n",
       "      <th>integer_column</th>\n",
       "      <td>float64</td>\n",
       "      <td>[3.0;7.0]</td>\n",
       "      <td>-</td>\n",
       "      <td>20</td>\n",
       "    </tr>\n",
       "  </tbody>\n",
       "</table>\n",
       "</div>"
      ],
      "text/plain": [
       "                           type                          unique values  \\\n",
       "dates_column     datetime64[ns]                [01.01.2017;27.02.2017]   \n",
       "object_column            object                  lev1, lev2, nan, lev3   \n",
       "category_column        category                  lev2, nan, lev1, lev3   \n",
       "bool_column              object                       False, True, nan   \n",
       "float_column            float64  [2.6158986388590093;6.95890359809643]   \n",
       "integer_column          float64                              [3.0;7.0]   \n",
       "\n",
       "                unique count nan count  \n",
       "dates_column               -        20  \n",
       "object_column              4        20  \n",
       "category_column            4        20  \n",
       "bool_column                3        20  \n",
       "float_column               -        20  \n",
       "integer_column             -        20  "
      ]
     },
     "execution_count": 7,
     "metadata": {},
     "output_type": "execute_result"
    }
   ],
   "source": [
    "data.apply(get_Dran_col_descr).T"
   ]
  },
  {
   "cell_type": "markdown",
   "id": "1d4e754f-c274-45d8-ac2a-66e4574f6865",
   "metadata": {},
   "source": [
    "# `get_most_freq`\n",
    "\n",
    "Returns value from series which has the most frequent manifestation of the trait specified in cond."
   ]
  },
  {
   "cell_type": "code",
   "execution_count": 8,
   "id": "8e7487ec-4cb7-49d1-b5ff-574f8932f98c",
   "metadata": {},
   "outputs": [
    {
     "data": {
      "text/html": [
       "<div>\n",
       "<style scoped>\n",
       "    .dataframe tbody tr th:only-of-type {\n",
       "        vertical-align: middle;\n",
       "    }\n",
       "\n",
       "    .dataframe tbody tr th {\n",
       "        vertical-align: top;\n",
       "    }\n",
       "\n",
       "    .dataframe thead th {\n",
       "        text-align: right;\n",
       "    }\n",
       "</style>\n",
       "<table border=\"1\" class=\"dataframe\">\n",
       "  <thead>\n",
       "    <tr style=\"text-align: right;\">\n",
       "      <th>ob_class</th>\n",
       "      <th>0</th>\n",
       "      <th>1</th>\n",
       "    </tr>\n",
       "    <tr>\n",
       "      <th>object_column</th>\n",
       "      <th></th>\n",
       "      <th></th>\n",
       "    </tr>\n",
       "  </thead>\n",
       "  <tbody>\n",
       "    <tr>\n",
       "      <th>lev1</th>\n",
       "      <td>17</td>\n",
       "      <td>14</td>\n",
       "    </tr>\n",
       "    <tr>\n",
       "      <th>lev2</th>\n",
       "      <td>0</td>\n",
       "      <td>26</td>\n",
       "    </tr>\n",
       "    <tr>\n",
       "      <th>lev3</th>\n",
       "      <td>12</td>\n",
       "      <td>11</td>\n",
       "    </tr>\n",
       "  </tbody>\n",
       "</table>\n",
       "</div>"
      ],
      "text/plain": [
       "ob_class        0   1\n",
       "object_column        \n",
       "lev1           17  14\n",
       "lev2            0  26\n",
       "lev3           12  11"
      ]
     },
     "execution_count": 8,
     "metadata": {},
     "output_type": "execute_result"
    }
   ],
   "source": [
    "data[\"ob_class\"] = data[\"object_column\"].apply(\n",
    "    lambda x: np.random.choice([0,1], p = [0, 1]) \\\n",
    "    if x == 'lev2' else\\\n",
    "    np.random.choice([0,1], p = [0.5, 0.5])\n",
    ")\n",
    "\n",
    "pd.crosstab(data['object_column'], data['ob_class'])"
   ]
  },
  {
   "cell_type": "code",
   "execution_count": 9,
   "id": "35b76847-822d-4436-b015-0952b51fbf1e",
   "metadata": {},
   "outputs": [
    {
     "data": {
      "text/plain": [
       "'lev1'"
      ]
     },
     "execution_count": 9,
     "metadata": {},
     "output_type": "execute_result"
    }
   ],
   "source": [
    "get_most_freq_by_cond(data['object_column'], data[\"ob_class\"] == 0)"
   ]
  },
  {
   "cell_type": "markdown",
   "id": "8c7579ad-8dad-4ea5-9429-4ce9eaee67ee",
   "metadata": {},
   "source": [
    "# `ECDFs_by_classes`"
   ]
  },
  {
   "cell_type": "code",
   "execution_count": 10,
   "id": "508dc3a1-3637-4cfe-bfd2-8d5d396bc80b",
   "metadata": {},
   "outputs": [],
   "source": [
    "val = np.array([0, 1, 2, 3])\n",
    "marker = np.array([\"a\", \"b\", \"a\", \"b\"])"
   ]
  },
  {
   "cell_type": "markdown",
   "id": "12d28cdc-51e8-4b44-9c66-657bbc27a08f",
   "metadata": {},
   "source": [
    "### *Default*\n",
    "\n",
    "By default, the function takes a series to build the ecdf and a row that divides the observations into classes."
   ]
  },
  {
   "cell_type": "code",
   "execution_count": 11,
   "id": "a1672335-ed58-4fa5-92a1-99c5ff73e93a",
   "metadata": {},
   "outputs": [
    {
     "data": {
      "text/plain": [
       "{'a': array([0.5, 0.5, 1. , 1. ]), 'b': array([0. , 0.5, 0.5, 1. ])}"
      ]
     },
     "execution_count": 11,
     "metadata": {},
     "output_type": "execute_result"
    }
   ],
   "source": [
    "ECDFs_by_classes(val, marker)"
   ]
  },
  {
   "cell_type": "markdown",
   "id": "9ca80dc1-c684-4693-9572-7cbdd0fe4725",
   "metadata": {},
   "source": [
    "### *`side`*\n",
    "\n",
    "`side` argument is similar to the value of this argument in <a href=\"https://www.statsmodels.org/dev/generated/statsmodels.distributions.empirical_distribution.ECDF.html\">Statsmodels</a>. Takes `'right'` by default."
   ]
  },
  {
   "cell_type": "markdown",
   "id": "217759a2-9e65-40a6-a559-5f13ed16ab96",
   "metadata": {},
   "source": [
    "Can take values `left` or `right` as strings. In this case all result functions will have relevant `side`."
   ]
  },
  {
   "cell_type": "code",
   "execution_count": 12,
   "id": "81d32ace-7581-4677-841b-1d1c87c0383e",
   "metadata": {},
   "outputs": [
    {
     "data": {
      "text/plain": [
       "{'a': array([0. , 0.5, 0.5, 1. ]), 'b': array([0. , 0. , 0.5, 0.5])}"
      ]
     },
     "execution_count": 12,
     "metadata": {},
     "output_type": "execute_result"
    }
   ],
   "source": [
    "ECDFs_by_classes(\n",
    "    val, marker, side= \"left\"\n",
    ")"
   ]
  },
  {
   "cell_type": "markdown",
   "id": "336d022a-50e1-4f83-8bc1-8e250a88cbca",
   "metadata": {},
   "source": [
    "If `list` used as a value of `side` then ecdf takes the corresponding `side` value for each class."
   ]
  },
  {
   "cell_type": "code",
   "execution_count": 13,
   "id": "de92a73a-4089-402a-a02e-95ed249cce2e",
   "metadata": {},
   "outputs": [
    {
     "data": {
      "text/plain": [
       "{'a': array([0.5, 0.5, 1. , 1. ]), 'b': array([0. , 0. , 0.5, 0.5])}"
      ]
     },
     "execution_count": 13,
     "metadata": {},
     "output_type": "execute_result"
    }
   ],
   "source": [
    "ECDFs_by_classes(\n",
    "    val, marker, side = [\"right\", \"left\"]\n",
    ")"
   ]
  },
  {
   "cell_type": "markdown",
   "id": "bc26bfb5-30cb-4dd1-ab04-9a4b5becff74",
   "metadata": {},
   "source": [
    "### `functions`\n",
    "\n",
    "Possible values:\n",
    "- `True` means that as a result, will be `statsmodels.distributions.empirical_distribution.ECDF` instances;\n",
    "- `False` means that as a result, will be `numpy.array` instances which contains value of ecdf in each point of the `val_col`.\n",
    "\n",
    "By default `False`."
   ]
  },
  {
   "cell_type": "code",
   "execution_count": 14,
   "id": "0cb0c910-093d-40c0-8018-08dc8276a2ab",
   "metadata": {},
   "outputs": [
    {
     "data": {
      "text/plain": [
       "{'a': <statsmodels.distributions.empirical_distribution.ECDF at 0x7fc2f1a83a10>,\n",
       " 'b': <statsmodels.distributions.empirical_distribution.ECDF at 0x7fc2f1a98fd0>}"
      ]
     },
     "execution_count": 14,
     "metadata": {},
     "output_type": "execute_result"
    }
   ],
   "source": [
    "ECDFs_by_classes(\n",
    "    val, marker, functions = True\n",
    ")"
   ]
  },
  {
   "attachments": {},
   "cell_type": "markdown",
   "id": "5b3e816d",
   "metadata": {},
   "source": [
    "# `conf_table`\n",
    "\n",
    "Returns table that contains the information from confusion\n",
    "matrix, but for given thresholds."
   ]
  },
  {
   "cell_type": "code",
   "execution_count": 23,
   "id": "ff63742b",
   "metadata": {},
   "outputs": [
    {
     "data": {
      "text/html": [
       "<div>\n",
       "<style scoped>\n",
       "    .dataframe tbody tr th:only-of-type {\n",
       "        vertical-align: middle;\n",
       "    }\n",
       "\n",
       "    .dataframe tbody tr th {\n",
       "        vertical-align: top;\n",
       "    }\n",
       "\n",
       "    .dataframe thead th {\n",
       "        text-align: right;\n",
       "    }\n",
       "</style>\n",
       "<table border=\"1\" class=\"dataframe\">\n",
       "  <thead>\n",
       "    <tr style=\"text-align: right;\">\n",
       "      <th></th>\n",
       "      <th>TN</th>\n",
       "      <th>FP</th>\n",
       "      <th>FN</th>\n",
       "      <th>TP</th>\n",
       "      <th>TNR</th>\n",
       "      <th>FPR</th>\n",
       "      <th>FNR</th>\n",
       "      <th>TPR</th>\n",
       "    </tr>\n",
       "    <tr>\n",
       "      <th>treshold</th>\n",
       "      <th></th>\n",
       "      <th></th>\n",
       "      <th></th>\n",
       "      <th></th>\n",
       "      <th></th>\n",
       "      <th></th>\n",
       "      <th></th>\n",
       "      <th></th>\n",
       "    </tr>\n",
       "  </thead>\n",
       "  <tbody>\n",
       "    <tr>\n",
       "      <th>0.0</th>\n",
       "      <td>1</td>\n",
       "      <td>4</td>\n",
       "      <td>0</td>\n",
       "      <td>5</td>\n",
       "      <td>0.2</td>\n",
       "      <td>0.8</td>\n",
       "      <td>0.0</td>\n",
       "      <td>1.0</td>\n",
       "    </tr>\n",
       "    <tr>\n",
       "      <th>0.1</th>\n",
       "      <td>2</td>\n",
       "      <td>3</td>\n",
       "      <td>0</td>\n",
       "      <td>5</td>\n",
       "      <td>0.4</td>\n",
       "      <td>0.6</td>\n",
       "      <td>0.0</td>\n",
       "      <td>1.0</td>\n",
       "    </tr>\n",
       "    <tr>\n",
       "      <th>0.2</th>\n",
       "      <td>3</td>\n",
       "      <td>2</td>\n",
       "      <td>0</td>\n",
       "      <td>5</td>\n",
       "      <td>0.6</td>\n",
       "      <td>0.4</td>\n",
       "      <td>0.0</td>\n",
       "      <td>1.0</td>\n",
       "    </tr>\n",
       "    <tr>\n",
       "      <th>0.3</th>\n",
       "      <td>3</td>\n",
       "      <td>2</td>\n",
       "      <td>1</td>\n",
       "      <td>4</td>\n",
       "      <td>0.6</td>\n",
       "      <td>0.4</td>\n",
       "      <td>0.2</td>\n",
       "      <td>0.8</td>\n",
       "    </tr>\n",
       "    <tr>\n",
       "      <th>0.4</th>\n",
       "      <td>4</td>\n",
       "      <td>1</td>\n",
       "      <td>1</td>\n",
       "      <td>4</td>\n",
       "      <td>0.8</td>\n",
       "      <td>0.2</td>\n",
       "      <td>0.2</td>\n",
       "      <td>0.8</td>\n",
       "    </tr>\n",
       "    <tr>\n",
       "      <th>0.5</th>\n",
       "      <td>4</td>\n",
       "      <td>1</td>\n",
       "      <td>2</td>\n",
       "      <td>3</td>\n",
       "      <td>0.8</td>\n",
       "      <td>0.2</td>\n",
       "      <td>0.4</td>\n",
       "      <td>0.6</td>\n",
       "    </tr>\n",
       "    <tr>\n",
       "      <th>0.6</th>\n",
       "      <td>5</td>\n",
       "      <td>0</td>\n",
       "      <td>2</td>\n",
       "      <td>3</td>\n",
       "      <td>1.0</td>\n",
       "      <td>0.0</td>\n",
       "      <td>0.4</td>\n",
       "      <td>0.6</td>\n",
       "    </tr>\n",
       "    <tr>\n",
       "      <th>0.7</th>\n",
       "      <td>5</td>\n",
       "      <td>0</td>\n",
       "      <td>3</td>\n",
       "      <td>2</td>\n",
       "      <td>1.0</td>\n",
       "      <td>0.0</td>\n",
       "      <td>0.6</td>\n",
       "      <td>0.4</td>\n",
       "    </tr>\n",
       "    <tr>\n",
       "      <th>0.8</th>\n",
       "      <td>5</td>\n",
       "      <td>0</td>\n",
       "      <td>4</td>\n",
       "      <td>1</td>\n",
       "      <td>1.0</td>\n",
       "      <td>0.0</td>\n",
       "      <td>0.8</td>\n",
       "      <td>0.2</td>\n",
       "    </tr>\n",
       "    <tr>\n",
       "      <th>0.9</th>\n",
       "      <td>5</td>\n",
       "      <td>0</td>\n",
       "      <td>5</td>\n",
       "      <td>0</td>\n",
       "      <td>1.0</td>\n",
       "      <td>0.0</td>\n",
       "      <td>1.0</td>\n",
       "      <td>0.0</td>\n",
       "    </tr>\n",
       "  </tbody>\n",
       "</table>\n",
       "</div>"
      ],
      "text/plain": [
       "          TN  FP  FN  TP  TNR  FPR  FNR  TPR\n",
       "treshold                                    \n",
       "0.0        1   4   0   5  0.2  0.8  0.0  1.0\n",
       "0.1        2   3   0   5  0.4  0.6  0.0  1.0\n",
       "0.2        3   2   0   5  0.6  0.4  0.0  1.0\n",
       "0.3        3   2   1   4  0.6  0.4  0.2  0.8\n",
       "0.4        4   1   1   4  0.8  0.2  0.2  0.8\n",
       "0.5        4   1   2   3  0.8  0.2  0.4  0.6\n",
       "0.6        5   0   2   3  1.0  0.0  0.4  0.6\n",
       "0.7        5   0   3   2  1.0  0.0  0.6  0.4\n",
       "0.8        5   0   4   1  1.0  0.0  0.8  0.2\n",
       "0.9        5   0   5   0  1.0  0.0  1.0  0.0"
      ]
     },
     "execution_count": 23,
     "metadata": {},
     "output_type": "execute_result"
    }
   ],
   "source": [
    "np.random.seed(5)\n",
    "y_pred = np.arange(0, 1, 0.1)\n",
    "y_true = np.array([0,0,0,1,0,1,0,1,1,1])\n",
    "\n",
    "conf_table(y_true, y_pred)"
   ]
  },
  {
   "attachments": {},
   "cell_type": "markdown",
   "id": "91d996f1",
   "metadata": {},
   "source": [
    "Rename rules, is dicts with typical rename conditions for table which `conf_table` returns:\n",
    "- `ru_scoring_rename_rule` - typical naming for credit scoring task in russian;"
   ]
  },
  {
   "cell_type": "code",
   "execution_count": 24,
   "id": "620257bc",
   "metadata": {},
   "outputs": [
    {
     "data": {
      "text/html": [
       "<div>\n",
       "<style scoped>\n",
       "    .dataframe tbody tr th:only-of-type {\n",
       "        vertical-align: middle;\n",
       "    }\n",
       "\n",
       "    .dataframe tbody tr th {\n",
       "        vertical-align: top;\n",
       "    }\n",
       "\n",
       "    .dataframe thead th {\n",
       "        text-align: right;\n",
       "    }\n",
       "</style>\n",
       "<table border=\"1\" class=\"dataframe\">\n",
       "  <thead>\n",
       "    <tr style=\"text-align: right;\">\n",
       "      <th></th>\n",
       "      <th>Верно выданные (шт.)</th>\n",
       "      <th>Ошибочно удержанные (шт.)</th>\n",
       "      <th>Ошибочно выданные (шт.)</th>\n",
       "      <th>Верно удержанные (шт.)</th>\n",
       "      <th>Верно выданные (% от хороших)</th>\n",
       "      <th>Ошибочно удержанные (% от хороших)</th>\n",
       "      <th>Ошибочно выданные (% от дефолта)</th>\n",
       "      <th>Верно удержанные (% от дефолта)</th>\n",
       "    </tr>\n",
       "    <tr>\n",
       "      <th>treshold</th>\n",
       "      <th></th>\n",
       "      <th></th>\n",
       "      <th></th>\n",
       "      <th></th>\n",
       "      <th></th>\n",
       "      <th></th>\n",
       "      <th></th>\n",
       "      <th></th>\n",
       "    </tr>\n",
       "  </thead>\n",
       "  <tbody>\n",
       "    <tr>\n",
       "      <th>0.0</th>\n",
       "      <td>1</td>\n",
       "      <td>4</td>\n",
       "      <td>0</td>\n",
       "      <td>5</td>\n",
       "      <td>0.2</td>\n",
       "      <td>0.8</td>\n",
       "      <td>0.0</td>\n",
       "      <td>1.0</td>\n",
       "    </tr>\n",
       "    <tr>\n",
       "      <th>0.1</th>\n",
       "      <td>2</td>\n",
       "      <td>3</td>\n",
       "      <td>0</td>\n",
       "      <td>5</td>\n",
       "      <td>0.4</td>\n",
       "      <td>0.6</td>\n",
       "      <td>0.0</td>\n",
       "      <td>1.0</td>\n",
       "    </tr>\n",
       "    <tr>\n",
       "      <th>0.2</th>\n",
       "      <td>3</td>\n",
       "      <td>2</td>\n",
       "      <td>0</td>\n",
       "      <td>5</td>\n",
       "      <td>0.6</td>\n",
       "      <td>0.4</td>\n",
       "      <td>0.0</td>\n",
       "      <td>1.0</td>\n",
       "    </tr>\n",
       "    <tr>\n",
       "      <th>0.3</th>\n",
       "      <td>3</td>\n",
       "      <td>2</td>\n",
       "      <td>1</td>\n",
       "      <td>4</td>\n",
       "      <td>0.6</td>\n",
       "      <td>0.4</td>\n",
       "      <td>0.2</td>\n",
       "      <td>0.8</td>\n",
       "    </tr>\n",
       "    <tr>\n",
       "      <th>0.4</th>\n",
       "      <td>4</td>\n",
       "      <td>1</td>\n",
       "      <td>1</td>\n",
       "      <td>4</td>\n",
       "      <td>0.8</td>\n",
       "      <td>0.2</td>\n",
       "      <td>0.2</td>\n",
       "      <td>0.8</td>\n",
       "    </tr>\n",
       "    <tr>\n",
       "      <th>0.5</th>\n",
       "      <td>4</td>\n",
       "      <td>1</td>\n",
       "      <td>2</td>\n",
       "      <td>3</td>\n",
       "      <td>0.8</td>\n",
       "      <td>0.2</td>\n",
       "      <td>0.4</td>\n",
       "      <td>0.6</td>\n",
       "    </tr>\n",
       "    <tr>\n",
       "      <th>0.6</th>\n",
       "      <td>5</td>\n",
       "      <td>0</td>\n",
       "      <td>2</td>\n",
       "      <td>3</td>\n",
       "      <td>1.0</td>\n",
       "      <td>0.0</td>\n",
       "      <td>0.4</td>\n",
       "      <td>0.6</td>\n",
       "    </tr>\n",
       "    <tr>\n",
       "      <th>0.7</th>\n",
       "      <td>5</td>\n",
       "      <td>0</td>\n",
       "      <td>3</td>\n",
       "      <td>2</td>\n",
       "      <td>1.0</td>\n",
       "      <td>0.0</td>\n",
       "      <td>0.6</td>\n",
       "      <td>0.4</td>\n",
       "    </tr>\n",
       "    <tr>\n",
       "      <th>0.8</th>\n",
       "      <td>5</td>\n",
       "      <td>0</td>\n",
       "      <td>4</td>\n",
       "      <td>1</td>\n",
       "      <td>1.0</td>\n",
       "      <td>0.0</td>\n",
       "      <td>0.8</td>\n",
       "      <td>0.2</td>\n",
       "    </tr>\n",
       "    <tr>\n",
       "      <th>0.9</th>\n",
       "      <td>5</td>\n",
       "      <td>0</td>\n",
       "      <td>5</td>\n",
       "      <td>0</td>\n",
       "      <td>1.0</td>\n",
       "      <td>0.0</td>\n",
       "      <td>1.0</td>\n",
       "      <td>0.0</td>\n",
       "    </tr>\n",
       "  </tbody>\n",
       "</table>\n",
       "</div>"
      ],
      "text/plain": [
       "          Верно выданные (шт.)  Ошибочно удержанные (шт.)  \\\n",
       "treshold                                                    \n",
       "0.0                          1                          4   \n",
       "0.1                          2                          3   \n",
       "0.2                          3                          2   \n",
       "0.3                          3                          2   \n",
       "0.4                          4                          1   \n",
       "0.5                          4                          1   \n",
       "0.6                          5                          0   \n",
       "0.7                          5                          0   \n",
       "0.8                          5                          0   \n",
       "0.9                          5                          0   \n",
       "\n",
       "          Ошибочно выданные (шт.)  Верно удержанные (шт.)  \\\n",
       "treshold                                                    \n",
       "0.0                             0                       5   \n",
       "0.1                             0                       5   \n",
       "0.2                             0                       5   \n",
       "0.3                             1                       4   \n",
       "0.4                             1                       4   \n",
       "0.5                             2                       3   \n",
       "0.6                             2                       3   \n",
       "0.7                             3                       2   \n",
       "0.8                             4                       1   \n",
       "0.9                             5                       0   \n",
       "\n",
       "          Верно выданные (% от хороших)  Ошибочно удержанные (% от хороших)  \\\n",
       "treshold                                                                      \n",
       "0.0                                 0.2                                 0.8   \n",
       "0.1                                 0.4                                 0.6   \n",
       "0.2                                 0.6                                 0.4   \n",
       "0.3                                 0.6                                 0.4   \n",
       "0.4                                 0.8                                 0.2   \n",
       "0.5                                 0.8                                 0.2   \n",
       "0.6                                 1.0                                 0.0   \n",
       "0.7                                 1.0                                 0.0   \n",
       "0.8                                 1.0                                 0.0   \n",
       "0.9                                 1.0                                 0.0   \n",
       "\n",
       "          Ошибочно выданные (% от дефолта)  Верно удержанные (% от дефолта)  \n",
       "treshold                                                                     \n",
       "0.0                                    0.0                              1.0  \n",
       "0.1                                    0.0                              1.0  \n",
       "0.2                                    0.0                              1.0  \n",
       "0.3                                    0.2                              0.8  \n",
       "0.4                                    0.2                              0.8  \n",
       "0.5                                    0.4                              0.6  \n",
       "0.6                                    0.4                              0.6  \n",
       "0.7                                    0.6                              0.4  \n",
       "0.8                                    0.8                              0.2  \n",
       "0.9                                    1.0                              0.0  "
      ]
     },
     "execution_count": 24,
     "metadata": {},
     "output_type": "execute_result"
    }
   ],
   "source": [
    "conf_table(y_true, y_pred).rename(columns = ru_scoring_rename_rule)"
   ]
  }
 ],
 "metadata": {
  "kernelspec": {
   "display_name": "Python 3",
   "language": "python",
   "name": "python3"
  },
  "language_info": {
   "codemirror_mode": {
    "name": "ipython",
    "version": 3
   },
   "file_extension": ".py",
   "mimetype": "text/x-python",
   "name": "python",
   "nbconvert_exporter": "python",
   "pygments_lexer": "ipython3",
   "version": "3.11.2"
  },
  "vscode": {
   "interpreter": {
    "hash": "e7370f93d1d0cde622a1f8e1c04877d8463912d04d973331ad4851f04de6915a"
   }
  }
 },
 "nbformat": 4,
 "nbformat_minor": 5
}
