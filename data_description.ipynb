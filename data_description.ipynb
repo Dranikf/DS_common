{
 "cells": [
  {
   "cell_type": "markdown",
   "id": "05611658-bf9d-4257-921c-3931b6e96928",
   "metadata": {},
   "source": [
    "# Examples of using fuction in \"data_description.py\""
   ]
  },
  {
   "cell_type": "code",
   "execution_count": 1,
   "id": "b2b361ec-aed8-4dca-9244-3a85deafb02e",
   "metadata": {},
   "outputs": [],
   "source": [
    "import pandas as pd\n",
    "import numpy as np\n",
    "from data_description import *"
   ]
  },
  {
   "cell_type": "markdown",
   "id": "bf1964f4-bdd5-4bc8-ba1a-b9169501f54f",
   "metadata": {},
   "source": [
    "# Creation an exmples data frame"
   ]
  },
  {
   "cell_type": "code",
   "execution_count": 2,
   "id": "57d1455d-ccb6-4c69-9632-b4e0cd20fa96",
   "metadata": {},
   "outputs": [],
   "source": [
    "frame_size = 100\n",
    "\n",
    "data = pd.DataFrame({\n",
    "    'dates_column' : np.datetime64('2017-01-01') + np.random.choice(np.arange(0, 60), frame_size),\n",
    "    'object_column' : np.random.choice(['lev1', 'lev2', 'lev3'], frame_size),\n",
    "    'category_column' : pd.Series(np.random.choice(['lev1', 'lev2', 'lev3'], frame_size), dtype = \"category\"),\n",
    "    'bool_column' : np.random.choice([True, False], frame_size),\n",
    "    'float_column' : np.random.normal(5, 1, frame_size),\n",
    "    'integer_column' : np.random.normal(5, 1, frame_size).astype('int64')\n",
    "})"
   ]
  },
  {
   "cell_type": "markdown",
   "id": "7818ecea-21ef-43cb-96e7-34a72754e74b",
   "metadata": {},
   "source": [
    "# Testing of \"get_col_av_values\" function"
   ]
  },
  {
   "cell_type": "code",
   "execution_count": 4,
   "id": "e8015dd4-b4e1-4e0b-a77d-38fedd018042",
   "metadata": {},
   "outputs": [
    {
     "data": {
      "text/plain": [
       "dates_column                      [02.01.2017;01.03.2017]\n",
       "object_column                            lev3, lev2, lev1\n",
       "category_column                          lev2, lev1, lev3\n",
       "bool_column                                  [False;True]\n",
       "float_column       [2.9027224869030603;7.477903928808866]\n",
       "integer_column                                      [1;7]\n",
       "dtype: object"
      ]
     },
     "execution_count": 4,
     "metadata": {},
     "output_type": "execute_result"
    }
   ],
   "source": [
    "data.apply(get_col_av_values)"
   ]
  },
  {
   "cell_type": "code",
   "execution_count": null,
   "id": "c2c26372-c37c-4a47-a388-cc0e9ad060f1",
   "metadata": {},
   "outputs": [],
   "source": []
  }
 ],
 "metadata": {
  "kernelspec": {
   "display_name": "Python 3 (ipykernel)",
   "language": "python",
   "name": "python3"
  },
  "language_info": {
   "codemirror_mode": {
    "name": "ipython",
    "version": 3
   },
   "file_extension": ".py",
   "mimetype": "text/x-python",
   "name": "python",
   "nbconvert_exporter": "python",
   "pygments_lexer": "ipython3",
   "version": "3.10.0"
  }
 },
 "nbformat": 4,
 "nbformat_minor": 5
}
