{
 "cells": [
  {
   "cell_type": "markdown",
   "id": "05611658-bf9d-4257-921c-3931b6e96928",
   "metadata": {},
   "source": [
    "# Examples of using fuction in \"data_description.py\""
   ]
  },
  {
   "cell_type": "code",
   "execution_count": 1,
   "id": "b2b361ec-aed8-4dca-9244-3a85deafb02e",
   "metadata": {},
   "outputs": [],
   "source": [
    "import pandas as pd\n",
    "import numpy as np\n",
    "from data_description import *"
   ]
  },
  {
   "cell_type": "markdown",
   "id": "bf1964f4-bdd5-4bc8-ba1a-b9169501f54f",
   "metadata": {},
   "source": [
    "# Creation an exmples data frame"
   ]
  },
  {
   "cell_type": "code",
   "execution_count": 2,
   "id": "57d1455d-ccb6-4c69-9632-b4e0cd20fa96",
   "metadata": {},
   "outputs": [],
   "source": [
    "frame_size = 100\n",
    "\n",
    "data = pd.DataFrame({\n",
    "    'dates_column' : np.datetime64('2017-01-01') + np.random.choice(np.arange(0, 60), frame_size),\n",
    "    'object_column' : np.random.choice(['lev1', 'lev2', 'lev3'], frame_size),\n",
    "    'category_column' : pd.Series(np.random.choice(['lev1', 'lev2', 'lev3'], frame_size), dtype = \"category\"),\n",
    "    'bool_column' : np.random.choice([True, False], frame_size),\n",
    "    'float_column' : np.random.normal(5, 1, frame_size),\n",
    "    'integer_column' : np.random.normal(5, 1, frame_size).astype('int64')\n",
    "})\n",
    "\n",
    "for col_name in data.columns:\n",
    "    data.loc[data.sample(20).index, col_name] = np.NaN"
   ]
  },
  {
   "cell_type": "markdown",
   "id": "7818ecea-21ef-43cb-96e7-34a72754e74b",
   "metadata": {},
   "source": [
    "# get_col_av_values"
   ]
  },
  {
   "cell_type": "code",
   "execution_count": 3,
   "id": "e8015dd4-b4e1-4e0b-a77d-38fedd018042",
   "metadata": {},
   "outputs": [
    {
     "data": {
      "text/plain": [
       "dates_column                      [01.01.2017;01.03.2017]\n",
       "object_column                       nan, lev1, lev3, lev2\n",
       "category_column                     lev2, lev3, nan, lev1\n",
       "bool_column                              nan, False, True\n",
       "float_column       [2.6776571136470233;7.933870714929562]\n",
       "integer_column                                  [2.0;7.0]\n",
       "dtype: object"
      ]
     },
     "execution_count": 3,
     "metadata": {},
     "output_type": "execute_result"
    }
   ],
   "source": [
    "data.apply(get_col_av_values)"
   ]
  },
  {
   "cell_type": "markdown",
   "id": "7e8ad2b5-302a-41f1-ba0b-e550f63ccd75",
   "metadata": {},
   "source": [
    "# get_col_obj_count"
   ]
  },
  {
   "cell_type": "code",
   "execution_count": 4,
   "id": "4cfe2ee9-34e3-4962-9a8e-338cd160bf97",
   "metadata": {},
   "outputs": [
    {
     "data": {
      "text/plain": [
       "dates_column       -\n",
       "object_column      4\n",
       "category_column    4\n",
       "bool_column        3\n",
       "float_column       -\n",
       "integer_column     -\n",
       "dtype: object"
      ]
     },
     "execution_count": 4,
     "metadata": {},
     "output_type": "execute_result"
    }
   ],
   "source": [
    "data.apply(get_col_obj_count)"
   ]
  },
  {
   "cell_type": "markdown",
   "id": "188fc78c-dd82-490a-97be-c7afd33ac1e2",
   "metadata": {},
   "source": [
    "# get_columns_desription"
   ]
  },
  {
   "cell_type": "code",
   "execution_count": 5,
   "id": "495e0b96-1896-44d9-8fe6-a8ac94c440a9",
   "metadata": {},
   "outputs": [
    {
     "data": {
      "text/html": [
       "<div>\n",
       "<style scoped>\n",
       "    .dataframe tbody tr th:only-of-type {\n",
       "        vertical-align: middle;\n",
       "    }\n",
       "\n",
       "    .dataframe tbody tr th {\n",
       "        vertical-align: top;\n",
       "    }\n",
       "\n",
       "    .dataframe thead th {\n",
       "        text-align: right;\n",
       "    }\n",
       "</style>\n",
       "<table border=\"1\" class=\"dataframe\">\n",
       "  <thead>\n",
       "    <tr style=\"text-align: right;\">\n",
       "      <th></th>\n",
       "      <th>Data type</th>\n",
       "      <th>Range</th>\n",
       "      <th>Levels number</th>\n",
       "      <th>NA count</th>\n",
       "    </tr>\n",
       "  </thead>\n",
       "  <tbody>\n",
       "    <tr>\n",
       "      <th>dates_column</th>\n",
       "      <td>datetime64[ns]</td>\n",
       "      <td>[01.01.2017;01.03.2017]</td>\n",
       "      <td>-</td>\n",
       "      <td>20</td>\n",
       "    </tr>\n",
       "    <tr>\n",
       "      <th>object_column</th>\n",
       "      <td>object</td>\n",
       "      <td>nan, lev1, lev3, lev2</td>\n",
       "      <td>4</td>\n",
       "      <td>20</td>\n",
       "    </tr>\n",
       "    <tr>\n",
       "      <th>category_column</th>\n",
       "      <td>category</td>\n",
       "      <td>lev2, lev3, nan, lev1</td>\n",
       "      <td>4</td>\n",
       "      <td>20</td>\n",
       "    </tr>\n",
       "    <tr>\n",
       "      <th>bool_column</th>\n",
       "      <td>object</td>\n",
       "      <td>nan, False, True</td>\n",
       "      <td>3</td>\n",
       "      <td>20</td>\n",
       "    </tr>\n",
       "    <tr>\n",
       "      <th>float_column</th>\n",
       "      <td>float64</td>\n",
       "      <td>[2.6776571136470233;7.933870714929562]</td>\n",
       "      <td>-</td>\n",
       "      <td>20</td>\n",
       "    </tr>\n",
       "    <tr>\n",
       "      <th>integer_column</th>\n",
       "      <td>float64</td>\n",
       "      <td>[2.0;7.0]</td>\n",
       "      <td>-</td>\n",
       "      <td>20</td>\n",
       "    </tr>\n",
       "  </tbody>\n",
       "</table>\n",
       "</div>"
      ],
      "text/plain": [
       "                      Data type                                   Range  \\\n",
       "dates_column     datetime64[ns]                 [01.01.2017;01.03.2017]   \n",
       "object_column            object                   nan, lev1, lev3, lev2   \n",
       "category_column        category                   lev2, lev3, nan, lev1   \n",
       "bool_column              object                        nan, False, True   \n",
       "float_column            float64  [2.6776571136470233;7.933870714929562]   \n",
       "integer_column          float64                               [2.0;7.0]   \n",
       "\n",
       "                Levels number NA count  \n",
       "dates_column                -       20  \n",
       "object_column               4       20  \n",
       "category_column             4       20  \n",
       "bool_column                 3       20  \n",
       "float_column                -       20  \n",
       "integer_column              -       20  "
      ]
     },
     "execution_count": 5,
     "metadata": {},
     "output_type": "execute_result"
    }
   ],
   "source": [
    "get_columns_desription(data)"
   ]
  },
  {
   "cell_type": "markdown",
   "id": "1d4e754f-c274-45d8-ac2a-66e4574f6865",
   "metadata": {},
   "source": [
    "# get_most_freq\n",
    "\n",
    "Returns value from series which has the most frequent manifestation of the trait specified in cond."
   ]
  },
  {
   "cell_type": "code",
   "execution_count": 6,
   "id": "8e7487ec-4cb7-49d1-b5ff-574f8932f98c",
   "metadata": {},
   "outputs": [
    {
     "data": {
      "text/html": [
       "<div>\n",
       "<style scoped>\n",
       "    .dataframe tbody tr th:only-of-type {\n",
       "        vertical-align: middle;\n",
       "    }\n",
       "\n",
       "    .dataframe tbody tr th {\n",
       "        vertical-align: top;\n",
       "    }\n",
       "\n",
       "    .dataframe thead th {\n",
       "        text-align: right;\n",
       "    }\n",
       "</style>\n",
       "<table border=\"1\" class=\"dataframe\">\n",
       "  <thead>\n",
       "    <tr style=\"text-align: right;\">\n",
       "      <th>ob_class</th>\n",
       "      <th>0</th>\n",
       "      <th>1</th>\n",
       "    </tr>\n",
       "    <tr>\n",
       "      <th>object_column</th>\n",
       "      <th></th>\n",
       "      <th></th>\n",
       "    </tr>\n",
       "  </thead>\n",
       "  <tbody>\n",
       "    <tr>\n",
       "      <th>lev1</th>\n",
       "      <td>12</td>\n",
       "      <td>16</td>\n",
       "    </tr>\n",
       "    <tr>\n",
       "      <th>lev2</th>\n",
       "      <td>0</td>\n",
       "      <td>30</td>\n",
       "    </tr>\n",
       "    <tr>\n",
       "      <th>lev3</th>\n",
       "      <td>12</td>\n",
       "      <td>10</td>\n",
       "    </tr>\n",
       "  </tbody>\n",
       "</table>\n",
       "</div>"
      ],
      "text/plain": [
       "ob_class        0   1\n",
       "object_column        \n",
       "lev1           12  16\n",
       "lev2            0  30\n",
       "lev3           12  10"
      ]
     },
     "execution_count": 6,
     "metadata": {},
     "output_type": "execute_result"
    }
   ],
   "source": [
    "data[\"ob_class\"] = data[\"object_column\"].apply(\n",
    "    lambda x: np.random.choice([0,1], p = [0, 1]) \\\n",
    "    if x == 'lev2' else\\\n",
    "    np.random.choice([0,1], p = [0.5, 0.5])\n",
    ")\n",
    "\n",
    "pd.crosstab(data['object_column'], data['ob_class'])"
   ]
  },
  {
   "cell_type": "code",
   "execution_count": 7,
   "id": "35b76847-822d-4436-b015-0952b51fbf1e",
   "metadata": {},
   "outputs": [
    {
     "data": {
      "text/plain": [
       "'lev3'"
      ]
     },
     "execution_count": 7,
     "metadata": {},
     "output_type": "execute_result"
    }
   ],
   "source": [
    "get_most_freq_by_cond(data['object_column'], data[\"ob_class\"] == 0)"
   ]
  },
  {
   "cell_type": "markdown",
   "id": "4878ce9c-7a99-4041-ae4d-80424c4f6e65",
   "metadata": {},
   "source": [
    "# super_crosstab\n",
    "\n",
    "Improvement of `pandas.crosstab` method - allows to get absolute and normalized tables with one object at once."
   ]
  },
  {
   "cell_type": "code",
   "execution_count": 22,
   "id": "dbc619dd-9fb2-4f24-a848-b8c502fa49a3",
   "metadata": {},
   "outputs": [
    {
     "data": {
      "text/html": [
       "<div>\n",
       "<style scoped>\n",
       "    .dataframe tbody tr th:only-of-type {\n",
       "        vertical-align: middle;\n",
       "    }\n",
       "\n",
       "    .dataframe tbody tr th {\n",
       "        vertical-align: top;\n",
       "    }\n",
       "\n",
       "    .dataframe thead th {\n",
       "        text-align: right;\n",
       "    }\n",
       "</style>\n",
       "<table border=\"1\" class=\"dataframe\">\n",
       "  <thead>\n",
       "    <tr style=\"text-align: right;\">\n",
       "      <th>col_0</th>\n",
       "      <th>3</th>\n",
       "      <th>4</th>\n",
       "      <th>3</th>\n",
       "      <th>4</th>\n",
       "    </tr>\n",
       "    <tr>\n",
       "      <th>row_0</th>\n",
       "      <th></th>\n",
       "      <th></th>\n",
       "      <th></th>\n",
       "      <th></th>\n",
       "    </tr>\n",
       "  </thead>\n",
       "  <tbody>\n",
       "    <tr>\n",
       "      <th>1</th>\n",
       "      <td>48.0</td>\n",
       "      <td>55.0</td>\n",
       "      <td>0.466019</td>\n",
       "      <td>0.533981</td>\n",
       "    </tr>\n",
       "    <tr>\n",
       "      <th>2</th>\n",
       "      <td>55.0</td>\n",
       "      <td>42.0</td>\n",
       "      <td>0.567010</td>\n",
       "      <td>0.432990</td>\n",
       "    </tr>\n",
       "    <tr>\n",
       "      <th>All</th>\n",
       "      <td>NaN</td>\n",
       "      <td>NaN</td>\n",
       "      <td>0.515000</td>\n",
       "      <td>0.485000</td>\n",
       "    </tr>\n",
       "  </tbody>\n",
       "</table>\n",
       "</div>"
      ],
      "text/plain": [
       "col_0     3     4         3         4\n",
       "row_0                                \n",
       "1      48.0  55.0  0.466019  0.533981\n",
       "2      55.0  42.0  0.567010  0.432990\n",
       "All     NaN   NaN  0.515000  0.485000"
      ]
     },
     "execution_count": 22,
     "metadata": {},
     "output_type": "execute_result"
    }
   ],
   "source": [
    "def crosstab(index, columns, **crosstab_args):\n",
    "    \n",
    "    crosstab_args = {'normalize' : 'index'} | crosstab_args\n",
    "    \n",
    "    return pd.concat(\n",
    "        [\n",
    "            pd.crosstab(\n",
    "                index, columns, \n",
    "                **crosstab_args | {'normalize' : False}\n",
    "            ),\n",
    "            pd.crosstab(index,columns, **crosstab_args)\n",
    "        ],\n",
    "        axis = 1\n",
    "    )\n",
    "    \n",
    "\n",
    "crosstab(\n",
    "    np.random.choice(['1', '2'], 200),\n",
    "    np.random.choice(['3', '4'], 200),\n",
    "    margins = True\n",
    ")"
   ]
  },
  {
   "cell_type": "code",
   "execution_count": 95,
   "id": "808e76e3-392f-41cf-9537-456200309fe5",
   "metadata": {},
   "outputs": [
    {
     "data": {
      "text/html": [
       "<div>\n",
       "<style scoped>\n",
       "    .dataframe tbody tr th:only-of-type {\n",
       "        vertical-align: middle;\n",
       "    }\n",
       "\n",
       "    .dataframe tbody tr th {\n",
       "        vertical-align: top;\n",
       "    }\n",
       "\n",
       "    .dataframe thead tr th {\n",
       "        text-align: left;\n",
       "    }\n",
       "\n",
       "    .dataframe thead tr:last-of-type th {\n",
       "        text-align: right;\n",
       "    }\n",
       "</style>\n",
       "<table border=\"1\" class=\"dataframe\">\n",
       "  <thead>\n",
       "    <tr>\n",
       "      <th>col_0</th>\n",
       "      <th colspan=\"2\" halign=\"left\">3</th>\n",
       "      <th colspan=\"2\" halign=\"left\">4</th>\n",
       "    </tr>\n",
       "    <tr>\n",
       "      <th>col_1</th>\n",
       "      <th>7</th>\n",
       "      <th>8</th>\n",
       "      <th>7</th>\n",
       "      <th>8</th>\n",
       "    </tr>\n",
       "    <tr>\n",
       "      <th>row_0</th>\n",
       "      <th></th>\n",
       "      <th></th>\n",
       "      <th></th>\n",
       "      <th></th>\n",
       "    </tr>\n",
       "  </thead>\n",
       "  <tbody>\n",
       "    <tr>\n",
       "      <th>1</th>\n",
       "      <td>0.251871</td>\n",
       "      <td>0.249124</td>\n",
       "      <td>0.239782</td>\n",
       "      <td>0.259223</td>\n",
       "    </tr>\n",
       "    <tr>\n",
       "      <th>2</th>\n",
       "      <td>0.269903</td>\n",
       "      <td>0.241774</td>\n",
       "      <td>0.243783</td>\n",
       "      <td>0.244540</td>\n",
       "    </tr>\n",
       "    <tr>\n",
       "      <th>All</th>\n",
       "      <td>0.258049</td>\n",
       "      <td>0.246235</td>\n",
       "      <td>0.242447</td>\n",
       "      <td>0.253270</td>\n",
       "    </tr>\n",
       "  </tbody>\n",
       "</table>\n",
       "</div>"
      ],
      "text/plain": [
       "col_0         3                   4          \n",
       "col_1         7         8         7         8\n",
       "row_0                                        \n",
       "1      0.251871  0.249124  0.239782  0.259223\n",
       "2      0.269903  0.241774  0.243783  0.244540\n",
       "All    0.258049  0.246235  0.242447  0.253270"
      ]
     },
     "execution_count": 95,
     "metadata": {},
     "output_type": "execute_result"
    }
   ],
   "source": [
    "pd.crosstab(\n",
    "    np.random.choice(['1', '2'], 200),\n",
    "    [np.random.choice(['3', '4'], 200),\n",
    "    np.random.choice(['7', '8'], 200)],\n",
    "    normalize = 'index', margins = True,\n",
    "    values = np.random.choice([1, 2], 200),\n",
    "    aggfunc = np.mean\n",
    ")"
   ]
  },
  {
   "cell_type": "code",
   "execution_count": 73,
   "id": "b6ca24d7-8def-48d4-bf89-dbefd7ad5d0e",
   "metadata": {},
   "outputs": [],
   "source": [
    "np.random.seed(30)\n",
    "\n",
    "test_list = pd.crosstab(\n",
    "    np.random.choice(['1', '2'], 200),\n",
    "    [np.random.choice(['3', '4'], 200),\n",
    "    np.random.choice(['7', '8'], 200)],\n",
    "    normalize = 'index', margins = True\n",
    ").columns"
   ]
  },
  {
   "cell_type": "code",
   "execution_count": 72,
   "id": "6d106494-bcd3-4b06-8068-636c5bd66f0b",
   "metadata": {},
   "outputs": [
    {
     "data": {
      "text/plain": [
       "[('3', '7'), ('3', '8'), ('4', '7'), ('4', '8')]"
      ]
     },
     "execution_count": 72,
     "metadata": {},
     "output_type": "execute_result"
    }
   ],
   "source": [
    "super_index = pd.MultiIndex.from_product(\n",
    "    [['absolute', 'relative'] ,test_list]\n",
    ")\n",
    "import itertools\n",
    "\n",
    "test_list\n"
   ]
  },
  {
   "cell_type": "code",
   "execution_count": 64,
   "id": "73ca537f-fc9e-4b4d-8acc-b351edb27d07",
   "metadata": {},
   "outputs": [],
   "source": [
    "big_table = pd.concat(\n",
    "    [\n",
    "        pd.crosstab(\n",
    "            np.random.choice(['1', '2'], 200),\n",
    "            [np.random.choice(['3', '4'], 200),\n",
    "            np.random.choice(['7', '8'], 200)],\n",
    "            normalize = 'index', margins = True\n",
    "        ),\n",
    "        pd.crosstab(\n",
    "            np.random.choice(['1', '2'], 200),\n",
    "            [np.random.choice(['3', '4'], 200),\n",
    "            np.random.choice(['7', '8'], 200)],\n",
    "            normalize = 'index', margins = True\n",
    "        ),\n",
    "    ],\n",
    "    axis = 1\n",
    ")\n",
    "\n",
    "\n",
    "\n",
    "\n",
    "big_table.columns = \\\n",
    "pd.MultiIndex.from_product(\n",
    "    [['absolute', 'relative'] ,test_list]\n",
    ")"
   ]
  },
  {
   "cell_type": "code",
   "execution_count": 65,
   "id": "ff0d9f76-519f-4fe3-b8c7-60bea8b3b850",
   "metadata": {},
   "outputs": [
    {
     "data": {
      "text/html": [
       "<div>\n",
       "<style scoped>\n",
       "    .dataframe tbody tr th:only-of-type {\n",
       "        vertical-align: middle;\n",
       "    }\n",
       "\n",
       "    .dataframe tbody tr th {\n",
       "        vertical-align: top;\n",
       "    }\n",
       "\n",
       "    .dataframe thead tr th {\n",
       "        text-align: left;\n",
       "    }\n",
       "\n",
       "    .dataframe thead tr:last-of-type th {\n",
       "        text-align: right;\n",
       "    }\n",
       "</style>\n",
       "<table border=\"1\" class=\"dataframe\">\n",
       "  <thead>\n",
       "    <tr>\n",
       "      <th></th>\n",
       "      <th colspan=\"4\" halign=\"left\">absolute</th>\n",
       "      <th colspan=\"4\" halign=\"left\">relative</th>\n",
       "    </tr>\n",
       "    <tr>\n",
       "      <th></th>\n",
       "      <th>(3, 7)</th>\n",
       "      <th>(3, 8)</th>\n",
       "      <th>(4, 7)</th>\n",
       "      <th>(4, 8)</th>\n",
       "      <th>(3, 7)</th>\n",
       "      <th>(3, 8)</th>\n",
       "      <th>(4, 7)</th>\n",
       "      <th>(4, 8)</th>\n",
       "    </tr>\n",
       "    <tr>\n",
       "      <th>row_0</th>\n",
       "      <th></th>\n",
       "      <th></th>\n",
       "      <th></th>\n",
       "      <th></th>\n",
       "      <th></th>\n",
       "      <th></th>\n",
       "      <th></th>\n",
       "      <th></th>\n",
       "    </tr>\n",
       "  </thead>\n",
       "  <tbody>\n",
       "    <tr>\n",
       "      <th>1</th>\n",
       "      <td>0.237113</td>\n",
       "      <td>0.298969</td>\n",
       "      <td>0.206186</td>\n",
       "      <td>0.257732</td>\n",
       "      <td>0.257426</td>\n",
       "      <td>0.306931</td>\n",
       "      <td>0.217822</td>\n",
       "      <td>0.217822</td>\n",
       "    </tr>\n",
       "    <tr>\n",
       "      <th>2</th>\n",
       "      <td>0.271845</td>\n",
       "      <td>0.203883</td>\n",
       "      <td>0.291262</td>\n",
       "      <td>0.233010</td>\n",
       "      <td>0.232323</td>\n",
       "      <td>0.303030</td>\n",
       "      <td>0.212121</td>\n",
       "      <td>0.252525</td>\n",
       "    </tr>\n",
       "    <tr>\n",
       "      <th>All</th>\n",
       "      <td>0.255000</td>\n",
       "      <td>0.250000</td>\n",
       "      <td>0.250000</td>\n",
       "      <td>0.245000</td>\n",
       "      <td>0.245000</td>\n",
       "      <td>0.305000</td>\n",
       "      <td>0.215000</td>\n",
       "      <td>0.235000</td>\n",
       "    </tr>\n",
       "  </tbody>\n",
       "</table>\n",
       "</div>"
      ],
      "text/plain": [
       "       absolute                                relative                      \\\n",
       "         (3, 7)    (3, 8)    (4, 7)    (4, 8)    (3, 7)    (3, 8)    (4, 7)   \n",
       "row_0                                                                         \n",
       "1      0.237113  0.298969  0.206186  0.257732  0.257426  0.306931  0.217822   \n",
       "2      0.271845  0.203883  0.291262  0.233010  0.232323  0.303030  0.212121   \n",
       "All    0.255000  0.250000  0.250000  0.245000  0.245000  0.305000  0.215000   \n",
       "\n",
       "                 \n",
       "         (4, 8)  \n",
       "row_0            \n",
       "1      0.217822  \n",
       "2      0.252525  \n",
       "All    0.235000  "
      ]
     },
     "execution_count": 65,
     "metadata": {},
     "output_type": "execute_result"
    }
   ],
   "source": [
    "big_table"
   ]
  }
 ],
 "metadata": {
  "kernelspec": {
   "display_name": "Python 3 (ipykernel)",
   "language": "python",
   "name": "python3"
  },
  "language_info": {
   "codemirror_mode": {
    "name": "ipython",
    "version": 3
   },
   "file_extension": ".py",
   "mimetype": "text/x-python",
   "name": "python",
   "nbconvert_exporter": "python",
   "pygments_lexer": "ipython3",
   "version": "3.10.0"
  }
 },
 "nbformat": 4,
 "nbformat_minor": 5
}
