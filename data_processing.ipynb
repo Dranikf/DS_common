{
 "cells": [
  {
   "cell_type": "markdown",
   "id": "ffad1ad7-4ddc-4bb0-a380-fbdd8ff75373",
   "metadata": {},
   "source": [
    "# Desribes and testing of functions for data processing"
   ]
  },
  {
   "cell_type": "code",
   "execution_count": 103,
   "id": "0990c0d4-5fd4-4cb1-b4fb-3991fbdfa709",
   "metadata": {},
   "outputs": [
    {
     "name": "stdout",
     "output_type": "stream",
     "text": [
      "The autoreload extension is already loaded. To reload it, use:\n",
      "  %reload_ext autoreload\n"
     ]
    }
   ],
   "source": [
    "import pandas as pd\n",
    "import numpy as np\n",
    "\n",
    "%load_ext autoreload\n",
    "%autoreload 2\n",
    "\n",
    "from data_processing import *"
   ]
  },
  {
   "cell_type": "code",
   "execution_count": 3,
   "id": "b51123c8-5fd2-4880-ba0b-730d0950cefc",
   "metadata": {},
   "outputs": [],
   "source": [
    "test_df = pd.DataFrame({\n",
    "    \"num_var\" : np.random.normal(3, 5, 200),\n",
    "    \"cut_var\" : np.random.choice(['a', 'b'])\n",
    "})"
   ]
  },
  {
   "cell_type": "markdown",
   "id": "1dc4b24b-86d3-4e0d-9ad6-0c3f0b2c2b1c",
   "metadata": {
    "tags": []
   },
   "source": [
    "# `insert_next`\n",
    "\n",
    "Quick insertion following the column selected by name for pandas.DataFrame."
   ]
  },
  {
   "cell_type": "code",
   "execution_count": 4,
   "id": "9f5b96d3-84c9-4cf1-90d7-d3c647019f86",
   "metadata": {},
   "outputs": [],
   "source": [
    "test_df = pd.DataFrame({\n",
    "    \"num_var\" : np.random.normal(3, 5, 200),\n",
    "    \"cut_var\" : np.random.choice(['a', 'b'])\n",
    "})"
   ]
  },
  {
   "cell_type": "markdown",
   "id": "921a607c-0b35-401c-a617-c9a41cd56d68",
   "metadata": {},
   "source": [
    "## *One level columns*\n",
    "\n",
    "Rely simple to use"
   ]
  },
  {
   "cell_type": "code",
   "execution_count": 5,
   "id": "47bd06c0-14a4-42e9-afa7-c77b57c757f6",
   "metadata": {},
   "outputs": [
    {
     "data": {
      "text/html": [
       "<div>\n",
       "<style scoped>\n",
       "    .dataframe tbody tr th:only-of-type {\n",
       "        vertical-align: middle;\n",
       "    }\n",
       "\n",
       "    .dataframe tbody tr th {\n",
       "        vertical-align: top;\n",
       "    }\n",
       "\n",
       "    .dataframe thead th {\n",
       "        text-align: right;\n",
       "    }\n",
       "</style>\n",
       "<table border=\"1\" class=\"dataframe\">\n",
       "  <thead>\n",
       "    <tr style=\"text-align: right;\">\n",
       "      <th></th>\n",
       "      <th>num_var</th>\n",
       "      <th>cut_var</th>\n",
       "    </tr>\n",
       "  </thead>\n",
       "  <tbody>\n",
       "    <tr>\n",
       "      <th>0</th>\n",
       "      <td>6.204618</td>\n",
       "      <td>b</td>\n",
       "    </tr>\n",
       "    <tr>\n",
       "      <th>1</th>\n",
       "      <td>-0.668044</td>\n",
       "      <td>b</td>\n",
       "    </tr>\n",
       "    <tr>\n",
       "      <th>2</th>\n",
       "      <td>-1.732069</td>\n",
       "      <td>b</td>\n",
       "    </tr>\n",
       "    <tr>\n",
       "      <th>3</th>\n",
       "      <td>7.828380</td>\n",
       "      <td>b</td>\n",
       "    </tr>\n",
       "    <tr>\n",
       "      <th>4</th>\n",
       "      <td>1.906720</td>\n",
       "      <td>b</td>\n",
       "    </tr>\n",
       "    <tr>\n",
       "      <th>...</th>\n",
       "      <td>...</td>\n",
       "      <td>...</td>\n",
       "    </tr>\n",
       "    <tr>\n",
       "      <th>195</th>\n",
       "      <td>-0.171697</td>\n",
       "      <td>b</td>\n",
       "    </tr>\n",
       "    <tr>\n",
       "      <th>196</th>\n",
       "      <td>9.251502</td>\n",
       "      <td>b</td>\n",
       "    </tr>\n",
       "    <tr>\n",
       "      <th>197</th>\n",
       "      <td>9.580987</td>\n",
       "      <td>b</td>\n",
       "    </tr>\n",
       "    <tr>\n",
       "      <th>198</th>\n",
       "      <td>-5.414385</td>\n",
       "      <td>b</td>\n",
       "    </tr>\n",
       "    <tr>\n",
       "      <th>199</th>\n",
       "      <td>0.514817</td>\n",
       "      <td>b</td>\n",
       "    </tr>\n",
       "  </tbody>\n",
       "</table>\n",
       "<p>200 rows × 2 columns</p>\n",
       "</div>"
      ],
      "text/plain": [
       "      num_var cut_var\n",
       "0    6.204618       b\n",
       "1   -0.668044       b\n",
       "2   -1.732069       b\n",
       "3    7.828380       b\n",
       "4    1.906720       b\n",
       "..        ...     ...\n",
       "195 -0.171697       b\n",
       "196  9.251502       b\n",
       "197  9.580987       b\n",
       "198 -5.414385       b\n",
       "199  0.514817       b\n",
       "\n",
       "[200 rows x 2 columns]"
      ]
     },
     "execution_count": 5,
     "metadata": {},
     "output_type": "execute_result"
    }
   ],
   "source": [
    "insert_next(test_df, \"num_var\", test_df[\"num_var\"] / 20)\n",
    "\n",
    "test_df"
   ]
  },
  {
   "cell_type": "code",
   "execution_count": 6,
   "id": "743ef994-e22a-4ca3-a6e9-3ef00766a25e",
   "metadata": {},
   "outputs": [
    {
     "data": {
      "text/html": [
       "<div>\n",
       "<style scoped>\n",
       "    .dataframe tbody tr th:only-of-type {\n",
       "        vertical-align: middle;\n",
       "    }\n",
       "\n",
       "    .dataframe tbody tr th {\n",
       "        vertical-align: top;\n",
       "    }\n",
       "\n",
       "    .dataframe thead th {\n",
       "        text-align: right;\n",
       "    }\n",
       "</style>\n",
       "<table border=\"1\" class=\"dataframe\">\n",
       "  <thead>\n",
       "    <tr style=\"text-align: right;\">\n",
       "      <th></th>\n",
       "      <th>num_var</th>\n",
       "      <th>num_var_transf</th>\n",
       "      <th>cut_var</th>\n",
       "    </tr>\n",
       "  </thead>\n",
       "  <tbody>\n",
       "    <tr>\n",
       "      <th>0</th>\n",
       "      <td>6.204618</td>\n",
       "      <td>124.092356</td>\n",
       "      <td>b</td>\n",
       "    </tr>\n",
       "    <tr>\n",
       "      <th>1</th>\n",
       "      <td>-0.668044</td>\n",
       "      <td>-13.360878</td>\n",
       "      <td>b</td>\n",
       "    </tr>\n",
       "    <tr>\n",
       "      <th>2</th>\n",
       "      <td>-1.732069</td>\n",
       "      <td>-34.641370</td>\n",
       "      <td>b</td>\n",
       "    </tr>\n",
       "    <tr>\n",
       "      <th>3</th>\n",
       "      <td>7.828380</td>\n",
       "      <td>156.567608</td>\n",
       "      <td>b</td>\n",
       "    </tr>\n",
       "    <tr>\n",
       "      <th>4</th>\n",
       "      <td>1.906720</td>\n",
       "      <td>38.134402</td>\n",
       "      <td>b</td>\n",
       "    </tr>\n",
       "    <tr>\n",
       "      <th>...</th>\n",
       "      <td>...</td>\n",
       "      <td>...</td>\n",
       "      <td>...</td>\n",
       "    </tr>\n",
       "    <tr>\n",
       "      <th>195</th>\n",
       "      <td>-0.171697</td>\n",
       "      <td>-3.433946</td>\n",
       "      <td>b</td>\n",
       "    </tr>\n",
       "    <tr>\n",
       "      <th>196</th>\n",
       "      <td>9.251502</td>\n",
       "      <td>185.030050</td>\n",
       "      <td>b</td>\n",
       "    </tr>\n",
       "    <tr>\n",
       "      <th>197</th>\n",
       "      <td>9.580987</td>\n",
       "      <td>191.619744</td>\n",
       "      <td>b</td>\n",
       "    </tr>\n",
       "    <tr>\n",
       "      <th>198</th>\n",
       "      <td>-5.414385</td>\n",
       "      <td>-108.287707</td>\n",
       "      <td>b</td>\n",
       "    </tr>\n",
       "    <tr>\n",
       "      <th>199</th>\n",
       "      <td>0.514817</td>\n",
       "      <td>10.296346</td>\n",
       "      <td>b</td>\n",
       "    </tr>\n",
       "  </tbody>\n",
       "</table>\n",
       "<p>200 rows × 3 columns</p>\n",
       "</div>"
      ],
      "text/plain": [
       "      num_var  num_var_transf cut_var\n",
       "0    6.204618      124.092356       b\n",
       "1   -0.668044      -13.360878       b\n",
       "2   -1.732069      -34.641370       b\n",
       "3    7.828380      156.567608       b\n",
       "4    1.906720       38.134402       b\n",
       "..        ...             ...     ...\n",
       "195 -0.171697       -3.433946       b\n",
       "196  9.251502      185.030050       b\n",
       "197  9.580987      191.619744       b\n",
       "198 -5.414385     -108.287707       b\n",
       "199  0.514817       10.296346       b\n",
       "\n",
       "[200 rows x 3 columns]"
      ]
     },
     "execution_count": 6,
     "metadata": {},
     "output_type": "execute_result"
    }
   ],
   "source": [
    "insert_next(test_df, \"num_var\", test_df[\"num_var\"]*20)"
   ]
  },
  {
   "cell_type": "markdown",
   "id": "f4976f78-f87a-499f-a3b1-f5e711080658",
   "metadata": {},
   "source": [
    "## *Multi level columns*\n",
    "\n",
    "Have some details in using."
   ]
  },
  {
   "cell_type": "code",
   "execution_count": 7,
   "id": "776fa72c-4a0a-4037-8a1d-0aa14781d938",
   "metadata": {},
   "outputs": [
    {
     "data": {
      "text/html": [
       "<div>\n",
       "<style scoped>\n",
       "    .dataframe tbody tr th:only-of-type {\n",
       "        vertical-align: middle;\n",
       "    }\n",
       "\n",
       "    .dataframe tbody tr th {\n",
       "        vertical-align: top;\n",
       "    }\n",
       "\n",
       "    .dataframe thead tr th {\n",
       "        text-align: left;\n",
       "    }\n",
       "</style>\n",
       "<table border=\"1\" class=\"dataframe\">\n",
       "  <thead>\n",
       "    <tr>\n",
       "      <th></th>\n",
       "      <th colspan=\"2\" halign=\"left\">a</th>\n",
       "      <th colspan=\"2\" halign=\"left\">b</th>\n",
       "      <th colspan=\"2\" halign=\"left\">c</th>\n",
       "    </tr>\n",
       "    <tr>\n",
       "      <th></th>\n",
       "      <th>1</th>\n",
       "      <th>2</th>\n",
       "      <th>1</th>\n",
       "      <th>2</th>\n",
       "      <th>1</th>\n",
       "      <th>2</th>\n",
       "    </tr>\n",
       "  </thead>\n",
       "  <tbody>\n",
       "    <tr>\n",
       "      <th>0</th>\n",
       "      <td>0.923898</td>\n",
       "      <td>0.870892</td>\n",
       "      <td>0.957975</td>\n",
       "      <td>0.198712</td>\n",
       "      <td>0.154915</td>\n",
       "      <td>0.936550</td>\n",
       "    </tr>\n",
       "    <tr>\n",
       "      <th>1</th>\n",
       "      <td>0.055429</td>\n",
       "      <td>0.761642</td>\n",
       "      <td>0.758745</td>\n",
       "      <td>0.828740</td>\n",
       "      <td>0.171728</td>\n",
       "      <td>0.915313</td>\n",
       "    </tr>\n",
       "    <tr>\n",
       "      <th>2</th>\n",
       "      <td>0.757990</td>\n",
       "      <td>0.480396</td>\n",
       "      <td>0.444086</td>\n",
       "      <td>0.804703</td>\n",
       "      <td>0.675458</td>\n",
       "      <td>0.479114</td>\n",
       "    </tr>\n",
       "    <tr>\n",
       "      <th>3</th>\n",
       "      <td>0.282188</td>\n",
       "      <td>0.167667</td>\n",
       "      <td>0.621009</td>\n",
       "      <td>0.785411</td>\n",
       "      <td>0.548952</td>\n",
       "      <td>0.375335</td>\n",
       "    </tr>\n",
       "    <tr>\n",
       "      <th>4</th>\n",
       "      <td>0.800418</td>\n",
       "      <td>0.945215</td>\n",
       "      <td>0.454103</td>\n",
       "      <td>0.892792</td>\n",
       "      <td>0.321960</td>\n",
       "      <td>0.683211</td>\n",
       "    </tr>\n",
       "    <tr>\n",
       "      <th>5</th>\n",
       "      <td>0.775419</td>\n",
       "      <td>0.183102</td>\n",
       "      <td>0.657771</td>\n",
       "      <td>0.030854</td>\n",
       "      <td>0.191078</td>\n",
       "      <td>0.795698</td>\n",
       "    </tr>\n",
       "  </tbody>\n",
       "</table>\n",
       "</div>"
      ],
      "text/plain": [
       "          a                   b                   c          \n",
       "          1         2         1         2         1         2\n",
       "0  0.923898  0.870892  0.957975  0.198712  0.154915  0.936550\n",
       "1  0.055429  0.761642  0.758745  0.828740  0.171728  0.915313\n",
       "2  0.757990  0.480396  0.444086  0.804703  0.675458  0.479114\n",
       "3  0.282188  0.167667  0.621009  0.785411  0.548952  0.375335\n",
       "4  0.800418  0.945215  0.454103  0.892792  0.321960  0.683211\n",
       "5  0.775419  0.183102  0.657771  0.030854  0.191078  0.795698"
      ]
     },
     "execution_count": 7,
     "metadata": {},
     "output_type": "execute_result"
    }
   ],
   "source": [
    "test_df = pd.DataFrame(\n",
    "    np.random.rand(6,6),\n",
    "    columns = pd.MultiIndex.from_product([['a', 'b', 'c'], [1,2]])\n",
    ")\n",
    "\n",
    "test_df"
   ]
  },
  {
   "cell_type": "markdown",
   "id": "6f54e338-cc0e-4bc7-aa16-b229aa3fe0ef",
   "metadata": {},
   "source": [
    "If you are using `pandas.MultiIndex` in columns of `pandas.DataFrame` you have to use `tuple` as `col_name` argument."
   ]
  },
  {
   "cell_type": "code",
   "execution_count": 8,
   "id": "f4ba0637-5d2c-465a-b838-101252e559bf",
   "metadata": {},
   "outputs": [
    {
     "data": {
      "text/html": [
       "<div>\n",
       "<style scoped>\n",
       "    .dataframe tbody tr th:only-of-type {\n",
       "        vertical-align: middle;\n",
       "    }\n",
       "\n",
       "    .dataframe tbody tr th {\n",
       "        vertical-align: top;\n",
       "    }\n",
       "\n",
       "    .dataframe thead tr th {\n",
       "        text-align: left;\n",
       "    }\n",
       "</style>\n",
       "<table border=\"1\" class=\"dataframe\">\n",
       "  <thead>\n",
       "    <tr>\n",
       "      <th></th>\n",
       "      <th>a</th>\n",
       "      <th>a _transf</th>\n",
       "      <th>a</th>\n",
       "      <th colspan=\"2\" halign=\"left\">b</th>\n",
       "      <th colspan=\"2\" halign=\"left\">c</th>\n",
       "    </tr>\n",
       "    <tr>\n",
       "      <th></th>\n",
       "      <th>1</th>\n",
       "      <th>1 _transf</th>\n",
       "      <th>2</th>\n",
       "      <th>1</th>\n",
       "      <th>2</th>\n",
       "      <th>1</th>\n",
       "      <th>2</th>\n",
       "    </tr>\n",
       "  </thead>\n",
       "  <tbody>\n",
       "    <tr>\n",
       "      <th>0</th>\n",
       "      <td>0.923898</td>\n",
       "      <td>0.932568</td>\n",
       "      <td>0.870892</td>\n",
       "      <td>0.957975</td>\n",
       "      <td>0.198712</td>\n",
       "      <td>0.154915</td>\n",
       "      <td>0.936550</td>\n",
       "    </tr>\n",
       "    <tr>\n",
       "      <th>1</th>\n",
       "      <td>0.055429</td>\n",
       "      <td>0.739121</td>\n",
       "      <td>0.761642</td>\n",
       "      <td>0.758745</td>\n",
       "      <td>0.828740</td>\n",
       "      <td>0.171728</td>\n",
       "      <td>0.915313</td>\n",
       "    </tr>\n",
       "    <tr>\n",
       "      <th>2</th>\n",
       "      <td>0.757990</td>\n",
       "      <td>0.819836</td>\n",
       "      <td>0.480396</td>\n",
       "      <td>0.444086</td>\n",
       "      <td>0.804703</td>\n",
       "      <td>0.675458</td>\n",
       "      <td>0.479114</td>\n",
       "    </tr>\n",
       "    <tr>\n",
       "      <th>3</th>\n",
       "      <td>0.282188</td>\n",
       "      <td>0.442911</td>\n",
       "      <td>0.167667</td>\n",
       "      <td>0.621009</td>\n",
       "      <td>0.785411</td>\n",
       "      <td>0.548952</td>\n",
       "      <td>0.375335</td>\n",
       "    </tr>\n",
       "    <tr>\n",
       "      <th>4</th>\n",
       "      <td>0.800418</td>\n",
       "      <td>0.388703</td>\n",
       "      <td>0.945215</td>\n",
       "      <td>0.454103</td>\n",
       "      <td>0.892792</td>\n",
       "      <td>0.321960</td>\n",
       "      <td>0.683211</td>\n",
       "    </tr>\n",
       "    <tr>\n",
       "      <th>5</th>\n",
       "      <td>0.775419</td>\n",
       "      <td>0.609194</td>\n",
       "      <td>0.183102</td>\n",
       "      <td>0.657771</td>\n",
       "      <td>0.030854</td>\n",
       "      <td>0.191078</td>\n",
       "      <td>0.795698</td>\n",
       "    </tr>\n",
       "  </tbody>\n",
       "</table>\n",
       "</div>"
      ],
      "text/plain": [
       "          a a _transf         a         b                   c          \n",
       "          1 1 _transf         2         1         2         1         2\n",
       "0  0.923898  0.932568  0.870892  0.957975  0.198712  0.154915  0.936550\n",
       "1  0.055429  0.739121  0.761642  0.758745  0.828740  0.171728  0.915313\n",
       "2  0.757990  0.819836  0.480396  0.444086  0.804703  0.675458  0.479114\n",
       "3  0.282188  0.442911  0.167667  0.621009  0.785411  0.548952  0.375335\n",
       "4  0.800418  0.388703  0.945215  0.454103  0.892792  0.321960  0.683211\n",
       "5  0.775419  0.609194  0.183102  0.657771  0.030854  0.191078  0.795698"
      ]
     },
     "execution_count": 8,
     "metadata": {},
     "output_type": "execute_result"
    }
   ],
   "source": [
    "insert_next(\n",
    "    test_df, (\"a\", 1),\n",
    "    np.random.rand(6)\n",
    ")"
   ]
  },
  {
   "cell_type": "markdown",
   "id": "fc7577c6-5f33-4fc8-a0b9-b798c90dc504",
   "metadata": {},
   "source": [
    "Other case you will have warning, and most likely error from `pandas`."
   ]
  },
  {
   "cell_type": "markdown",
   "id": "7234a764-91ac-4c8e-bd01-3a63099b4395",
   "metadata": {},
   "source": [
    "# `get_num_cond`\n",
    "\n",
    "Get condition for selection from pandas.DataFrame numeric data types"
   ]
  },
  {
   "cell_type": "code",
   "execution_count": 9,
   "id": "52b8e366-df33-44ba-9ca2-25a25b511b2e",
   "metadata": {},
   "outputs": [
    {
     "data": {
      "text/plain": [
       "num_var     True\n",
       "cut_var    False\n",
       "dtype: bool"
      ]
     },
     "execution_count": 9,
     "metadata": {},
     "output_type": "execute_result"
    }
   ],
   "source": [
    "test_df = pd.DataFrame({\n",
    "    \"num_var\" : np.random.normal(3, 5, 200),\n",
    "    \"cut_var\" : np.random.choice(['a', 'b'])\n",
    "})\n",
    "\n",
    "get_num_cond(test_df)"
   ]
  },
  {
   "cell_type": "markdown",
   "id": "9cf387a9-8ac6-4516-a588-2b1f40c694c1",
   "metadata": {},
   "source": [
    "# `pd_OHE`\n",
    "\n",
    "Conduct one hot encoding for pandas data frame with the result as pandas.DataFrame and columns in reading format. "
   ]
  },
  {
   "cell_type": "code",
   "execution_count": 104,
   "id": "89a67b14-3c74-4a72-a3bb-61f4630a6442",
   "metadata": {},
   "outputs": [
    {
     "data": {
      "text/html": [
       "<div>\n",
       "<style scoped>\n",
       "    .dataframe tbody tr th:only-of-type {\n",
       "        vertical-align: middle;\n",
       "    }\n",
       "\n",
       "    .dataframe tbody tr th {\n",
       "        vertical-align: top;\n",
       "    }\n",
       "\n",
       "    .dataframe thead th {\n",
       "        text-align: right;\n",
       "    }\n",
       "</style>\n",
       "<table border=\"1\" class=\"dataframe\">\n",
       "  <thead>\n",
       "    <tr style=\"text-align: right;\">\n",
       "      <th></th>\n",
       "      <th>my_col{b}</th>\n",
       "      <th>my_col{nan}</th>\n",
       "      <th>my_col2{d}</th>\n",
       "      <th>my_col2{g}</th>\n",
       "      <th>my_col2{q}</th>\n",
       "      <th>my_col2{t}</th>\n",
       "    </tr>\n",
       "  </thead>\n",
       "  <tbody>\n",
       "    <tr>\n",
       "      <th>0</th>\n",
       "      <td>0.0</td>\n",
       "      <td>0.0</td>\n",
       "      <td>1.0</td>\n",
       "      <td>0.0</td>\n",
       "      <td>0.0</td>\n",
       "      <td>0.0</td>\n",
       "    </tr>\n",
       "    <tr>\n",
       "      <th>1</th>\n",
       "      <td>1.0</td>\n",
       "      <td>0.0</td>\n",
       "      <td>0.0</td>\n",
       "      <td>0.0</td>\n",
       "      <td>0.0</td>\n",
       "      <td>0.0</td>\n",
       "    </tr>\n",
       "    <tr>\n",
       "      <th>2</th>\n",
       "      <td>1.0</td>\n",
       "      <td>0.0</td>\n",
       "      <td>0.0</td>\n",
       "      <td>0.0</td>\n",
       "      <td>0.0</td>\n",
       "      <td>1.0</td>\n",
       "    </tr>\n",
       "    <tr>\n",
       "      <th>3</th>\n",
       "      <td>0.0</td>\n",
       "      <td>0.0</td>\n",
       "      <td>0.0</td>\n",
       "      <td>1.0</td>\n",
       "      <td>0.0</td>\n",
       "      <td>0.0</td>\n",
       "    </tr>\n",
       "    <tr>\n",
       "      <th>4</th>\n",
       "      <td>0.0</td>\n",
       "      <td>1.0</td>\n",
       "      <td>0.0</td>\n",
       "      <td>0.0</td>\n",
       "      <td>1.0</td>\n",
       "      <td>0.0</td>\n",
       "    </tr>\n",
       "  </tbody>\n",
       "</table>\n",
       "</div>"
      ],
      "text/plain": [
       "   my_col{b}  my_col{nan}  my_col2{d}  my_col2{g}  my_col2{q}  my_col2{t}\n",
       "0        0.0          0.0         1.0         0.0         0.0         0.0\n",
       "1        1.0          0.0         0.0         0.0         0.0         0.0\n",
       "2        1.0          0.0         0.0         0.0         0.0         1.0\n",
       "3        0.0          0.0         0.0         1.0         0.0         0.0\n",
       "4        0.0          1.0         0.0         0.0         1.0         0.0"
      ]
     },
     "execution_count": 104,
     "metadata": {},
     "output_type": "execute_result"
    }
   ],
   "source": [
    "test_df = pd.DataFrame({\n",
    "        'my_col' : ['a', 'b', 'b', 'a', np.NaN],\n",
    "        'my_col2': ['d', 'v', 't', 'g', 'q']\n",
    "})\n",
    "\n",
    "pd_OHE(df = test_df, sk_OHE_kwarg = {'drop':['a', 'v']})"
   ]
  },
  {
   "cell_type": "markdown",
   "id": "9dc57157-f8e5-4637-8e8b-bdcaf3d6f280",
   "metadata": {},
   "source": [
    "The format of the output column names can be specified with the `col_names_format` argument. It's a format string with `col_name` and `cat` arguments:\n",
    "- `col_name` - name of the input column;\n",
    "- `cat` - catetory of column."
   ]
  },
  {
   "cell_type": "code",
   "execution_count": 106,
   "id": "7e02e5b9-365f-4a73-900a-db8c761d9927",
   "metadata": {},
   "outputs": [
    {
     "data": {
      "text/html": [
       "<div>\n",
       "<style scoped>\n",
       "    .dataframe tbody tr th:only-of-type {\n",
       "        vertical-align: middle;\n",
       "    }\n",
       "\n",
       "    .dataframe tbody tr th {\n",
       "        vertical-align: top;\n",
       "    }\n",
       "\n",
       "    .dataframe thead th {\n",
       "        text-align: right;\n",
       "    }\n",
       "</style>\n",
       "<table border=\"1\" class=\"dataframe\">\n",
       "  <thead>\n",
       "    <tr style=\"text-align: right;\">\n",
       "      <th></th>\n",
       "      <th>my_col-&gt;b</th>\n",
       "      <th>my_col-&gt;nan</th>\n",
       "      <th>my_col2-&gt;d</th>\n",
       "      <th>my_col2-&gt;g</th>\n",
       "      <th>my_col2-&gt;q</th>\n",
       "      <th>my_col2-&gt;t</th>\n",
       "    </tr>\n",
       "  </thead>\n",
       "  <tbody>\n",
       "    <tr>\n",
       "      <th>0</th>\n",
       "      <td>0.0</td>\n",
       "      <td>0.0</td>\n",
       "      <td>1.0</td>\n",
       "      <td>0.0</td>\n",
       "      <td>0.0</td>\n",
       "      <td>0.0</td>\n",
       "    </tr>\n",
       "    <tr>\n",
       "      <th>1</th>\n",
       "      <td>1.0</td>\n",
       "      <td>0.0</td>\n",
       "      <td>0.0</td>\n",
       "      <td>0.0</td>\n",
       "      <td>0.0</td>\n",
       "      <td>0.0</td>\n",
       "    </tr>\n",
       "    <tr>\n",
       "      <th>2</th>\n",
       "      <td>1.0</td>\n",
       "      <td>0.0</td>\n",
       "      <td>0.0</td>\n",
       "      <td>0.0</td>\n",
       "      <td>0.0</td>\n",
       "      <td>1.0</td>\n",
       "    </tr>\n",
       "    <tr>\n",
       "      <th>3</th>\n",
       "      <td>0.0</td>\n",
       "      <td>0.0</td>\n",
       "      <td>0.0</td>\n",
       "      <td>1.0</td>\n",
       "      <td>0.0</td>\n",
       "      <td>0.0</td>\n",
       "    </tr>\n",
       "    <tr>\n",
       "      <th>4</th>\n",
       "      <td>0.0</td>\n",
       "      <td>1.0</td>\n",
       "      <td>0.0</td>\n",
       "      <td>0.0</td>\n",
       "      <td>1.0</td>\n",
       "      <td>0.0</td>\n",
       "    </tr>\n",
       "  </tbody>\n",
       "</table>\n",
       "</div>"
      ],
      "text/plain": [
       "   my_col->b  my_col->nan  my_col2->d  my_col2->g  my_col2->q  my_col2->t\n",
       "0        0.0          0.0         1.0         0.0         0.0         0.0\n",
       "1        1.0          0.0         0.0         0.0         0.0         0.0\n",
       "2        1.0          0.0         0.0         0.0         0.0         1.0\n",
       "3        0.0          0.0         0.0         1.0         0.0         0.0\n",
       "4        0.0          1.0         0.0         0.0         1.0         0.0"
      ]
     },
     "execution_count": 106,
     "metadata": {},
     "output_type": "execute_result"
    }
   ],
   "source": [
    "test_df = pd.DataFrame({\n",
    "        'my_col' : ['a', 'b', 'b', 'a', np.NaN],\n",
    "        'my_col2': ['d', 'v', 't', 'g', 'q']\n",
    "})\n",
    "\n",
    "pd_OHE(\n",
    "    df = test_df, \n",
    "    sk_OHE_kwarg = {'drop':['a', 'v']},\n",
    "    col_names_format = \"{col_name}->{cat}\"\n",
    ")"
   ]
  },
  {
   "cell_type": "markdown",
   "id": "48d565bf-a857-4406-b48a-cf4a8af9ce21",
   "metadata": {
    "tags": []
   },
   "source": [
    "# `get_merge_repl_rule`\n",
    "Get an joining rule for the levels of some variable for further use in `pandas.Series.replace`"
   ]
  },
  {
   "cell_type": "code",
   "execution_count": 11,
   "id": "c5dd07d5-3e52-4de3-a69a-59c08d5f8a6f",
   "metadata": {
    "tags": []
   },
   "outputs": [
    {
     "data": {
      "text/plain": [
       "{'lev1': 'lev1_lev2', 'lev2': 'lev1_lev2', 'lev3': 'lev3'}"
      ]
     },
     "execution_count": 11,
     "metadata": {},
     "output_type": "execute_result"
    }
   ],
   "source": [
    "get_merge_repl_rule([['lev1', 'lev2'], ['lev3']])"
   ]
  },
  {
   "cell_type": "code",
   "execution_count": 12,
   "id": "f2091ad5-940e-4820-95ff-158c664c859d",
   "metadata": {},
   "outputs": [
    {
     "data": {
      "text/plain": [
       "{'lev1': 'lev1|lev2', 'lev2': 'lev1|lev2', 'lev3': 'lev3'}"
      ]
     },
     "execution_count": 12,
     "metadata": {},
     "output_type": "execute_result"
    }
   ],
   "source": [
    "get_merge_repl_rule([['lev1', 'lev2'], ['lev3']], \"|\")"
   ]
  },
  {
   "cell_type": "markdown",
   "id": "4c1e7243-02d5-4b1b-8580-8ec866f78a38",
   "metadata": {
    "tags": []
   },
   "source": [
    "# `np_replace`\n",
    "\n",
    "For `numpy.array` replace values, by roole defined as dictionary:<br>\n",
    "```\n",
    "{\n",
    "    <old val1>:<new val1>, \n",
    "    <old val2>:<new val2>,\n",
    "    .....................\n",
    "    <old valn>:<new valn>\n",
    "}\n",
    "```\n",
    "\n",
    "`pandas.DataFrame.replace` synonym, but for `numpy.array`."
   ]
  },
  {
   "cell_type": "code",
   "execution_count": 11,
   "id": "ea7b70d9-bb4b-474f-b562-dc7b8705faf1",
   "metadata": {},
   "outputs": [
    {
     "data": {
      "text/plain": [
       "array([['c', 'c', 'b', 'a', 'a', 'a', 'a', 'a', 'c', 'c'],\n",
       "       ['a', 'c', 'b', 'b', 'b', 'b', 'a', 'c', 'a', 'b'],\n",
       "       ['a', 'b', 'a', 'b', 'b', 'a', 'b', 'c', 'b', 'b'],\n",
       "       ['c', 'a', 'c', 'a', 'a', 'b', 'b', 'c', 'a', 'c'],\n",
       "       ['c', 'a', 'c', 'a', 'a', 'a', 'b', 'b', 'c', 'c'],\n",
       "       ['a', 'c', 'c', 'b', 'a', 'b', 'b', 'a', 'b', 'b'],\n",
       "       ['c', 'c', 'b', 'b', 'b', 'a', 'c', 'c', 'c', 'b'],\n",
       "       ['b', 'b', 'b', 'a', 'c', 'b', 'c', 'b', 'b', 'c'],\n",
       "       ['c', 'a', 'a', 'c', 'c', 'a', 'a', 'c', 'a', 'c'],\n",
       "       ['a', 'c', 'a', 'b', 'a', 'b', 'a', 'c', 'a', 'a']], dtype='<U1')"
      ]
     },
     "execution_count": 11,
     "metadata": {},
     "output_type": "execute_result"
    }
   ],
   "source": [
    "X = np.random.choice(\n",
    "    ['a', 'b', 'c'], [10, 10]\n",
    ")\n",
    "\n",
    "X"
   ]
  },
  {
   "cell_type": "code",
   "execution_count": 12,
   "id": "43d0c8be-8eb7-4c1b-af52-484c0c47dc33",
   "metadata": {},
   "outputs": [
    {
     "data": {
      "text/plain": [
       "array([['c', 'c', 'test_b', 'test_a2', 'test_a2', 'test_a2', 'test_a2',\n",
       "        'test_a2', 'c', 'c'],\n",
       "       ['test_a2', 'c', 'test_b', 'test_b', 'test_b', 'test_b',\n",
       "        'test_a2', 'c', 'test_a2', 'test_b'],\n",
       "       ['test_a2', 'test_b', 'test_a2', 'test_b', 'test_b', 'test_a2',\n",
       "        'test_b', 'c', 'test_b', 'test_b'],\n",
       "       ['c', 'test_a2', 'c', 'test_a2', 'test_a2', 'test_b', 'test_b',\n",
       "        'c', 'test_a2', 'c'],\n",
       "       ['c', 'test_a2', 'c', 'test_a2', 'test_a2', 'test_a2', 'test_b',\n",
       "        'test_b', 'c', 'c'],\n",
       "       ['test_a2', 'c', 'c', 'test_b', 'test_a2', 'test_b', 'test_b',\n",
       "        'test_a2', 'test_b', 'test_b'],\n",
       "       ['c', 'c', 'test_b', 'test_b', 'test_b', 'test_a2', 'c', 'c', 'c',\n",
       "        'test_b'],\n",
       "       ['test_b', 'test_b', 'test_b', 'test_a2', 'c', 'test_b', 'c',\n",
       "        'test_b', 'test_b', 'c'],\n",
       "       ['c', 'test_a2', 'test_a2', 'c', 'c', 'test_a2', 'test_a2', 'c',\n",
       "        'test_a2', 'c'],\n",
       "       ['test_a2', 'c', 'test_a2', 'test_b', 'test_a2', 'test_b',\n",
       "        'test_a2', 'c', 'test_a2', 'test_a2']], dtype='<U7')"
      ]
     },
     "execution_count": 12,
     "metadata": {},
     "output_type": "execute_result"
    }
   ],
   "source": [
    "np_replace(X, {'a':'test_a', 'b': \"test_b\", 'a':\"test_a2\"})"
   ]
  },
  {
   "cell_type": "markdown",
   "id": "8acacf19-f573-4f23-83ff-5e22be17635d",
   "metadata": {},
   "source": [
    "# `fix_pd_multiIndex`\n",
    "\n",
    "`padnas` has some problems with loading multilevel columns headers from excel. When different columns has different count of levels, result `pandas.DataFrame` will have maximum count of levels in each columns, and lower levels of columns wich in excel has less levels will renamed like `Unnamed: ...`. This function goal is change every name of wich starts from `Unnamed: ... ` in index to empty line in index.\n",
    "\n",
    "Let the input file looks like.\n",
    "\n",
    "<img src=\"pictures/multiindex_examle.png\"></img>\n",
    "\n",
    "By defult panads loads it like."
   ]
  },
  {
   "cell_type": "code",
   "execution_count": 13,
   "id": "06866093-f6d1-4a8e-ab5b-a97fe18a4fcb",
   "metadata": {},
   "outputs": [
    {
     "data": {
      "text/html": [
       "<div>\n",
       "<style scoped>\n",
       "    .dataframe tbody tr th:only-of-type {\n",
       "        vertical-align: middle;\n",
       "    }\n",
       "\n",
       "    .dataframe tbody tr th {\n",
       "        vertical-align: top;\n",
       "    }\n",
       "\n",
       "    .dataframe thead tr th {\n",
       "        text-align: left;\n",
       "    }\n",
       "</style>\n",
       "<table border=\"1\" class=\"dataframe\">\n",
       "  <thead>\n",
       "    <tr>\n",
       "      <th></th>\n",
       "      <th>id</th>\n",
       "      <th colspan=\"2\" halign=\"left\">group1</th>\n",
       "      <th colspan=\"2\" halign=\"left\">group2</th>\n",
       "    </tr>\n",
       "    <tr>\n",
       "      <th></th>\n",
       "      <th>Unnamed: 0_level_1</th>\n",
       "      <th>col1</th>\n",
       "      <th>col2</th>\n",
       "      <th>col3</th>\n",
       "      <th>col4</th>\n",
       "    </tr>\n",
       "  </thead>\n",
       "  <tbody>\n",
       "    <tr>\n",
       "      <th>0</th>\n",
       "      <td>323</td>\n",
       "      <td>a</td>\n",
       "      <td>4</td>\n",
       "      <td>g</td>\n",
       "      <td>5</td>\n",
       "    </tr>\n",
       "    <tr>\n",
       "      <th>1</th>\n",
       "      <td>433</td>\n",
       "      <td>b</td>\n",
       "      <td>5</td>\n",
       "      <td>r</td>\n",
       "      <td>6</td>\n",
       "    </tr>\n",
       "    <tr>\n",
       "      <th>2</th>\n",
       "      <td>123</td>\n",
       "      <td>c</td>\n",
       "      <td>6</td>\n",
       "      <td>d</td>\n",
       "      <td>7</td>\n",
       "    </tr>\n",
       "    <tr>\n",
       "      <th>3</th>\n",
       "      <td>321</td>\n",
       "      <td>d</td>\n",
       "      <td>7</td>\n",
       "      <td>x</td>\n",
       "      <td>5</td>\n",
       "    </tr>\n",
       "  </tbody>\n",
       "</table>\n",
       "</div>"
      ],
      "text/plain": [
       "                  id group1      group2     \n",
       "  Unnamed: 0_level_1   col1 col2   col3 col4\n",
       "0                323      a    4      g    5\n",
       "1                433      b    5      r    6\n",
       "2                123      c    6      d    7\n",
       "3                321      d    7      x    5"
      ]
     },
     "execution_count": 13,
     "metadata": {},
     "output_type": "execute_result"
    }
   ],
   "source": [
    "df = pd.read_excel(\n",
    "    \"test_data/fix_pd_multiIndex_df.xlsx\",\n",
    "    header = [0,1]\n",
    ")\n",
    "df"
   ]
  },
  {
   "cell_type": "markdown",
   "id": "0d7d71bb-09a7-430c-aab7-c15803a136de",
   "metadata": {},
   "source": [
    "So `id` column, loaded as `(\"id\", \"Unnamed: 0_level_1\")`. Now lets apply function for geting a new Index."
   ]
  },
  {
   "cell_type": "code",
   "execution_count": 14,
   "id": "76006b8f-9faa-4cd0-a2da-2ef57079dc27",
   "metadata": {},
   "outputs": [
    {
     "data": {
      "text/plain": [
       "MultiIndex([(    'id',     ''),\n",
       "            ('group1', 'col1'),\n",
       "            ('group1', 'col2'),\n",
       "            ('group2', 'col3'),\n",
       "            ('group2', 'col4')],\n",
       "           )"
      ]
     },
     "execution_count": 14,
     "metadata": {},
     "output_type": "execute_result"
    }
   ],
   "source": [
    "new_columns = fix_pd_multiIndex(df.columns)\n",
    "new_columns"
   ]
  },
  {
   "cell_type": "markdown",
   "id": "5989b74b-740d-4523-a365-681c18674dc8",
   "metadata": {},
   "source": [
    "And now apply it to our dataframe."
   ]
  },
  {
   "cell_type": "code",
   "execution_count": 15,
   "id": "d035630c-6b07-454b-ae93-c969c5230a35",
   "metadata": {},
   "outputs": [
    {
     "data": {
      "text/html": [
       "<div>\n",
       "<style scoped>\n",
       "    .dataframe tbody tr th:only-of-type {\n",
       "        vertical-align: middle;\n",
       "    }\n",
       "\n",
       "    .dataframe tbody tr th {\n",
       "        vertical-align: top;\n",
       "    }\n",
       "\n",
       "    .dataframe thead tr th {\n",
       "        text-align: left;\n",
       "    }\n",
       "</style>\n",
       "<table border=\"1\" class=\"dataframe\">\n",
       "  <thead>\n",
       "    <tr>\n",
       "      <th></th>\n",
       "      <th>id</th>\n",
       "      <th colspan=\"2\" halign=\"left\">group1</th>\n",
       "      <th colspan=\"2\" halign=\"left\">group2</th>\n",
       "    </tr>\n",
       "    <tr>\n",
       "      <th></th>\n",
       "      <th></th>\n",
       "      <th>col1</th>\n",
       "      <th>col2</th>\n",
       "      <th>col3</th>\n",
       "      <th>col4</th>\n",
       "    </tr>\n",
       "  </thead>\n",
       "  <tbody>\n",
       "    <tr>\n",
       "      <th>0</th>\n",
       "      <td>323</td>\n",
       "      <td>a</td>\n",
       "      <td>4</td>\n",
       "      <td>g</td>\n",
       "      <td>5</td>\n",
       "    </tr>\n",
       "    <tr>\n",
       "      <th>1</th>\n",
       "      <td>433</td>\n",
       "      <td>b</td>\n",
       "      <td>5</td>\n",
       "      <td>r</td>\n",
       "      <td>6</td>\n",
       "    </tr>\n",
       "    <tr>\n",
       "      <th>2</th>\n",
       "      <td>123</td>\n",
       "      <td>c</td>\n",
       "      <td>6</td>\n",
       "      <td>d</td>\n",
       "      <td>7</td>\n",
       "    </tr>\n",
       "    <tr>\n",
       "      <th>3</th>\n",
       "      <td>321</td>\n",
       "      <td>d</td>\n",
       "      <td>7</td>\n",
       "      <td>x</td>\n",
       "      <td>5</td>\n",
       "    </tr>\n",
       "  </tbody>\n",
       "</table>\n",
       "</div>"
      ],
      "text/plain": [
       "    id group1      group2     \n",
       "         col1 col2   col3 col4\n",
       "0  323      a    4      g    5\n",
       "1  433      b    5      r    6\n",
       "2  123      c    6      d    7\n",
       "3  321      d    7      x    5"
      ]
     },
     "execution_count": 15,
     "metadata": {},
     "output_type": "execute_result"
    }
   ],
   "source": [
    "df.columns = new_columns\n",
    "df"
   ]
  }
 ],
 "metadata": {
  "kernelspec": {
   "display_name": "Python 3 (ipykernel)",
   "language": "python",
   "name": "python3"
  },
  "language_info": {
   "codemirror_mode": {
    "name": "ipython",
    "version": 3
   },
   "file_extension": ".py",
   "mimetype": "text/x-python",
   "name": "python",
   "nbconvert_exporter": "python",
   "pygments_lexer": "ipython3",
   "version": "3.10.6"
  }
 },
 "nbformat": 4,
 "nbformat_minor": 5
}
