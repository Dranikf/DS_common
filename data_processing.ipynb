{
 "cells": [
  {
   "cell_type": "markdown",
   "id": "ffad1ad7-4ddc-4bb0-a380-fbdd8ff75373",
   "metadata": {},
   "source": [
    "# Desribes and testing of functions for data processing"
   ]
  },
  {
   "cell_type": "code",
   "execution_count": 1,
   "id": "0990c0d4-5fd4-4cb1-b4fb-3991fbdfa709",
   "metadata": {},
   "outputs": [],
   "source": [
    "import pandas as pd\n",
    "import numpy as np\n",
    "\n",
    "from data_processing import *"
   ]
  },
  {
   "cell_type": "code",
   "execution_count": 2,
   "id": "b51123c8-5fd2-4880-ba0b-730d0950cefc",
   "metadata": {},
   "outputs": [],
   "source": [
    "test_df = pd.DataFrame({\n",
    "    \"num_var\" : np.random.normal(3, 5, 200),\n",
    "    \"cut_var\" : np.random.choice(['a', 'b'])\n",
    "})"
   ]
  },
  {
   "cell_type": "markdown",
   "id": "1dc4b24b-86d3-4e0d-9ad6-0c3f0b2c2b1c",
   "metadata": {
    "tags": []
   },
   "source": [
    "# insert_next\n",
    "\n",
    "Quick insertion following the column selected by name for pandas.DataFrame."
   ]
  },
  {
   "cell_type": "code",
   "execution_count": 3,
   "id": "47bd06c0-14a4-42e9-afa7-c77b57c757f6",
   "metadata": {},
   "outputs": [
    {
     "data": {
      "text/html": [
       "<div>\n",
       "<style scoped>\n",
       "    .dataframe tbody tr th:only-of-type {\n",
       "        vertical-align: middle;\n",
       "    }\n",
       "\n",
       "    .dataframe tbody tr th {\n",
       "        vertical-align: top;\n",
       "    }\n",
       "\n",
       "    .dataframe thead th {\n",
       "        text-align: right;\n",
       "    }\n",
       "</style>\n",
       "<table border=\"1\" class=\"dataframe\">\n",
       "  <thead>\n",
       "    <tr style=\"text-align: right;\">\n",
       "      <th></th>\n",
       "      <th>num_var</th>\n",
       "      <th>num_var_transf</th>\n",
       "      <th>cut_var</th>\n",
       "    </tr>\n",
       "  </thead>\n",
       "  <tbody>\n",
       "    <tr>\n",
       "      <th>0</th>\n",
       "      <td>-0.613778</td>\n",
       "      <td>-0.030689</td>\n",
       "      <td>a</td>\n",
       "    </tr>\n",
       "    <tr>\n",
       "      <th>1</th>\n",
       "      <td>-4.452458</td>\n",
       "      <td>-0.222623</td>\n",
       "      <td>a</td>\n",
       "    </tr>\n",
       "    <tr>\n",
       "      <th>2</th>\n",
       "      <td>4.347046</td>\n",
       "      <td>0.217352</td>\n",
       "      <td>a</td>\n",
       "    </tr>\n",
       "    <tr>\n",
       "      <th>3</th>\n",
       "      <td>10.615675</td>\n",
       "      <td>0.530784</td>\n",
       "      <td>a</td>\n",
       "    </tr>\n",
       "    <tr>\n",
       "      <th>4</th>\n",
       "      <td>7.866511</td>\n",
       "      <td>0.393326</td>\n",
       "      <td>a</td>\n",
       "    </tr>\n",
       "    <tr>\n",
       "      <th>...</th>\n",
       "      <td>...</td>\n",
       "      <td>...</td>\n",
       "      <td>...</td>\n",
       "    </tr>\n",
       "    <tr>\n",
       "      <th>195</th>\n",
       "      <td>-2.082466</td>\n",
       "      <td>-0.104123</td>\n",
       "      <td>a</td>\n",
       "    </tr>\n",
       "    <tr>\n",
       "      <th>196</th>\n",
       "      <td>4.875589</td>\n",
       "      <td>0.243779</td>\n",
       "      <td>a</td>\n",
       "    </tr>\n",
       "    <tr>\n",
       "      <th>197</th>\n",
       "      <td>6.686789</td>\n",
       "      <td>0.334339</td>\n",
       "      <td>a</td>\n",
       "    </tr>\n",
       "    <tr>\n",
       "      <th>198</th>\n",
       "      <td>2.472008</td>\n",
       "      <td>0.123600</td>\n",
       "      <td>a</td>\n",
       "    </tr>\n",
       "    <tr>\n",
       "      <th>199</th>\n",
       "      <td>5.902764</td>\n",
       "      <td>0.295138</td>\n",
       "      <td>a</td>\n",
       "    </tr>\n",
       "  </tbody>\n",
       "</table>\n",
       "<p>200 rows × 3 columns</p>\n",
       "</div>"
      ],
      "text/plain": [
       "       num_var  num_var_transf cut_var\n",
       "0    -0.613778       -0.030689       a\n",
       "1    -4.452458       -0.222623       a\n",
       "2     4.347046        0.217352       a\n",
       "3    10.615675        0.530784       a\n",
       "4     7.866511        0.393326       a\n",
       "..         ...             ...     ...\n",
       "195  -2.082466       -0.104123       a\n",
       "196   4.875589        0.243779       a\n",
       "197   6.686789        0.334339       a\n",
       "198   2.472008        0.123600       a\n",
       "199   5.902764        0.295138       a\n",
       "\n",
       "[200 rows x 3 columns]"
      ]
     },
     "execution_count": 3,
     "metadata": {},
     "output_type": "execute_result"
    }
   ],
   "source": [
    "insert_next(test_df, \"num_var\", test_df[\"num_var\"] / 20)\n",
    "\n",
    "test_df"
   ]
  },
  {
   "cell_type": "code",
   "execution_count": 4,
   "id": "743ef994-e22a-4ca3-a6e9-3ef00766a25e",
   "metadata": {},
   "outputs": [
    {
     "data": {
      "text/html": [
       "<div>\n",
       "<style scoped>\n",
       "    .dataframe tbody tr th:only-of-type {\n",
       "        vertical-align: middle;\n",
       "    }\n",
       "\n",
       "    .dataframe tbody tr th {\n",
       "        vertical-align: top;\n",
       "    }\n",
       "\n",
       "    .dataframe thead th {\n",
       "        text-align: right;\n",
       "    }\n",
       "</style>\n",
       "<table border=\"1\" class=\"dataframe\">\n",
       "  <thead>\n",
       "    <tr style=\"text-align: right;\">\n",
       "      <th></th>\n",
       "      <th>num_var</th>\n",
       "      <th>num_var_transf</th>\n",
       "      <th>cut_var</th>\n",
       "    </tr>\n",
       "  </thead>\n",
       "  <tbody>\n",
       "    <tr>\n",
       "      <th>0</th>\n",
       "      <td>-0.613778</td>\n",
       "      <td>-12.275554</td>\n",
       "      <td>a</td>\n",
       "    </tr>\n",
       "    <tr>\n",
       "      <th>1</th>\n",
       "      <td>-4.452458</td>\n",
       "      <td>-89.049154</td>\n",
       "      <td>a</td>\n",
       "    </tr>\n",
       "    <tr>\n",
       "      <th>2</th>\n",
       "      <td>4.347046</td>\n",
       "      <td>86.940914</td>\n",
       "      <td>a</td>\n",
       "    </tr>\n",
       "    <tr>\n",
       "      <th>3</th>\n",
       "      <td>10.615675</td>\n",
       "      <td>212.313492</td>\n",
       "      <td>a</td>\n",
       "    </tr>\n",
       "    <tr>\n",
       "      <th>4</th>\n",
       "      <td>7.866511</td>\n",
       "      <td>157.330222</td>\n",
       "      <td>a</td>\n",
       "    </tr>\n",
       "    <tr>\n",
       "      <th>...</th>\n",
       "      <td>...</td>\n",
       "      <td>...</td>\n",
       "      <td>...</td>\n",
       "    </tr>\n",
       "    <tr>\n",
       "      <th>195</th>\n",
       "      <td>-2.082466</td>\n",
       "      <td>-41.649321</td>\n",
       "      <td>a</td>\n",
       "    </tr>\n",
       "    <tr>\n",
       "      <th>196</th>\n",
       "      <td>4.875589</td>\n",
       "      <td>97.511781</td>\n",
       "      <td>a</td>\n",
       "    </tr>\n",
       "    <tr>\n",
       "      <th>197</th>\n",
       "      <td>6.686789</td>\n",
       "      <td>133.735782</td>\n",
       "      <td>a</td>\n",
       "    </tr>\n",
       "    <tr>\n",
       "      <th>198</th>\n",
       "      <td>2.472008</td>\n",
       "      <td>49.440158</td>\n",
       "      <td>a</td>\n",
       "    </tr>\n",
       "    <tr>\n",
       "      <th>199</th>\n",
       "      <td>5.902764</td>\n",
       "      <td>118.055286</td>\n",
       "      <td>a</td>\n",
       "    </tr>\n",
       "  </tbody>\n",
       "</table>\n",
       "<p>200 rows × 3 columns</p>\n",
       "</div>"
      ],
      "text/plain": [
       "       num_var  num_var_transf cut_var\n",
       "0    -0.613778      -12.275554       a\n",
       "1    -4.452458      -89.049154       a\n",
       "2     4.347046       86.940914       a\n",
       "3    10.615675      212.313492       a\n",
       "4     7.866511      157.330222       a\n",
       "..         ...             ...     ...\n",
       "195  -2.082466      -41.649321       a\n",
       "196   4.875589       97.511781       a\n",
       "197   6.686789      133.735782       a\n",
       "198   2.472008       49.440158       a\n",
       "199   5.902764      118.055286       a\n",
       "\n",
       "[200 rows x 3 columns]"
      ]
     },
     "execution_count": 4,
     "metadata": {},
     "output_type": "execute_result"
    }
   ],
   "source": [
    "insert_next(test_df, \"num_var\", test_df[\"num_var\"]*20)"
   ]
  },
  {
   "cell_type": "markdown",
   "id": "7234a764-91ac-4c8e-bd01-3a63099b4395",
   "metadata": {},
   "source": [
    "# get_num_cond\n",
    "\n",
    "Get condition for selection from pandas.DataFrame numeric data types"
   ]
  },
  {
   "cell_type": "code",
   "execution_count": 5,
   "id": "52b8e366-df33-44ba-9ca2-25a25b511b2e",
   "metadata": {},
   "outputs": [
    {
     "data": {
      "text/plain": [
       "num_var            True\n",
       "num_var_transf     True\n",
       "cut_var           False\n",
       "dtype: bool"
      ]
     },
     "execution_count": 5,
     "metadata": {},
     "output_type": "execute_result"
    }
   ],
   "source": [
    "get_num_cond(test_df)"
   ]
  },
  {
   "cell_type": "markdown",
   "id": "9cf387a9-8ac6-4516-a588-2b1f40c694c1",
   "metadata": {},
   "source": [
    "# pd_OHE\n",
    "\n",
    "Conduct one hot encoding for pandas data frame with the result as pandas.DataFrame and columns in reading format. "
   ]
  },
  {
   "cell_type": "code",
   "execution_count": 6,
   "id": "89a67b14-3c74-4a72-a3bb-61f4630a6442",
   "metadata": {},
   "outputs": [
    {
     "data": {
      "text/html": [
       "<div>\n",
       "<style scoped>\n",
       "    .dataframe tbody tr th:only-of-type {\n",
       "        vertical-align: middle;\n",
       "    }\n",
       "\n",
       "    .dataframe tbody tr th {\n",
       "        vertical-align: top;\n",
       "    }\n",
       "\n",
       "    .dataframe thead th {\n",
       "        text-align: right;\n",
       "    }\n",
       "</style>\n",
       "<table border=\"1\" class=\"dataframe\">\n",
       "  <thead>\n",
       "    <tr style=\"text-align: right;\">\n",
       "      <th></th>\n",
       "      <th>my_col_b</th>\n",
       "      <th>my_col_nan</th>\n",
       "      <th>my_col2_d</th>\n",
       "      <th>my_col2_g</th>\n",
       "      <th>my_col2_q</th>\n",
       "      <th>my_col2_t</th>\n",
       "    </tr>\n",
       "  </thead>\n",
       "  <tbody>\n",
       "    <tr>\n",
       "      <th>0</th>\n",
       "      <td>0.0</td>\n",
       "      <td>0.0</td>\n",
       "      <td>1.0</td>\n",
       "      <td>0.0</td>\n",
       "      <td>0.0</td>\n",
       "      <td>0.0</td>\n",
       "    </tr>\n",
       "    <tr>\n",
       "      <th>1</th>\n",
       "      <td>1.0</td>\n",
       "      <td>0.0</td>\n",
       "      <td>0.0</td>\n",
       "      <td>0.0</td>\n",
       "      <td>0.0</td>\n",
       "      <td>0.0</td>\n",
       "    </tr>\n",
       "    <tr>\n",
       "      <th>2</th>\n",
       "      <td>1.0</td>\n",
       "      <td>0.0</td>\n",
       "      <td>0.0</td>\n",
       "      <td>0.0</td>\n",
       "      <td>0.0</td>\n",
       "      <td>1.0</td>\n",
       "    </tr>\n",
       "    <tr>\n",
       "      <th>3</th>\n",
       "      <td>0.0</td>\n",
       "      <td>0.0</td>\n",
       "      <td>0.0</td>\n",
       "      <td>1.0</td>\n",
       "      <td>0.0</td>\n",
       "      <td>0.0</td>\n",
       "    </tr>\n",
       "    <tr>\n",
       "      <th>4</th>\n",
       "      <td>0.0</td>\n",
       "      <td>1.0</td>\n",
       "      <td>0.0</td>\n",
       "      <td>0.0</td>\n",
       "      <td>1.0</td>\n",
       "      <td>0.0</td>\n",
       "    </tr>\n",
       "  </tbody>\n",
       "</table>\n",
       "</div>"
      ],
      "text/plain": [
       "   my_col_b  my_col_nan  my_col2_d  my_col2_g  my_col2_q  my_col2_t\n",
       "0       0.0         0.0        1.0        0.0        0.0        0.0\n",
       "1       1.0         0.0        0.0        0.0        0.0        0.0\n",
       "2       1.0         0.0        0.0        0.0        0.0        1.0\n",
       "3       0.0         0.0        0.0        1.0        0.0        0.0\n",
       "4       0.0         1.0        0.0        0.0        1.0        0.0"
      ]
     },
     "execution_count": 6,
     "metadata": {},
     "output_type": "execute_result"
    }
   ],
   "source": [
    "test_df = pd.DataFrame({\n",
    "        'my_col' : ['a', 'b', 'b', 'a', np.NaN],\n",
    "        'my_col2': ['d', 'v', 't', 'g', 'q']\n",
    "})\n",
    "\n",
    "pd_OHE(test_df, sk_OHE_kwarg = {'drop':['a', 'v']})"
   ]
  },
  {
   "cell_type": "markdown",
   "id": "48d565bf-a857-4406-b48a-cf4a8af9ce21",
   "metadata": {
    "tags": []
   },
   "source": [
    "# get_join_repl_rule\n",
    "Get an joining rule for the levels of some variable for further use in `pandas.Series.replace`"
   ]
  },
  {
   "cell_type": "code",
   "execution_count": 7,
   "id": "c5dd07d5-3e52-4de3-a69a-59c08d5f8a6f",
   "metadata": {
    "tags": []
   },
   "outputs": [
    {
     "data": {
      "text/plain": [
       "{'lev1': 'lev1_lev2', 'lev2': 'lev1_lev2', 'lev3': 'lev3'}"
      ]
     },
     "execution_count": 7,
     "metadata": {},
     "output_type": "execute_result"
    }
   ],
   "source": [
    "get_merge_repl_rule([['lev1', 'lev2'], ['lev3']])"
   ]
  },
  {
   "cell_type": "markdown",
   "id": "4c1e7243-02d5-4b1b-8580-8ec866f78a38",
   "metadata": {},
   "source": [
    "# np_replace"
   ]
  },
  {
   "cell_type": "code",
   "execution_count": 8,
   "id": "ea7b70d9-bb4b-474f-b562-dc7b8705faf1",
   "metadata": {},
   "outputs": [
    {
     "data": {
      "text/plain": [
       "array([['b', 'b', 'b', 'b', 'b', 'c', 'a', 'c', 'c', 'a', 'a', 'a', 'a',\n",
       "        'c', 'c'],\n",
       "       ['b', 'a', 'a', 'c', 'a', 'c', 'c', 'c', 'c', 'a', 'b', 'a', 'a',\n",
       "        'c', 'a'],\n",
       "       ['c', 'a', 'a', 'b', 'a', 'a', 'b', 'b', 'c', 'c', 'a', 'b', 'c',\n",
       "        'a', 'b'],\n",
       "       ['b', 'b', 'a', 'c', 'a', 'b', 'b', 'a', 'a', 'b', 'b', 'a', 'a',\n",
       "        'a', 'a'],\n",
       "       ['b', 'a', 'b', 'c', 'a', 'a', 'b', 'c', 'b', 'a', 'a', 'c', 'b',\n",
       "        'c', 'b'],\n",
       "       ['a', 'b', 'a', 'c', 'b', 'c', 'c', 'b', 'c', 'a', 'c', 'c', 'a',\n",
       "        'c', 'b'],\n",
       "       ['c', 'b', 'b', 'b', 'a', 'c', 'b', 'b', 'c', 'c', 'a', 'c', 'b',\n",
       "        'a', 'b'],\n",
       "       ['a', 'a', 'b', 'c', 'b', 'c', 'c', 'c', 'b', 'b', 'a', 'b', 'b',\n",
       "        'c', 'a'],\n",
       "       ['c', 'a', 'c', 'c', 'c', 'b', 'a', 'a', 'a', 'a', 'b', 'c', 'b',\n",
       "        'a', 'c'],\n",
       "       ['a', 'b', 'a', 'b', 'b', 'b', 'c', 'b', 'a', 'c', 'c', 'b', 'a',\n",
       "        'c', 'c'],\n",
       "       ['c', 'a', 'c', 'a', 'c', 'a', 'b', 'b', 'b', 'c', 'a', 'a', 'a',\n",
       "        'b', 'c'],\n",
       "       ['a', 'b', 'b', 'a', 'c', 'b', 'c', 'c', 'b', 'b', 'c', 'a', 'b',\n",
       "        'a', 'c'],\n",
       "       ['a', 'a', 'c', 'b', 'b', 'c', 'a', 'a', 'b', 'a', 'b', 'b', 'c',\n",
       "        'c', 'b'],\n",
       "       ['a', 'a', 'b', 'b', 'a', 'b', 'a', 'b', 'c', 'b', 'a', 'b', 'b',\n",
       "        'c', 'b'],\n",
       "       ['b', 'b', 'b', 'c', 'b', 'a', 'b', 'c', 'c', 'a', 'a', 'a', 'b',\n",
       "        'c', 'a'],\n",
       "       ['b', 'c', 'b', 'b', 'c', 'a', 'c', 'a', 'c', 'c', 'c', 'b', 'c',\n",
       "        'b', 'c'],\n",
       "       ['c', 'b', 'c', 'c', 'b', 'c', 'b', 'a', 'a', 'a', 'b', 'a', 'b',\n",
       "        'a', 'a'],\n",
       "       ['c', 'a', 'b', 'c', 'b', 'c', 'b', 'a', 'b', 'b', 'b', 'a', 'c',\n",
       "        'c', 'c'],\n",
       "       ['c', 'c', 'a', 'c', 'c', 'c', 'b', 'a', 'b', 'c', 'a', 'b', 'a',\n",
       "        'a', 'c'],\n",
       "       ['a', 'c', 'a', 'a', 'c', 'b', 'a', 'c', 'b', 'a', 'c', 'c', 'c',\n",
       "        'b', 'a']], dtype='<U1')"
      ]
     },
     "execution_count": 8,
     "metadata": {},
     "output_type": "execute_result"
    }
   ],
   "source": [
    "X = np.random.choice(\n",
    "    ['a', 'b', 'c'], [20, 15]\n",
    ")\n",
    "\n",
    "X"
   ]
  },
  {
   "cell_type": "code",
   "execution_count": 9,
   "id": "43d0c8be-8eb7-4c1b-af52-484c0c47dc33",
   "metadata": {},
   "outputs": [
    {
     "data": {
      "text/plain": [
       "array([['test_b', 'test_b', 'test_b', 'test_b', 'test_b', 'c', 'test_a2',\n",
       "        'c', 'c', 'test_a2', 'test_a2', 'test_a2', 'test_a2', 'c', 'c'],\n",
       "       ['test_b', 'test_a2', 'test_a2', 'c', 'test_a2', 'c', 'c', 'c',\n",
       "        'c', 'test_a2', 'test_b', 'test_a2', 'test_a2', 'c', 'test_a2'],\n",
       "       ['c', 'test_a2', 'test_a2', 'test_b', 'test_a2', 'test_a2',\n",
       "        'test_b', 'test_b', 'c', 'c', 'test_a2', 'test_b', 'c',\n",
       "        'test_a2', 'test_b'],\n",
       "       ['test_b', 'test_b', 'test_a2', 'c', 'test_a2', 'test_b',\n",
       "        'test_b', 'test_a2', 'test_a2', 'test_b', 'test_b', 'test_a2',\n",
       "        'test_a2', 'test_a2', 'test_a2'],\n",
       "       ['test_b', 'test_a2', 'test_b', 'c', 'test_a2', 'test_a2',\n",
       "        'test_b', 'c', 'test_b', 'test_a2', 'test_a2', 'c', 'test_b',\n",
       "        'c', 'test_b'],\n",
       "       ['test_a2', 'test_b', 'test_a2', 'c', 'test_b', 'c', 'c',\n",
       "        'test_b', 'c', 'test_a2', 'c', 'c', 'test_a2', 'c', 'test_b'],\n",
       "       ['c', 'test_b', 'test_b', 'test_b', 'test_a2', 'c', 'test_b',\n",
       "        'test_b', 'c', 'c', 'test_a2', 'c', 'test_b', 'test_a2',\n",
       "        'test_b'],\n",
       "       ['test_a2', 'test_a2', 'test_b', 'c', 'test_b', 'c', 'c', 'c',\n",
       "        'test_b', 'test_b', 'test_a2', 'test_b', 'test_b', 'c',\n",
       "        'test_a2'],\n",
       "       ['c', 'test_a2', 'c', 'c', 'c', 'test_b', 'test_a2', 'test_a2',\n",
       "        'test_a2', 'test_a2', 'test_b', 'c', 'test_b', 'test_a2', 'c'],\n",
       "       ['test_a2', 'test_b', 'test_a2', 'test_b', 'test_b', 'test_b',\n",
       "        'c', 'test_b', 'test_a2', 'c', 'c', 'test_b', 'test_a2', 'c',\n",
       "        'c'],\n",
       "       ['c', 'test_a2', 'c', 'test_a2', 'c', 'test_a2', 'test_b',\n",
       "        'test_b', 'test_b', 'c', 'test_a2', 'test_a2', 'test_a2',\n",
       "        'test_b', 'c'],\n",
       "       ['test_a2', 'test_b', 'test_b', 'test_a2', 'c', 'test_b', 'c',\n",
       "        'c', 'test_b', 'test_b', 'c', 'test_a2', 'test_b', 'test_a2',\n",
       "        'c'],\n",
       "       ['test_a2', 'test_a2', 'c', 'test_b', 'test_b', 'c', 'test_a2',\n",
       "        'test_a2', 'test_b', 'test_a2', 'test_b', 'test_b', 'c', 'c',\n",
       "        'test_b'],\n",
       "       ['test_a2', 'test_a2', 'test_b', 'test_b', 'test_a2', 'test_b',\n",
       "        'test_a2', 'test_b', 'c', 'test_b', 'test_a2', 'test_b',\n",
       "        'test_b', 'c', 'test_b'],\n",
       "       ['test_b', 'test_b', 'test_b', 'c', 'test_b', 'test_a2', 'test_b',\n",
       "        'c', 'c', 'test_a2', 'test_a2', 'test_a2', 'test_b', 'c',\n",
       "        'test_a2'],\n",
       "       ['test_b', 'c', 'test_b', 'test_b', 'c', 'test_a2', 'c',\n",
       "        'test_a2', 'c', 'c', 'c', 'test_b', 'c', 'test_b', 'c'],\n",
       "       ['c', 'test_b', 'c', 'c', 'test_b', 'c', 'test_b', 'test_a2',\n",
       "        'test_a2', 'test_a2', 'test_b', 'test_a2', 'test_b', 'test_a2',\n",
       "        'test_a2'],\n",
       "       ['c', 'test_a2', 'test_b', 'c', 'test_b', 'c', 'test_b',\n",
       "        'test_a2', 'test_b', 'test_b', 'test_b', 'test_a2', 'c', 'c',\n",
       "        'c'],\n",
       "       ['c', 'c', 'test_a2', 'c', 'c', 'c', 'test_b', 'test_a2',\n",
       "        'test_b', 'c', 'test_a2', 'test_b', 'test_a2', 'test_a2', 'c'],\n",
       "       ['test_a2', 'c', 'test_a2', 'test_a2', 'c', 'test_b', 'test_a2',\n",
       "        'c', 'test_b', 'test_a2', 'c', 'c', 'c', 'test_b', 'test_a2']],\n",
       "      dtype='<U7')"
      ]
     },
     "execution_count": 9,
     "metadata": {},
     "output_type": "execute_result"
    }
   ],
   "source": [
    "np_replace(X, {'a':'test_a', 'b': \"test_b\", 'a':\"test_a2\"})"
   ]
  }
 ],
 "metadata": {
  "kernelspec": {
   "display_name": "Python 3 (ipykernel)",
   "language": "python",
   "name": "python3"
  },
  "language_info": {
   "codemirror_mode": {
    "name": "ipython",
    "version": 3
   },
   "file_extension": ".py",
   "mimetype": "text/x-python",
   "name": "python",
   "nbconvert_exporter": "python",
   "pygments_lexer": "ipython3",
   "version": "3.10.5"
  }
 },
 "nbformat": 4,
 "nbformat_minor": 5
}
