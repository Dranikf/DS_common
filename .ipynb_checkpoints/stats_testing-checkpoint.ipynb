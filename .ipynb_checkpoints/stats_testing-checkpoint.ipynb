{
 "cells": [
  {
   "cell_type": "markdown",
   "id": "1da1f4d6",
   "metadata": {},
   "source": [
    "# Testing of my stats.py"
   ]
  },
  {
   "cell_type": "code",
   "execution_count": 10,
   "id": "f8aaea6a",
   "metadata": {},
   "outputs": [],
   "source": [
    "import stats as st\n",
    "\n",
    "import numpy as np\n",
    "import scipy as sp"
   ]
  },
  {
   "cell_type": "markdown",
   "id": "1ecb1355",
   "metadata": {},
   "source": [
    "# Classification samples generator\n",
    "\n",
    "Function generages 3 samples - 1st is two classes Y, 2nd is a variable wich related on 1st, 3rd is a variable wich not related on 1st."
   ]
  },
  {
   "cell_type": "code",
   "execution_count": 11,
   "id": "bc31b3cd",
   "metadata": {},
   "outputs": [],
   "source": [
    "def get_distrs(n):\n",
    "    Y = (np.random.rand(n) > 0.5).astype('int')\n",
    "    X1 = np.zeros(n)\n",
    "    X1[Y == 0] = np.random.normal(0, 2, sum(Y == 0))\n",
    "    X1[Y == 1] = np.random.normal(4, 2, sum(Y == 1))\n",
    "    \n",
    "    X2 = np.random.normal(2, 4, n)\n",
    "    \n",
    "    return [Y,X1,X2]"
   ]
  },
  {
   "cell_type": "code",
   "execution_count": 128,
   "id": "c64b0d7f",
   "metadata": {},
   "outputs": [
    {
     "name": "stdout",
     "output_type": "stream",
     "text": [
      "1.3030207549640408e-119\n",
      "2.4273505746160667e-234\n"
     ]
    }
   ],
   "source": [
    "Y,X1,X2 = get_distrs(2000)\n",
    "\n",
    "result = sp.stats.ks_2samp(X1[Y], X1[np.invert(Y)])\n",
    "\n",
    "def KS_for_class_level(y_col, level, KS_stat):\n",
    "    '''Get two side p-value for KS stat'''\n",
    "    # inputs:\n",
    "    # y_col - column with discriminant values\n",
    "    # level - value of y_col which will be regarded as True\n",
    "    # KS_stat - statistic for which is calculated p-value\n",
    "    # outputs:\n",
    "    # p-value\n",
    "    n = sum(y_col == level)\n",
    "    m = sum(y_col != level)\n",
    "    en = n*m/(n+m)\n",
    "    \n",
    "    return sp.stats.kstwo.sf(KS_stat, np.round(en))\n",
    "\n",
    "\n",
    "print(KS_for_class_level(Y, 1, result.statistic))\n",
    "print(result.pvalue)"
   ]
  },
  {
   "cell_type": "code",
   "execution_count": 93,
   "id": "e6f1a3ae",
   "metadata": {},
   "outputs": [],
   "source": []
  },
  {
   "cell_type": "markdown",
   "id": "9b247b1e",
   "metadata": {},
   "source": [
    "# KS_for_model - function"
   ]
  },
  {
   "cell_type": "markdown",
   "id": "4d10b23a",
   "metadata": {},
   "source": [
    "Lets apply KS test for samples from previos function.<br>\n",
    "for X1: KS->hight, p_val < 0.05, threshold ~ 0.5;<br>\n",
    "for X2: KS->low, p_val > 0.05, threshold -> random.<br>"
   ]
  },
  {
   "cell_type": "code",
   "execution_count": 8,
   "id": "d945b222",
   "metadata": {},
   "outputs": [],
   "source": [
    "from sklearn.metrics import roc_curve\n",
    "\n",
    "def KS_for_model(Y, predictions, **kwargs):\n",
    "    '''Full KS test implementation\n",
    "    in sphere of classifying model selection. \n",
    "    KS stat, threshold and p-value'''\n",
    "    \n",
    "    pred_norm = predictions - np.min(predictions)/\\\n",
    "                np.max(predictions) - np.min(predictions)\n",
    "    fpr, tpr, thresholds = roc_curve(Y, pred_norm)\n",
    "    \n",
    "    result = [np.max(np.abs(fpr - tpr))]\n",
    "    \n",
    "    norm_threshold = thresholds[np.argmax(np.abs(fpr - tpr))]\n",
    "    result.append(\n",
    "        predictions[norm_threshold == pred_norm][0]\n",
    "    )\n",
    "    \n",
    "    \n",
    "    sp.stats.kstwo\n",
    "    "
   ]
  }
 ],
 "metadata": {
  "kernelspec": {
   "display_name": "Python 3 (ipykernel)",
   "language": "python",
   "name": "python3"
  },
  "language_info": {
   "codemirror_mode": {
    "name": "ipython",
    "version": 3
   },
   "file_extension": ".py",
   "mimetype": "text/x-python",
   "name": "python",
   "nbconvert_exporter": "python",
   "pygments_lexer": "ipython3",
   "version": "3.10.4"
  }
 },
 "nbformat": 4,
 "nbformat_minor": 5
}
