{
 "cells": [
  {
   "cell_type": "markdown",
   "id": "05611658-bf9d-4257-921c-3931b6e96928",
   "metadata": {},
   "source": [
    "# Examples of using fuction in \"data_description.py\""
   ]
  },
  {
   "cell_type": "code",
   "execution_count": 1,
   "id": "b2b361ec-aed8-4dca-9244-3a85deafb02e",
   "metadata": {},
   "outputs": [],
   "source": [
    "import pandas as pd\n",
    "import numpy as np\n",
    "from data_description import *"
   ]
  },
  {
   "cell_type": "markdown",
   "id": "bf1964f4-bdd5-4bc8-ba1a-b9169501f54f",
   "metadata": {},
   "source": [
    "# Creation an exmples data frame"
   ]
  },
  {
   "cell_type": "code",
   "execution_count": 2,
   "id": "57d1455d-ccb6-4c69-9632-b4e0cd20fa96",
   "metadata": {},
   "outputs": [],
   "source": [
    "frame_size = 100\n",
    "\n",
    "data = pd.DataFrame({\n",
    "    'dates_column' : np.datetime64('2017-01-01') + np.random.choice(np.arange(0, 60), frame_size),\n",
    "    'object_column' : np.random.choice(['lev1', 'lev2', 'lev3'], frame_size),\n",
    "    'category_column' : pd.Series(np.random.choice(['lev1', 'lev2', 'lev3'], frame_size), dtype = \"category\"),\n",
    "    'bool_column' : np.random.choice([True, False], frame_size),\n",
    "    'float_column' : np.random.normal(5, 1, frame_size),\n",
    "    'integer_column' : np.random.normal(5, 1, frame_size).astype('int64')\n",
    "})\n",
    "\n",
    "for col_name in data.columns:\n",
    "    data.loc[data.sample(20).index, col_name] = np.NaN"
   ]
  },
  {
   "cell_type": "markdown",
   "id": "7818ecea-21ef-43cb-96e7-34a72754e74b",
   "metadata": {},
   "source": [
    "# `get_col_av_values`"
   ]
  },
  {
   "cell_type": "code",
   "execution_count": 3,
   "id": "e8015dd4-b4e1-4e0b-a77d-38fedd018042",
   "metadata": {},
   "outputs": [
    {
     "data": {
      "text/plain": [
       "dates_column                    [02.01.2017;01.03.2017]\n",
       "object_column                     lev1, lev2, lev3, nan\n",
       "category_column                   lev3, lev2, nan, lev1\n",
       "bool_column                            nan, False, True\n",
       "float_column       [2.878409569286852;7.34631318086829]\n",
       "integer_column                                [2.0;6.0]\n",
       "dtype: object"
      ]
     },
     "execution_count": 3,
     "metadata": {},
     "output_type": "execute_result"
    }
   ],
   "source": [
    "data.apply(get_col_av_values)"
   ]
  },
  {
   "cell_type": "markdown",
   "id": "7e8ad2b5-302a-41f1-ba0b-e550f63ccd75",
   "metadata": {},
   "source": [
    "# `get_col_obj_count`"
   ]
  },
  {
   "cell_type": "code",
   "execution_count": 4,
   "id": "4cfe2ee9-34e3-4962-9a8e-338cd160bf97",
   "metadata": {},
   "outputs": [
    {
     "data": {
      "text/plain": [
       "dates_column       -\n",
       "object_column      4\n",
       "category_column    4\n",
       "bool_column        3\n",
       "float_column       -\n",
       "integer_column     -\n",
       "dtype: object"
      ]
     },
     "execution_count": 4,
     "metadata": {},
     "output_type": "execute_result"
    }
   ],
   "source": [
    "data.apply(get_col_obj_count)"
   ]
  },
  {
   "cell_type": "markdown",
   "id": "188fc78c-dd82-490a-97be-c7afd33ac1e2",
   "metadata": {},
   "source": [
    "# `get_columns_desription`"
   ]
  },
  {
   "cell_type": "code",
   "execution_count": 5,
   "id": "495e0b96-1896-44d9-8fe6-a8ac94c440a9",
   "metadata": {},
   "outputs": [
    {
     "data": {
      "text/html": [
       "<div>\n",
       "<style scoped>\n",
       "    .dataframe tbody tr th:only-of-type {\n",
       "        vertical-align: middle;\n",
       "    }\n",
       "\n",
       "    .dataframe tbody tr th {\n",
       "        vertical-align: top;\n",
       "    }\n",
       "\n",
       "    .dataframe thead th {\n",
       "        text-align: right;\n",
       "    }\n",
       "</style>\n",
       "<table border=\"1\" class=\"dataframe\">\n",
       "  <thead>\n",
       "    <tr style=\"text-align: right;\">\n",
       "      <th></th>\n",
       "      <th>Data type</th>\n",
       "      <th>Range</th>\n",
       "      <th>Levels number</th>\n",
       "      <th>NA count</th>\n",
       "    </tr>\n",
       "  </thead>\n",
       "  <tbody>\n",
       "    <tr>\n",
       "      <th>dates_column</th>\n",
       "      <td>datetime64[ns]</td>\n",
       "      <td>[02.01.2017;01.03.2017]</td>\n",
       "      <td>-</td>\n",
       "      <td>20</td>\n",
       "    </tr>\n",
       "    <tr>\n",
       "      <th>object_column</th>\n",
       "      <td>object</td>\n",
       "      <td>lev1, lev2, lev3, nan</td>\n",
       "      <td>4</td>\n",
       "      <td>20</td>\n",
       "    </tr>\n",
       "    <tr>\n",
       "      <th>category_column</th>\n",
       "      <td>category</td>\n",
       "      <td>lev3, lev2, nan, lev1</td>\n",
       "      <td>4</td>\n",
       "      <td>20</td>\n",
       "    </tr>\n",
       "    <tr>\n",
       "      <th>bool_column</th>\n",
       "      <td>object</td>\n",
       "      <td>nan, False, True</td>\n",
       "      <td>3</td>\n",
       "      <td>20</td>\n",
       "    </tr>\n",
       "    <tr>\n",
       "      <th>float_column</th>\n",
       "      <td>float64</td>\n",
       "      <td>[2.878409569286852;7.34631318086829]</td>\n",
       "      <td>-</td>\n",
       "      <td>20</td>\n",
       "    </tr>\n",
       "    <tr>\n",
       "      <th>integer_column</th>\n",
       "      <td>float64</td>\n",
       "      <td>[2.0;6.0]</td>\n",
       "      <td>-</td>\n",
       "      <td>20</td>\n",
       "    </tr>\n",
       "  </tbody>\n",
       "</table>\n",
       "</div>"
      ],
      "text/plain": [
       "                      Data type                                 Range  \\\n",
       "dates_column     datetime64[ns]               [02.01.2017;01.03.2017]   \n",
       "object_column            object                 lev1, lev2, lev3, nan   \n",
       "category_column        category                 lev3, lev2, nan, lev1   \n",
       "bool_column              object                      nan, False, True   \n",
       "float_column            float64  [2.878409569286852;7.34631318086829]   \n",
       "integer_column          float64                             [2.0;6.0]   \n",
       "\n",
       "                Levels number NA count  \n",
       "dates_column                -       20  \n",
       "object_column               4       20  \n",
       "category_column             4       20  \n",
       "bool_column                 3       20  \n",
       "float_column                -       20  \n",
       "integer_column              -       20  "
      ]
     },
     "execution_count": 5,
     "metadata": {},
     "output_type": "execute_result"
    }
   ],
   "source": [
    "get_columns_desription(data)"
   ]
  },
  {
   "cell_type": "markdown",
   "id": "1d4e754f-c274-45d8-ac2a-66e4574f6865",
   "metadata": {},
   "source": [
    "# `get_most_freq`\n",
    "\n",
    "Returns value from series which has the most frequent manifestation of the trait specified in cond."
   ]
  },
  {
   "cell_type": "code",
   "execution_count": 6,
   "id": "8e7487ec-4cb7-49d1-b5ff-574f8932f98c",
   "metadata": {},
   "outputs": [
    {
     "data": {
      "text/html": [
       "<div>\n",
       "<style scoped>\n",
       "    .dataframe tbody tr th:only-of-type {\n",
       "        vertical-align: middle;\n",
       "    }\n",
       "\n",
       "    .dataframe tbody tr th {\n",
       "        vertical-align: top;\n",
       "    }\n",
       "\n",
       "    .dataframe thead th {\n",
       "        text-align: right;\n",
       "    }\n",
       "</style>\n",
       "<table border=\"1\" class=\"dataframe\">\n",
       "  <thead>\n",
       "    <tr style=\"text-align: right;\">\n",
       "      <th>ob_class</th>\n",
       "      <th>0</th>\n",
       "      <th>1</th>\n",
       "    </tr>\n",
       "    <tr>\n",
       "      <th>object_column</th>\n",
       "      <th></th>\n",
       "      <th></th>\n",
       "    </tr>\n",
       "  </thead>\n",
       "  <tbody>\n",
       "    <tr>\n",
       "      <th>lev1</th>\n",
       "      <td>20</td>\n",
       "      <td>13</td>\n",
       "    </tr>\n",
       "    <tr>\n",
       "      <th>lev2</th>\n",
       "      <td>0</td>\n",
       "      <td>22</td>\n",
       "    </tr>\n",
       "    <tr>\n",
       "      <th>lev3</th>\n",
       "      <td>10</td>\n",
       "      <td>15</td>\n",
       "    </tr>\n",
       "  </tbody>\n",
       "</table>\n",
       "</div>"
      ],
      "text/plain": [
       "ob_class        0   1\n",
       "object_column        \n",
       "lev1           20  13\n",
       "lev2            0  22\n",
       "lev3           10  15"
      ]
     },
     "execution_count": 6,
     "metadata": {},
     "output_type": "execute_result"
    }
   ],
   "source": [
    "data[\"ob_class\"] = data[\"object_column\"].apply(\n",
    "    lambda x: np.random.choice([0,1], p = [0, 1]) \\\n",
    "    if x == 'lev2' else\\\n",
    "    np.random.choice([0,1], p = [0.5, 0.5])\n",
    ")\n",
    "\n",
    "pd.crosstab(data['object_column'], data['ob_class'])"
   ]
  },
  {
   "cell_type": "code",
   "execution_count": 7,
   "id": "35b76847-822d-4436-b015-0952b51fbf1e",
   "metadata": {},
   "outputs": [
    {
     "data": {
      "text/plain": [
       "'lev1'"
      ]
     },
     "execution_count": 7,
     "metadata": {},
     "output_type": "execute_result"
    }
   ],
   "source": [
    "get_most_freq_by_cond(data['object_column'], data[\"ob_class\"] == 0)"
   ]
  },
  {
   "cell_type": "markdown",
   "id": "8c7579ad-8dad-4ea5-9429-4ce9eaee67ee",
   "metadata": {},
   "source": [
    "# `ECDFs_by_classes`"
   ]
  },
  {
   "cell_type": "code",
   "execution_count": 8,
   "id": "508dc3a1-3637-4cfe-bfd2-8d5d396bc80b",
   "metadata": {},
   "outputs": [],
   "source": [
    "val = np.array([0, 1, 2, 3])\n",
    "marker = np.array([\"a\", \"b\", \"a\", \"b\"])"
   ]
  },
  {
   "cell_type": "markdown",
   "id": "12d28cdc-51e8-4b44-9c66-657bbc27a08f",
   "metadata": {},
   "source": [
    "### *Default*\n",
    "\n",
    "By default, the function takes a series to build the ecdf and a row that divides the observations into classes."
   ]
  },
  {
   "cell_type": "code",
   "execution_count": 9,
   "id": "a1672335-ed58-4fa5-92a1-99c5ff73e93a",
   "metadata": {},
   "outputs": [
    {
     "data": {
      "text/plain": [
       "{'a': array([0.5, 0.5, 1. , 1. ]), 'b': array([0. , 0.5, 0.5, 1. ])}"
      ]
     },
     "execution_count": 9,
     "metadata": {},
     "output_type": "execute_result"
    }
   ],
   "source": [
    "ECDFs_by_classes(val, marker)"
   ]
  },
  {
   "cell_type": "markdown",
   "id": "9ca80dc1-c684-4693-9572-7cbdd0fe4725",
   "metadata": {},
   "source": [
    "### *`side`*\n",
    "\n",
    "`side` argument is similar to the value of this argument in <a href=\"https://www.statsmodels.org/dev/generated/statsmodels.distributions.empirical_distribution.ECDF.html\">Statsmodels</a>. Takes `'right'` by default."
   ]
  },
  {
   "cell_type": "markdown",
   "id": "217759a2-9e65-40a6-a559-5f13ed16ab96",
   "metadata": {},
   "source": [
    "Can take values `left` or `right` as strings. In this case all result functions will have relevant `side`."
   ]
  },
  {
   "cell_type": "code",
   "execution_count": 10,
   "id": "81d32ace-7581-4677-841b-1d1c87c0383e",
   "metadata": {},
   "outputs": [
    {
     "data": {
      "text/plain": [
       "{'a': array([0. , 0.5, 0.5, 1. ]), 'b': array([0. , 0. , 0.5, 0.5])}"
      ]
     },
     "execution_count": 10,
     "metadata": {},
     "output_type": "execute_result"
    }
   ],
   "source": [
    "ECDFs_by_classes(\n",
    "    val, marker, side= \"left\"\n",
    ")"
   ]
  },
  {
   "cell_type": "markdown",
   "id": "336d022a-50e1-4f83-8bc1-8e250a88cbca",
   "metadata": {},
   "source": [
    "If `list` used as a value of `side` then ecdf takes the corresponding `side` value for each class."
   ]
  },
  {
   "cell_type": "code",
   "execution_count": 11,
   "id": "de92a73a-4089-402a-a02e-95ed249cce2e",
   "metadata": {},
   "outputs": [
    {
     "data": {
      "text/plain": [
       "{'a': array([0.5, 0.5, 1. , 1. ]), 'b': array([0. , 0. , 0.5, 0.5])}"
      ]
     },
     "execution_count": 11,
     "metadata": {},
     "output_type": "execute_result"
    }
   ],
   "source": [
    "ECDFs_by_classes(\n",
    "    val, marker, side = [\"right\", \"left\"]\n",
    ")"
   ]
  },
  {
   "cell_type": "markdown",
   "id": "bc26bfb5-30cb-4dd1-ab04-9a4b5becff74",
   "metadata": {},
   "source": [
    "### `functions`\n",
    "\n",
    "Possible values:\n",
    "- `True` means that as a result, will be `statsmodels.distributions.empirical_distribution.ECDF` instances;\n",
    "- `False` means that as a result, will be `numpy.array` instances which contains value of ecdf in each point of the `val_col`.\n",
    "\n",
    "By default `False`."
   ]
  },
  {
   "cell_type": "code",
   "execution_count": 12,
   "id": "0cb0c910-093d-40c0-8018-08dc8276a2ab",
   "metadata": {},
   "outputs": [
    {
     "data": {
      "text/plain": [
       "{'a': <statsmodels.distributions.empirical_distribution.ECDF at 0x7fe8159606d0>,\n",
       " 'b': <statsmodels.distributions.empirical_distribution.ECDF at 0x7fe8159630d0>}"
      ]
     },
     "execution_count": 12,
     "metadata": {},
     "output_type": "execute_result"
    }
   ],
   "source": [
    "ECDFs_by_classes(\n",
    "    val, marker, functions = True\n",
    ")"
   ]
  }
 ],
 "metadata": {
  "kernelspec": {
   "display_name": "Python 3 (ipykernel)",
   "language": "python",
   "name": "python3"
  },
  "language_info": {
   "codemirror_mode": {
    "name": "ipython",
    "version": 3
   },
   "file_extension": ".py",
   "mimetype": "text/x-python",
   "name": "python",
   "nbconvert_exporter": "python",
   "pygments_lexer": "ipython3",
   "version": "3.10.0"
  }
 },
 "nbformat": 4,
 "nbformat_minor": 5
}
