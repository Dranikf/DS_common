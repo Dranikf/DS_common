{
 "cells": [
  {
   "cell_type": "markdown",
   "id": "05611658-bf9d-4257-921c-3931b6e96928",
   "metadata": {},
   "source": [
    "# Examples of using fuction in \"data_description.py\""
   ]
  },
  {
   "cell_type": "code",
   "execution_count": 1,
   "id": "b2b361ec-aed8-4dca-9244-3a85deafb02e",
   "metadata": {},
   "outputs": [],
   "source": [
    "import pandas as pd\n",
    "import numpy as np\n",
    "from data_description import *"
   ]
  },
  {
   "cell_type": "markdown",
   "id": "bf1964f4-bdd5-4bc8-ba1a-b9169501f54f",
   "metadata": {},
   "source": [
    "# Creation an exmples data frame"
   ]
  },
  {
   "cell_type": "code",
   "execution_count": 2,
   "id": "57d1455d-ccb6-4c69-9632-b4e0cd20fa96",
   "metadata": {},
   "outputs": [],
   "source": [
    "frame_size = 100\n",
    "\n",
    "data = pd.DataFrame({\n",
    "    'dates_column' : np.datetime64('2017-01-01') + np.random.choice(np.arange(0, 60), frame_size),\n",
    "    'object_column' : np.random.choice(['lev1', 'lev2', 'lev3'], frame_size),\n",
    "    'category_column' : pd.Series(np.random.choice(['lev1', 'lev2', 'lev3'], frame_size), dtype = \"category\"),\n",
    "    'bool_column' : np.random.choice([True, False], frame_size),\n",
    "    'float_column' : np.random.normal(5, 1, frame_size),\n",
    "    'integer_column' : np.random.normal(5, 1, frame_size).astype('int64')\n",
    "})\n",
    "\n",
    "for col_name in data.columns:\n",
    "    data.loc[data.sample(20).index, col_name] = np.NaN"
   ]
  },
  {
   "cell_type": "markdown",
   "id": "7818ecea-21ef-43cb-96e7-34a72754e74b",
   "metadata": {},
   "source": [
    "# Testing of \"get_col_av_values\" function"
   ]
  },
  {
   "cell_type": "code",
   "execution_count": 3,
   "id": "e8015dd4-b4e1-4e0b-a77d-38fedd018042",
   "metadata": {},
   "outputs": [
    {
     "data": {
      "text/plain": [
       "dates_column                      [01.01.2017;26.02.2017]\n",
       "object_column                       lev3, lev1, nan, lev2\n",
       "category_column                     lev1, lev2, lev3, nan\n",
       "bool_column                              nan, True, False\n",
       "float_column       [3.1749034414791204;7.213499187316685]\n",
       "integer_column                                  [2.0;7.0]\n",
       "dtype: object"
      ]
     },
     "execution_count": 3,
     "metadata": {},
     "output_type": "execute_result"
    }
   ],
   "source": [
    "data.apply(get_col_av_values)"
   ]
  },
  {
   "cell_type": "markdown",
   "id": "7e8ad2b5-302a-41f1-ba0b-e550f63ccd75",
   "metadata": {},
   "source": [
    "# Testing of \"get_col_obj_count\" function"
   ]
  },
  {
   "cell_type": "code",
   "execution_count": 4,
   "id": "4cfe2ee9-34e3-4962-9a8e-338cd160bf97",
   "metadata": {},
   "outputs": [
    {
     "data": {
      "text/plain": [
       "dates_column       -\n",
       "object_column      4\n",
       "category_column    4\n",
       "bool_column        3\n",
       "float_column       -\n",
       "integer_column     -\n",
       "dtype: object"
      ]
     },
     "execution_count": 4,
     "metadata": {},
     "output_type": "execute_result"
    }
   ],
   "source": [
    "data.apply(get_col_obj_count)"
   ]
  },
  {
   "cell_type": "markdown",
   "id": "188fc78c-dd82-490a-97be-c7afd33ac1e2",
   "metadata": {},
   "source": [
    "# Testing of \"get_columns_desription\" function"
   ]
  },
  {
   "cell_type": "code",
   "execution_count": 5,
   "id": "495e0b96-1896-44d9-8fe6-a8ac94c440a9",
   "metadata": {},
   "outputs": [
    {
     "data": {
      "text/html": [
       "<div>\n",
       "<style scoped>\n",
       "    .dataframe tbody tr th:only-of-type {\n",
       "        vertical-align: middle;\n",
       "    }\n",
       "\n",
       "    .dataframe tbody tr th {\n",
       "        vertical-align: top;\n",
       "    }\n",
       "\n",
       "    .dataframe thead th {\n",
       "        text-align: right;\n",
       "    }\n",
       "</style>\n",
       "<table border=\"1\" class=\"dataframe\">\n",
       "  <thead>\n",
       "    <tr style=\"text-align: right;\">\n",
       "      <th></th>\n",
       "      <th>Data type</th>\n",
       "      <th>Range</th>\n",
       "      <th>Levels number</th>\n",
       "      <th>NA count</th>\n",
       "    </tr>\n",
       "  </thead>\n",
       "  <tbody>\n",
       "    <tr>\n",
       "      <th>dates_column</th>\n",
       "      <td>datetime64[ns]</td>\n",
       "      <td>[01.01.2017;26.02.2017]</td>\n",
       "      <td>-</td>\n",
       "      <td>20</td>\n",
       "    </tr>\n",
       "    <tr>\n",
       "      <th>object_column</th>\n",
       "      <td>object</td>\n",
       "      <td>lev3, lev1, nan, lev2</td>\n",
       "      <td>4</td>\n",
       "      <td>20</td>\n",
       "    </tr>\n",
       "    <tr>\n",
       "      <th>category_column</th>\n",
       "      <td>category</td>\n",
       "      <td>lev1, lev2, lev3, nan</td>\n",
       "      <td>4</td>\n",
       "      <td>20</td>\n",
       "    </tr>\n",
       "    <tr>\n",
       "      <th>bool_column</th>\n",
       "      <td>object</td>\n",
       "      <td>nan, True, False</td>\n",
       "      <td>3</td>\n",
       "      <td>20</td>\n",
       "    </tr>\n",
       "    <tr>\n",
       "      <th>float_column</th>\n",
       "      <td>float64</td>\n",
       "      <td>[3.1749034414791204;7.213499187316685]</td>\n",
       "      <td>-</td>\n",
       "      <td>20</td>\n",
       "    </tr>\n",
       "    <tr>\n",
       "      <th>integer_column</th>\n",
       "      <td>float64</td>\n",
       "      <td>[2.0;7.0]</td>\n",
       "      <td>-</td>\n",
       "      <td>20</td>\n",
       "    </tr>\n",
       "  </tbody>\n",
       "</table>\n",
       "</div>"
      ],
      "text/plain": [
       "                      Data type                                   Range  \\\n",
       "dates_column     datetime64[ns]                 [01.01.2017;26.02.2017]   \n",
       "object_column            object                   lev3, lev1, nan, lev2   \n",
       "category_column        category                   lev1, lev2, lev3, nan   \n",
       "bool_column              object                        nan, True, False   \n",
       "float_column            float64  [3.1749034414791204;7.213499187316685]   \n",
       "integer_column          float64                               [2.0;7.0]   \n",
       "\n",
       "                Levels number NA count  \n",
       "dates_column                -       20  \n",
       "object_column               4       20  \n",
       "category_column             4       20  \n",
       "bool_column                 3       20  \n",
       "float_column                -       20  \n",
       "integer_column              -       20  "
      ]
     },
     "execution_count": 5,
     "metadata": {},
     "output_type": "execute_result"
    }
   ],
   "source": [
    "get_columns_desription(data)"
   ]
  },
  {
   "cell_type": "markdown",
   "id": "1d4e754f-c274-45d8-ac2a-66e4574f6865",
   "metadata": {},
   "source": [
    "# get_most_freq\n",
    "\n",
    "Returns value from series which has the most frequent manifestation of the trait specified in cond."
   ]
  },
  {
   "cell_type": "code",
   "execution_count": 6,
   "id": "8e7487ec-4cb7-49d1-b5ff-574f8932f98c",
   "metadata": {},
   "outputs": [
    {
     "data": {
      "text/html": [
       "<div>\n",
       "<style scoped>\n",
       "    .dataframe tbody tr th:only-of-type {\n",
       "        vertical-align: middle;\n",
       "    }\n",
       "\n",
       "    .dataframe tbody tr th {\n",
       "        vertical-align: top;\n",
       "    }\n",
       "\n",
       "    .dataframe thead th {\n",
       "        text-align: right;\n",
       "    }\n",
       "</style>\n",
       "<table border=\"1\" class=\"dataframe\">\n",
       "  <thead>\n",
       "    <tr style=\"text-align: right;\">\n",
       "      <th>ob_class</th>\n",
       "      <th>0</th>\n",
       "      <th>1</th>\n",
       "    </tr>\n",
       "    <tr>\n",
       "      <th>object_column</th>\n",
       "      <th></th>\n",
       "      <th></th>\n",
       "    </tr>\n",
       "  </thead>\n",
       "  <tbody>\n",
       "    <tr>\n",
       "      <th>lev1</th>\n",
       "      <td>17</td>\n",
       "      <td>13</td>\n",
       "    </tr>\n",
       "    <tr>\n",
       "      <th>lev2</th>\n",
       "      <td>0</td>\n",
       "      <td>23</td>\n",
       "    </tr>\n",
       "    <tr>\n",
       "      <th>lev3</th>\n",
       "      <td>10</td>\n",
       "      <td>17</td>\n",
       "    </tr>\n",
       "  </tbody>\n",
       "</table>\n",
       "</div>"
      ],
      "text/plain": [
       "ob_class        0   1\n",
       "object_column        \n",
       "lev1           17  13\n",
       "lev2            0  23\n",
       "lev3           10  17"
      ]
     },
     "execution_count": 6,
     "metadata": {},
     "output_type": "execute_result"
    }
   ],
   "source": [
    "data[\"ob_class\"] = data[\"object_column\"].apply(\n",
    "    lambda x: np.random.choice([0,1], p = [0, 1]) \\\n",
    "    if x == 'lev2' else\\\n",
    "    np.random.choice([0,1], p = [0.5, 0.5])\n",
    ")\n",
    "\n",
    "pd.crosstab(data['object_column'], data['ob_class'])"
   ]
  },
  {
   "cell_type": "code",
   "execution_count": 7,
   "id": "35b76847-822d-4436-b015-0952b51fbf1e",
   "metadata": {},
   "outputs": [
    {
     "data": {
      "text/plain": [
       "'lev1'"
      ]
     },
     "execution_count": 7,
     "metadata": {},
     "output_type": "execute_result"
    }
   ],
   "source": [
    "get_most_freq_by_cond(data['object_column'], data[\"ob_class\"] == 0)"
   ]
  },
  {
   "cell_type": "markdown",
   "id": "ed389ccb-0abc-423a-b0f8-4c998d41a097",
   "metadata": {},
   "source": [
    "# get_join_repl_rule\n",
    "Get an joining rule for the levels of some variable for further use in `pandas.Series.replace`"
   ]
  },
  {
   "cell_type": "code",
   "execution_count": 11,
   "id": "10bd8800-ba53-49ce-806a-9144b1479426",
   "metadata": {},
   "outputs": [],
   "source": [
    "def get_join_repl_rule(joiners):\n",
    "    '''\n",
    "        Get an joining rule for the levels of some variable \n",
    "        for further use in pandas.Series.replace\n",
    "        Inputs:\n",
    "            joiners - the list of lists;\n",
    "        Output dictionary with format {<old_level>:<new_level>}\n",
    "    '''\n",
    "    \n",
    "    rule = {}\n",
    "    \n",
    "    for join_lev in joiners:\n",
    "        res_level = join_lev[0]\n",
    "        for lev in join_lev[1:]:\n",
    "            res_level += \"_\" + lev\n",
    "        for lev in join_lev:\n",
    "            rule[lev] = res_level\n",
    "            \n",
    "    return rule"
   ]
  },
  {
   "cell_type": "code",
   "execution_count": 12,
   "id": "c511a4ee-a57e-4ad8-b250-f484273a861e",
   "metadata": {},
   "outputs": [
    {
     "data": {
      "text/plain": [
       "{'lev1': 'lev1_lev2', 'lev2': 'lev1_lev2', 'lev3': 'lev3'}"
      ]
     },
     "execution_count": 12,
     "metadata": {},
     "output_type": "execute_result"
    }
   ],
   "source": [
    "get_join_repl_rule([['lev1', 'lev2'], ['lev3']])"
   ]
  }
 ],
 "metadata": {
  "kernelspec": {
   "display_name": "Python 3 (ipykernel)",
   "language": "python",
   "name": "python3"
  },
  "language_info": {
   "codemirror_mode": {
    "name": "ipython",
    "version": 3
   },
   "file_extension": ".py",
   "mimetype": "text/x-python",
   "name": "python",
   "nbconvert_exporter": "python",
   "pygments_lexer": "ipython3",
   "version": "3.10.0"
  }
 },
 "nbformat": 4,
 "nbformat_minor": 5
}
