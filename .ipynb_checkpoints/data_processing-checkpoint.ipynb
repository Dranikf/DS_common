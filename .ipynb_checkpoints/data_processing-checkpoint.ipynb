{
 "cells": [
  {
   "cell_type": "markdown",
   "id": "ffad1ad7-4ddc-4bb0-a380-fbdd8ff75373",
   "metadata": {},
   "source": [
    "# Desribes and testing of functions for data processing"
   ]
  },
  {
   "cell_type": "code",
   "execution_count": 1,
   "id": "0990c0d4-5fd4-4cb1-b4fb-3991fbdfa709",
   "metadata": {},
   "outputs": [],
   "source": [
    "import pandas as pd\n",
    "import numpy as np\n",
    "\n",
    "from data_processing import *"
   ]
  },
  {
   "cell_type": "code",
   "execution_count": 2,
   "id": "b51123c8-5fd2-4880-ba0b-730d0950cefc",
   "metadata": {},
   "outputs": [],
   "source": [
    "test_df = pd.DataFrame({\n",
    "    \"num_var\" : np.random.normal(3, 5, 200),\n",
    "    \"cut_var\" : np.random.choice(['a', 'b'])\n",
    "})"
   ]
  },
  {
   "cell_type": "markdown",
   "id": "1dc4b24b-86d3-4e0d-9ad6-0c3f0b2c2b1c",
   "metadata": {
    "tags": []
   },
   "source": [
    "# insert_next\n",
    "\n",
    "Quick insertion following the column selected by name for pandas.DataFrame."
   ]
  },
  {
   "cell_type": "code",
   "execution_count": 3,
   "id": "47bd06c0-14a4-42e9-afa7-c77b57c757f6",
   "metadata": {},
   "outputs": [
    {
     "data": {
      "text/html": [
       "<div>\n",
       "<style scoped>\n",
       "    .dataframe tbody tr th:only-of-type {\n",
       "        vertical-align: middle;\n",
       "    }\n",
       "\n",
       "    .dataframe tbody tr th {\n",
       "        vertical-align: top;\n",
       "    }\n",
       "\n",
       "    .dataframe thead th {\n",
       "        text-align: right;\n",
       "    }\n",
       "</style>\n",
       "<table border=\"1\" class=\"dataframe\">\n",
       "  <thead>\n",
       "    <tr style=\"text-align: right;\">\n",
       "      <th></th>\n",
       "      <th>num_var</th>\n",
       "      <th>num_var_transf</th>\n",
       "      <th>cut_var</th>\n",
       "    </tr>\n",
       "  </thead>\n",
       "  <tbody>\n",
       "    <tr>\n",
       "      <th>0</th>\n",
       "      <td>3.057002</td>\n",
       "      <td>0.152850</td>\n",
       "      <td>b</td>\n",
       "    </tr>\n",
       "    <tr>\n",
       "      <th>1</th>\n",
       "      <td>5.790294</td>\n",
       "      <td>0.289515</td>\n",
       "      <td>b</td>\n",
       "    </tr>\n",
       "    <tr>\n",
       "      <th>2</th>\n",
       "      <td>5.595664</td>\n",
       "      <td>0.279783</td>\n",
       "      <td>b</td>\n",
       "    </tr>\n",
       "    <tr>\n",
       "      <th>3</th>\n",
       "      <td>3.650607</td>\n",
       "      <td>0.182530</td>\n",
       "      <td>b</td>\n",
       "    </tr>\n",
       "    <tr>\n",
       "      <th>4</th>\n",
       "      <td>-5.168614</td>\n",
       "      <td>-0.258431</td>\n",
       "      <td>b</td>\n",
       "    </tr>\n",
       "    <tr>\n",
       "      <th>...</th>\n",
       "      <td>...</td>\n",
       "      <td>...</td>\n",
       "      <td>...</td>\n",
       "    </tr>\n",
       "    <tr>\n",
       "      <th>195</th>\n",
       "      <td>6.272091</td>\n",
       "      <td>0.313605</td>\n",
       "      <td>b</td>\n",
       "    </tr>\n",
       "    <tr>\n",
       "      <th>196</th>\n",
       "      <td>-3.917972</td>\n",
       "      <td>-0.195899</td>\n",
       "      <td>b</td>\n",
       "    </tr>\n",
       "    <tr>\n",
       "      <th>197</th>\n",
       "      <td>4.847340</td>\n",
       "      <td>0.242367</td>\n",
       "      <td>b</td>\n",
       "    </tr>\n",
       "    <tr>\n",
       "      <th>198</th>\n",
       "      <td>0.371576</td>\n",
       "      <td>0.018579</td>\n",
       "      <td>b</td>\n",
       "    </tr>\n",
       "    <tr>\n",
       "      <th>199</th>\n",
       "      <td>7.188096</td>\n",
       "      <td>0.359405</td>\n",
       "      <td>b</td>\n",
       "    </tr>\n",
       "  </tbody>\n",
       "</table>\n",
       "<p>200 rows × 3 columns</p>\n",
       "</div>"
      ],
      "text/plain": [
       "      num_var  num_var_transf cut_var\n",
       "0    3.057002        0.152850       b\n",
       "1    5.790294        0.289515       b\n",
       "2    5.595664        0.279783       b\n",
       "3    3.650607        0.182530       b\n",
       "4   -5.168614       -0.258431       b\n",
       "..        ...             ...     ...\n",
       "195  6.272091        0.313605       b\n",
       "196 -3.917972       -0.195899       b\n",
       "197  4.847340        0.242367       b\n",
       "198  0.371576        0.018579       b\n",
       "199  7.188096        0.359405       b\n",
       "\n",
       "[200 rows x 3 columns]"
      ]
     },
     "execution_count": 3,
     "metadata": {},
     "output_type": "execute_result"
    }
   ],
   "source": [
    "insert_next(test_df, \"num_var\", test_df[\"num_var\"] / 20)\n",
    "\n",
    "test_df"
   ]
  },
  {
   "cell_type": "code",
   "execution_count": 4,
   "id": "743ef994-e22a-4ca3-a6e9-3ef00766a25e",
   "metadata": {},
   "outputs": [
    {
     "data": {
      "text/html": [
       "<div>\n",
       "<style scoped>\n",
       "    .dataframe tbody tr th:only-of-type {\n",
       "        vertical-align: middle;\n",
       "    }\n",
       "\n",
       "    .dataframe tbody tr th {\n",
       "        vertical-align: top;\n",
       "    }\n",
       "\n",
       "    .dataframe thead th {\n",
       "        text-align: right;\n",
       "    }\n",
       "</style>\n",
       "<table border=\"1\" class=\"dataframe\">\n",
       "  <thead>\n",
       "    <tr style=\"text-align: right;\">\n",
       "      <th></th>\n",
       "      <th>num_var</th>\n",
       "      <th>num_var_transf</th>\n",
       "      <th>cut_var</th>\n",
       "    </tr>\n",
       "  </thead>\n",
       "  <tbody>\n",
       "    <tr>\n",
       "      <th>0</th>\n",
       "      <td>3.057002</td>\n",
       "      <td>61.140047</td>\n",
       "      <td>b</td>\n",
       "    </tr>\n",
       "    <tr>\n",
       "      <th>1</th>\n",
       "      <td>5.790294</td>\n",
       "      <td>115.805887</td>\n",
       "      <td>b</td>\n",
       "    </tr>\n",
       "    <tr>\n",
       "      <th>2</th>\n",
       "      <td>5.595664</td>\n",
       "      <td>111.913281</td>\n",
       "      <td>b</td>\n",
       "    </tr>\n",
       "    <tr>\n",
       "      <th>3</th>\n",
       "      <td>3.650607</td>\n",
       "      <td>73.012139</td>\n",
       "      <td>b</td>\n",
       "    </tr>\n",
       "    <tr>\n",
       "      <th>4</th>\n",
       "      <td>-5.168614</td>\n",
       "      <td>-103.372278</td>\n",
       "      <td>b</td>\n",
       "    </tr>\n",
       "    <tr>\n",
       "      <th>...</th>\n",
       "      <td>...</td>\n",
       "      <td>...</td>\n",
       "      <td>...</td>\n",
       "    </tr>\n",
       "    <tr>\n",
       "      <th>195</th>\n",
       "      <td>6.272091</td>\n",
       "      <td>125.441828</td>\n",
       "      <td>b</td>\n",
       "    </tr>\n",
       "    <tr>\n",
       "      <th>196</th>\n",
       "      <td>-3.917972</td>\n",
       "      <td>-78.359437</td>\n",
       "      <td>b</td>\n",
       "    </tr>\n",
       "    <tr>\n",
       "      <th>197</th>\n",
       "      <td>4.847340</td>\n",
       "      <td>96.946802</td>\n",
       "      <td>b</td>\n",
       "    </tr>\n",
       "    <tr>\n",
       "      <th>198</th>\n",
       "      <td>0.371576</td>\n",
       "      <td>7.431521</td>\n",
       "      <td>b</td>\n",
       "    </tr>\n",
       "    <tr>\n",
       "      <th>199</th>\n",
       "      <td>7.188096</td>\n",
       "      <td>143.761915</td>\n",
       "      <td>b</td>\n",
       "    </tr>\n",
       "  </tbody>\n",
       "</table>\n",
       "<p>200 rows × 3 columns</p>\n",
       "</div>"
      ],
      "text/plain": [
       "      num_var  num_var_transf cut_var\n",
       "0    3.057002       61.140047       b\n",
       "1    5.790294      115.805887       b\n",
       "2    5.595664      111.913281       b\n",
       "3    3.650607       73.012139       b\n",
       "4   -5.168614     -103.372278       b\n",
       "..        ...             ...     ...\n",
       "195  6.272091      125.441828       b\n",
       "196 -3.917972      -78.359437       b\n",
       "197  4.847340       96.946802       b\n",
       "198  0.371576        7.431521       b\n",
       "199  7.188096      143.761915       b\n",
       "\n",
       "[200 rows x 3 columns]"
      ]
     },
     "execution_count": 4,
     "metadata": {},
     "output_type": "execute_result"
    }
   ],
   "source": [
    "insert_next(test_df, \"num_var\", test_df[\"num_var\"]*20)"
   ]
  },
  {
   "cell_type": "markdown",
   "id": "7234a764-91ac-4c8e-bd01-3a63099b4395",
   "metadata": {},
   "source": [
    "# get_num_cond\n",
    "\n",
    "Get condition for selection from pandas.DataFrame numeric data types"
   ]
  },
  {
   "cell_type": "code",
   "execution_count": 5,
   "id": "52b8e366-df33-44ba-9ca2-25a25b511b2e",
   "metadata": {},
   "outputs": [
    {
     "data": {
      "text/plain": [
       "num_var            True\n",
       "num_var_transf     True\n",
       "cut_var           False\n",
       "dtype: bool"
      ]
     },
     "execution_count": 5,
     "metadata": {},
     "output_type": "execute_result"
    }
   ],
   "source": [
    "get_num_cond(test_df)"
   ]
  },
  {
   "cell_type": "markdown",
   "id": "9cf387a9-8ac6-4516-a588-2b1f40c694c1",
   "metadata": {},
   "source": [
    "# pd_OHE\n",
    "\n",
    "Conduct one hot encoding for pandas data frame with the result as pandas.DataFrame and columns in reading format. "
   ]
  },
  {
   "cell_type": "code",
   "execution_count": 6,
   "id": "89a67b14-3c74-4a72-a3bb-61f4630a6442",
   "metadata": {},
   "outputs": [
    {
     "data": {
      "text/html": [
       "<div>\n",
       "<style scoped>\n",
       "    .dataframe tbody tr th:only-of-type {\n",
       "        vertical-align: middle;\n",
       "    }\n",
       "\n",
       "    .dataframe tbody tr th {\n",
       "        vertical-align: top;\n",
       "    }\n",
       "\n",
       "    .dataframe thead th {\n",
       "        text-align: right;\n",
       "    }\n",
       "</style>\n",
       "<table border=\"1\" class=\"dataframe\">\n",
       "  <thead>\n",
       "    <tr style=\"text-align: right;\">\n",
       "      <th></th>\n",
       "      <th>my_col_b</th>\n",
       "      <th>my_col_nan</th>\n",
       "      <th>my_col2_d</th>\n",
       "      <th>my_col2_g</th>\n",
       "      <th>my_col2_q</th>\n",
       "      <th>my_col2_t</th>\n",
       "    </tr>\n",
       "  </thead>\n",
       "  <tbody>\n",
       "    <tr>\n",
       "      <th>0</th>\n",
       "      <td>0.0</td>\n",
       "      <td>0.0</td>\n",
       "      <td>1.0</td>\n",
       "      <td>0.0</td>\n",
       "      <td>0.0</td>\n",
       "      <td>0.0</td>\n",
       "    </tr>\n",
       "    <tr>\n",
       "      <th>1</th>\n",
       "      <td>1.0</td>\n",
       "      <td>0.0</td>\n",
       "      <td>0.0</td>\n",
       "      <td>0.0</td>\n",
       "      <td>0.0</td>\n",
       "      <td>0.0</td>\n",
       "    </tr>\n",
       "    <tr>\n",
       "      <th>2</th>\n",
       "      <td>1.0</td>\n",
       "      <td>0.0</td>\n",
       "      <td>0.0</td>\n",
       "      <td>0.0</td>\n",
       "      <td>0.0</td>\n",
       "      <td>1.0</td>\n",
       "    </tr>\n",
       "    <tr>\n",
       "      <th>3</th>\n",
       "      <td>0.0</td>\n",
       "      <td>0.0</td>\n",
       "      <td>0.0</td>\n",
       "      <td>1.0</td>\n",
       "      <td>0.0</td>\n",
       "      <td>0.0</td>\n",
       "    </tr>\n",
       "    <tr>\n",
       "      <th>4</th>\n",
       "      <td>0.0</td>\n",
       "      <td>1.0</td>\n",
       "      <td>0.0</td>\n",
       "      <td>0.0</td>\n",
       "      <td>1.0</td>\n",
       "      <td>0.0</td>\n",
       "    </tr>\n",
       "  </tbody>\n",
       "</table>\n",
       "</div>"
      ],
      "text/plain": [
       "   my_col_b  my_col_nan  my_col2_d  my_col2_g  my_col2_q  my_col2_t\n",
       "0       0.0         0.0        1.0        0.0        0.0        0.0\n",
       "1       1.0         0.0        0.0        0.0        0.0        0.0\n",
       "2       1.0         0.0        0.0        0.0        0.0        1.0\n",
       "3       0.0         0.0        0.0        1.0        0.0        0.0\n",
       "4       0.0         1.0        0.0        0.0        1.0        0.0"
      ]
     },
     "execution_count": 6,
     "metadata": {},
     "output_type": "execute_result"
    }
   ],
   "source": [
    "test_df = pd.DataFrame({\n",
    "        'my_col' : ['a', 'b', 'b', 'a', np.NaN],\n",
    "        'my_col2': ['d', 'v', 't', 'g', 'q']\n",
    "})\n",
    "\n",
    "pd_OHE(test_df, sk_OHE_kwarg = {'drop':['a', 'v']})"
   ]
  },
  {
   "cell_type": "markdown",
   "id": "48d565bf-a857-4406-b48a-cf4a8af9ce21",
   "metadata": {
    "tags": []
   },
   "source": [
    "# get_join_repl_rule\n",
    "Get an joining rule for the levels of some variable for further use in `pandas.Series.replace`"
   ]
  },
  {
   "cell_type": "code",
   "execution_count": 7,
   "id": "c5dd07d5-3e52-4de3-a69a-59c08d5f8a6f",
   "metadata": {
    "tags": []
   },
   "outputs": [
    {
     "data": {
      "text/plain": [
       "{'lev1': 'lev1_lev2', 'lev2': 'lev1_lev2', 'lev3': 'lev3'}"
      ]
     },
     "execution_count": 7,
     "metadata": {},
     "output_type": "execute_result"
    }
   ],
   "source": [
    "get_merge_repl_rule([['lev1', 'lev2'], ['lev3']])"
   ]
  },
  {
   "cell_type": "markdown",
   "id": "4c1e7243-02d5-4b1b-8580-8ec866f78a38",
   "metadata": {},
   "source": [
    "# np_replace"
   ]
  },
  {
   "cell_type": "code",
   "execution_count": 23,
   "id": "ea7b70d9-bb4b-474f-b562-dc7b8705faf1",
   "metadata": {},
   "outputs": [
    {
     "data": {
      "text/plain": [
       "array([['a', 'a', 'c', 'a', 'c', 'c', 'c', 'a', 'a', 'a', 'c', 'c', 'a',\n",
       "        'a', 'b'],\n",
       "       ['c', 'b', 'c', 'a', 'a', 'a', 'a', 'a', 'a', 'a', 'a', 'b', 'c',\n",
       "        'a', 'c'],\n",
       "       ['b', 'c', 'a', 'c', 'a', 'c', 'a', 'c', 'a', 'a', 'a', 'b', 'a',\n",
       "        'b', 'b'],\n",
       "       ['b', 'a', 'b', 'b', 'c', 'a', 'c', 'a', 'c', 'c', 'b', 'b', 'a',\n",
       "        'b', 'c'],\n",
       "       ['a', 'a', 'b', 'c', 'b', 'c', 'b', 'a', 'a', 'a', 'a', 'b', 'c',\n",
       "        'c', 'b'],\n",
       "       ['c', 'a', 'b', 'c', 'b', 'a', 'a', 'b', 'a', 'c', 'a', 'a', 'b',\n",
       "        'a', 'a'],\n",
       "       ['a', 'c', 'c', 'b', 'b', 'c', 'c', 'b', 'c', 'a', 'b', 'c', 'c',\n",
       "        'c', 'c'],\n",
       "       ['c', 'c', 'c', 'b', 'c', 'b', 'b', 'b', 'c', 'a', 'b', 'b', 'c',\n",
       "        'c', 'a'],\n",
       "       ['c', 'c', 'b', 'a', 'b', 'c', 'c', 'b', 'b', 'a', 'c', 'b', 'b',\n",
       "        'c', 'a'],\n",
       "       ['c', 'b', 'b', 'c', 'b', 'b', 'c', 'a', 'c', 'a', 'c', 'b', 'a',\n",
       "        'a', 'c'],\n",
       "       ['b', 'c', 'b', 'c', 'c', 'a', 'c', 'b', 'b', 'a', 'a', 'a', 'c',\n",
       "        'b', 'a'],\n",
       "       ['a', 'c', 'a', 'a', 'b', 'a', 'b', 'a', 'c', 'c', 'c', 'a', 'c',\n",
       "        'a', 'a'],\n",
       "       ['b', 'c', 'a', 'b', 'b', 'a', 'c', 'a', 'a', 'a', 'b', 'a', 'b',\n",
       "        'b', 'a'],\n",
       "       ['c', 'b', 'b', 'c', 'a', 'c', 'c', 'b', 'c', 'a', 'c', 'a', 'b',\n",
       "        'c', 'a'],\n",
       "       ['a', 'b', 'b', 'b', 'a', 'c', 'a', 'b', 'c', 'a', 'b', 'b', 'c',\n",
       "        'a', 'c'],\n",
       "       ['b', 'c', 'a', 'b', 'c', 'a', 'b', 'c', 'c', 'a', 'a', 'b', 'a',\n",
       "        'b', 'a'],\n",
       "       ['a', 'c', 'c', 'a', 'c', 'a', 'c', 'b', 'b', 'c', 'a', 'c', 'a',\n",
       "        'a', 'c'],\n",
       "       ['b', 'a', 'b', 'c', 'b', 'c', 'c', 'a', 'b', 'c', 'a', 'b', 'a',\n",
       "        'b', 'c'],\n",
       "       ['b', 'c', 'b', 'b', 'c', 'a', 'b', 'a', 'b', 'a', 'a', 'a', 'c',\n",
       "        'c', 'b'],\n",
       "       ['c', 'b', 'c', 'b', 'a', 'c', 'b', 'c', 'c', 'a', 'c', 'c', 'a',\n",
       "        'b', 'a']], dtype='<U1')"
      ]
     },
     "execution_count": 23,
     "metadata": {},
     "output_type": "execute_result"
    }
   ],
   "source": [
    "X = np.random.choice(\n",
    "    ['a', 'b', 'c'], [20, 15]\n",
    ")\n",
    "\n",
    "X"
   ]
  },
  {
   "cell_type": "code",
   "execution_count": 24,
   "id": "43d0c8be-8eb7-4c1b-af52-484c0c47dc33",
   "metadata": {},
   "outputs": [
    {
     "data": {
      "text/plain": [
       "array([['test_a2', 'test_a2', 'c', 'test_a2', 'c', 'c', 'c', 'test_a2',\n",
       "        'test_a2', 'test_a2', 'c', 'c', 'test_a2', 'test_a2', 'test_b'],\n",
       "       ['c', 'test_b', 'c', 'test_a2', 'test_a2', 'test_a2', 'test_a2',\n",
       "        'test_a2', 'test_a2', 'test_a2', 'test_a2', 'test_b', 'c',\n",
       "        'test_a2', 'c'],\n",
       "       ['test_b', 'c', 'test_a2', 'c', 'test_a2', 'c', 'test_a2', 'c',\n",
       "        'test_a2', 'test_a2', 'test_a2', 'test_b', 'test_a2', 'test_b',\n",
       "        'test_b'],\n",
       "       ['test_b', 'test_a2', 'test_b', 'test_b', 'c', 'test_a2', 'c',\n",
       "        'test_a2', 'c', 'c', 'test_b', 'test_b', 'test_a2', 'test_b',\n",
       "        'c'],\n",
       "       ['test_a2', 'test_a2', 'test_b', 'c', 'test_b', 'c', 'test_b',\n",
       "        'test_a2', 'test_a2', 'test_a2', 'test_a2', 'test_b', 'c', 'c',\n",
       "        'test_b'],\n",
       "       ['c', 'test_a2', 'test_b', 'c', 'test_b', 'test_a2', 'test_a2',\n",
       "        'test_b', 'test_a2', 'c', 'test_a2', 'test_a2', 'test_b',\n",
       "        'test_a2', 'test_a2'],\n",
       "       ['test_a2', 'c', 'c', 'test_b', 'test_b', 'c', 'c', 'test_b', 'c',\n",
       "        'test_a2', 'test_b', 'c', 'c', 'c', 'c'],\n",
       "       ['c', 'c', 'c', 'test_b', 'c', 'test_b', 'test_b', 'test_b', 'c',\n",
       "        'test_a2', 'test_b', 'test_b', 'c', 'c', 'test_a2'],\n",
       "       ['c', 'c', 'test_b', 'test_a2', 'test_b', 'c', 'c', 'test_b',\n",
       "        'test_b', 'test_a2', 'c', 'test_b', 'test_b', 'c', 'test_a2'],\n",
       "       ['c', 'test_b', 'test_b', 'c', 'test_b', 'test_b', 'c', 'test_a2',\n",
       "        'c', 'test_a2', 'c', 'test_b', 'test_a2', 'test_a2', 'c'],\n",
       "       ['test_b', 'c', 'test_b', 'c', 'c', 'test_a2', 'c', 'test_b',\n",
       "        'test_b', 'test_a2', 'test_a2', 'test_a2', 'c', 'test_b',\n",
       "        'test_a2'],\n",
       "       ['test_a2', 'c', 'test_a2', 'test_a2', 'test_b', 'test_a2',\n",
       "        'test_b', 'test_a2', 'c', 'c', 'c', 'test_a2', 'c', 'test_a2',\n",
       "        'test_a2'],\n",
       "       ['test_b', 'c', 'test_a2', 'test_b', 'test_b', 'test_a2', 'c',\n",
       "        'test_a2', 'test_a2', 'test_a2', 'test_b', 'test_a2', 'test_b',\n",
       "        'test_b', 'test_a2'],\n",
       "       ['c', 'test_b', 'test_b', 'c', 'test_a2', 'c', 'c', 'test_b', 'c',\n",
       "        'test_a2', 'c', 'test_a2', 'test_b', 'c', 'test_a2'],\n",
       "       ['test_a2', 'test_b', 'test_b', 'test_b', 'test_a2', 'c',\n",
       "        'test_a2', 'test_b', 'c', 'test_a2', 'test_b', 'test_b', 'c',\n",
       "        'test_a2', 'c'],\n",
       "       ['test_b', 'c', 'test_a2', 'test_b', 'c', 'test_a2', 'test_b',\n",
       "        'c', 'c', 'test_a2', 'test_a2', 'test_b', 'test_a2', 'test_b',\n",
       "        'test_a2'],\n",
       "       ['test_a2', 'c', 'c', 'test_a2', 'c', 'test_a2', 'c', 'test_b',\n",
       "        'test_b', 'c', 'test_a2', 'c', 'test_a2', 'test_a2', 'c'],\n",
       "       ['test_b', 'test_a2', 'test_b', 'c', 'test_b', 'c', 'c',\n",
       "        'test_a2', 'test_b', 'c', 'test_a2', 'test_b', 'test_a2',\n",
       "        'test_b', 'c'],\n",
       "       ['test_b', 'c', 'test_b', 'test_b', 'c', 'test_a2', 'test_b',\n",
       "        'test_a2', 'test_b', 'test_a2', 'test_a2', 'test_a2', 'c', 'c',\n",
       "        'test_b'],\n",
       "       ['c', 'test_b', 'c', 'test_b', 'test_a2', 'c', 'test_b', 'c', 'c',\n",
       "        'test_a2', 'c', 'c', 'test_a2', 'test_b', 'test_a2']], dtype='<U7')"
      ]
     },
     "execution_count": 24,
     "metadata": {},
     "output_type": "execute_result"
    }
   ],
   "source": [
    "np_replace(X, {'a':'test_a', 'b': \"test_b\", 'a':\"test_a2\"})"
   ]
  }
 ],
 "metadata": {
  "kernelspec": {
   "display_name": "Python 3 (ipykernel)",
   "language": "python",
   "name": "python3"
  },
  "language_info": {
   "codemirror_mode": {
    "name": "ipython",
    "version": 3
   },
   "file_extension": ".py",
   "mimetype": "text/x-python",
   "name": "python",
   "nbconvert_exporter": "python",
   "pygments_lexer": "ipython3",
   "version": "3.10.5"
  }
 },
 "nbformat": 4,
 "nbformat_minor": 5
}
