{
 "cells": [
  {
   "cell_type": "markdown",
   "id": "ffad1ad7-4ddc-4bb0-a380-fbdd8ff75373",
   "metadata": {},
   "source": [
    "# Desribes and testing of functions for data processing"
   ]
  },
  {
   "cell_type": "code",
   "execution_count": 1,
   "id": "0990c0d4-5fd4-4cb1-b4fb-3991fbdfa709",
   "metadata": {},
   "outputs": [],
   "source": [
    "import pandas as pd\n",
    "import numpy as np\n",
    "\n",
    "from data_processing import *"
   ]
  },
  {
   "cell_type": "code",
   "execution_count": 2,
   "id": "b51123c8-5fd2-4880-ba0b-730d0950cefc",
   "metadata": {},
   "outputs": [],
   "source": [
    "test_df = pd.DataFrame({\n",
    "    \"num_var\" : np.random.normal(3, 5, 200),\n",
    "    \"cut_var\" : np.random.choice(['a', 'b'])\n",
    "})"
   ]
  },
  {
   "cell_type": "markdown",
   "id": "1dc4b24b-86d3-4e0d-9ad6-0c3f0b2c2b1c",
   "metadata": {
    "tags": []
   },
   "source": [
    "# `insert_next`\n",
    "\n",
    "Quick insertion following the column selected by name for pandas.DataFrame."
   ]
  },
  {
   "cell_type": "code",
   "execution_count": 3,
   "id": "9f5b96d3-84c9-4cf1-90d7-d3c647019f86",
   "metadata": {},
   "outputs": [],
   "source": [
    "test_df = pd.DataFrame({\n",
    "    \"num_var\" : np.random.normal(3, 5, 200),\n",
    "    \"cut_var\" : np.random.choice(['a', 'b'])\n",
    "})"
   ]
  },
  {
   "cell_type": "markdown",
   "id": "921a607c-0b35-401c-a617-c9a41cd56d68",
   "metadata": {},
   "source": [
    "## *One level columns*\n",
    "\n",
    "Rely simple to use"
   ]
  },
  {
   "cell_type": "code",
   "execution_count": 4,
   "id": "47bd06c0-14a4-42e9-afa7-c77b57c757f6",
   "metadata": {},
   "outputs": [
    {
     "data": {
      "text/html": [
       "<div>\n",
       "<style scoped>\n",
       "    .dataframe tbody tr th:only-of-type {\n",
       "        vertical-align: middle;\n",
       "    }\n",
       "\n",
       "    .dataframe tbody tr th {\n",
       "        vertical-align: top;\n",
       "    }\n",
       "\n",
       "    .dataframe thead th {\n",
       "        text-align: right;\n",
       "    }\n",
       "</style>\n",
       "<table border=\"1\" class=\"dataframe\">\n",
       "  <thead>\n",
       "    <tr style=\"text-align: right;\">\n",
       "      <th></th>\n",
       "      <th>num_var</th>\n",
       "      <th>cut_var</th>\n",
       "    </tr>\n",
       "  </thead>\n",
       "  <tbody>\n",
       "    <tr>\n",
       "      <th>0</th>\n",
       "      <td>-0.165023</td>\n",
       "      <td>a</td>\n",
       "    </tr>\n",
       "    <tr>\n",
       "      <th>1</th>\n",
       "      <td>-2.478777</td>\n",
       "      <td>a</td>\n",
       "    </tr>\n",
       "    <tr>\n",
       "      <th>2</th>\n",
       "      <td>-2.172629</td>\n",
       "      <td>a</td>\n",
       "    </tr>\n",
       "    <tr>\n",
       "      <th>3</th>\n",
       "      <td>2.254675</td>\n",
       "      <td>a</td>\n",
       "    </tr>\n",
       "    <tr>\n",
       "      <th>4</th>\n",
       "      <td>8.073553</td>\n",
       "      <td>a</td>\n",
       "    </tr>\n",
       "    <tr>\n",
       "      <th>...</th>\n",
       "      <td>...</td>\n",
       "      <td>...</td>\n",
       "    </tr>\n",
       "    <tr>\n",
       "      <th>195</th>\n",
       "      <td>2.510266</td>\n",
       "      <td>a</td>\n",
       "    </tr>\n",
       "    <tr>\n",
       "      <th>196</th>\n",
       "      <td>2.022213</td>\n",
       "      <td>a</td>\n",
       "    </tr>\n",
       "    <tr>\n",
       "      <th>197</th>\n",
       "      <td>7.642381</td>\n",
       "      <td>a</td>\n",
       "    </tr>\n",
       "    <tr>\n",
       "      <th>198</th>\n",
       "      <td>2.398168</td>\n",
       "      <td>a</td>\n",
       "    </tr>\n",
       "    <tr>\n",
       "      <th>199</th>\n",
       "      <td>7.031487</td>\n",
       "      <td>a</td>\n",
       "    </tr>\n",
       "  </tbody>\n",
       "</table>\n",
       "<p>200 rows × 2 columns</p>\n",
       "</div>"
      ],
      "text/plain": [
       "      num_var cut_var\n",
       "0   -0.165023       a\n",
       "1   -2.478777       a\n",
       "2   -2.172629       a\n",
       "3    2.254675       a\n",
       "4    8.073553       a\n",
       "..        ...     ...\n",
       "195  2.510266       a\n",
       "196  2.022213       a\n",
       "197  7.642381       a\n",
       "198  2.398168       a\n",
       "199  7.031487       a\n",
       "\n",
       "[200 rows x 2 columns]"
      ]
     },
     "execution_count": 4,
     "metadata": {},
     "output_type": "execute_result"
    }
   ],
   "source": [
    "insert_next(test_df, \"num_var\", test_df[\"num_var\"] / 20)\n",
    "\n",
    "test_df"
   ]
  },
  {
   "cell_type": "code",
   "execution_count": 5,
   "id": "743ef994-e22a-4ca3-a6e9-3ef00766a25e",
   "metadata": {},
   "outputs": [
    {
     "data": {
      "text/html": [
       "<div>\n",
       "<style scoped>\n",
       "    .dataframe tbody tr th:only-of-type {\n",
       "        vertical-align: middle;\n",
       "    }\n",
       "\n",
       "    .dataframe tbody tr th {\n",
       "        vertical-align: top;\n",
       "    }\n",
       "\n",
       "    .dataframe thead th {\n",
       "        text-align: right;\n",
       "    }\n",
       "</style>\n",
       "<table border=\"1\" class=\"dataframe\">\n",
       "  <thead>\n",
       "    <tr style=\"text-align: right;\">\n",
       "      <th></th>\n",
       "      <th>num_var</th>\n",
       "      <th>num_var_transf</th>\n",
       "      <th>cut_var</th>\n",
       "    </tr>\n",
       "  </thead>\n",
       "  <tbody>\n",
       "    <tr>\n",
       "      <th>0</th>\n",
       "      <td>-0.165023</td>\n",
       "      <td>-3.300454</td>\n",
       "      <td>a</td>\n",
       "    </tr>\n",
       "    <tr>\n",
       "      <th>1</th>\n",
       "      <td>-2.478777</td>\n",
       "      <td>-49.575547</td>\n",
       "      <td>a</td>\n",
       "    </tr>\n",
       "    <tr>\n",
       "      <th>2</th>\n",
       "      <td>-2.172629</td>\n",
       "      <td>-43.452571</td>\n",
       "      <td>a</td>\n",
       "    </tr>\n",
       "    <tr>\n",
       "      <th>3</th>\n",
       "      <td>2.254675</td>\n",
       "      <td>45.093502</td>\n",
       "      <td>a</td>\n",
       "    </tr>\n",
       "    <tr>\n",
       "      <th>4</th>\n",
       "      <td>8.073553</td>\n",
       "      <td>161.471063</td>\n",
       "      <td>a</td>\n",
       "    </tr>\n",
       "    <tr>\n",
       "      <th>...</th>\n",
       "      <td>...</td>\n",
       "      <td>...</td>\n",
       "      <td>...</td>\n",
       "    </tr>\n",
       "    <tr>\n",
       "      <th>195</th>\n",
       "      <td>2.510266</td>\n",
       "      <td>50.205321</td>\n",
       "      <td>a</td>\n",
       "    </tr>\n",
       "    <tr>\n",
       "      <th>196</th>\n",
       "      <td>2.022213</td>\n",
       "      <td>40.444258</td>\n",
       "      <td>a</td>\n",
       "    </tr>\n",
       "    <tr>\n",
       "      <th>197</th>\n",
       "      <td>7.642381</td>\n",
       "      <td>152.847627</td>\n",
       "      <td>a</td>\n",
       "    </tr>\n",
       "    <tr>\n",
       "      <th>198</th>\n",
       "      <td>2.398168</td>\n",
       "      <td>47.963361</td>\n",
       "      <td>a</td>\n",
       "    </tr>\n",
       "    <tr>\n",
       "      <th>199</th>\n",
       "      <td>7.031487</td>\n",
       "      <td>140.629731</td>\n",
       "      <td>a</td>\n",
       "    </tr>\n",
       "  </tbody>\n",
       "</table>\n",
       "<p>200 rows × 3 columns</p>\n",
       "</div>"
      ],
      "text/plain": [
       "      num_var  num_var_transf cut_var\n",
       "0   -0.165023       -3.300454       a\n",
       "1   -2.478777      -49.575547       a\n",
       "2   -2.172629      -43.452571       a\n",
       "3    2.254675       45.093502       a\n",
       "4    8.073553      161.471063       a\n",
       "..        ...             ...     ...\n",
       "195  2.510266       50.205321       a\n",
       "196  2.022213       40.444258       a\n",
       "197  7.642381      152.847627       a\n",
       "198  2.398168       47.963361       a\n",
       "199  7.031487      140.629731       a\n",
       "\n",
       "[200 rows x 3 columns]"
      ]
     },
     "execution_count": 5,
     "metadata": {},
     "output_type": "execute_result"
    }
   ],
   "source": [
    "insert_next(test_df, \"num_var\", test_df[\"num_var\"]*20)"
   ]
  },
  {
   "cell_type": "markdown",
   "id": "f4976f78-f87a-499f-a3b1-f5e711080658",
   "metadata": {},
   "source": [
    "## *Multi level columns*\n",
    "\n",
    "Have some details in using."
   ]
  },
  {
   "cell_type": "code",
   "execution_count": 6,
   "id": "776fa72c-4a0a-4037-8a1d-0aa14781d938",
   "metadata": {},
   "outputs": [
    {
     "data": {
      "text/html": [
       "<div>\n",
       "<style scoped>\n",
       "    .dataframe tbody tr th:only-of-type {\n",
       "        vertical-align: middle;\n",
       "    }\n",
       "\n",
       "    .dataframe tbody tr th {\n",
       "        vertical-align: top;\n",
       "    }\n",
       "\n",
       "    .dataframe thead tr th {\n",
       "        text-align: left;\n",
       "    }\n",
       "</style>\n",
       "<table border=\"1\" class=\"dataframe\">\n",
       "  <thead>\n",
       "    <tr>\n",
       "      <th></th>\n",
       "      <th colspan=\"2\" halign=\"left\">a</th>\n",
       "      <th colspan=\"2\" halign=\"left\">b</th>\n",
       "      <th colspan=\"2\" halign=\"left\">c</th>\n",
       "    </tr>\n",
       "    <tr>\n",
       "      <th></th>\n",
       "      <th>1</th>\n",
       "      <th>2</th>\n",
       "      <th>1</th>\n",
       "      <th>2</th>\n",
       "      <th>1</th>\n",
       "      <th>2</th>\n",
       "    </tr>\n",
       "  </thead>\n",
       "  <tbody>\n",
       "    <tr>\n",
       "      <th>0</th>\n",
       "      <td>0.707342</td>\n",
       "      <td>0.561667</td>\n",
       "      <td>0.471315</td>\n",
       "      <td>0.558657</td>\n",
       "      <td>0.386637</td>\n",
       "      <td>0.742765</td>\n",
       "    </tr>\n",
       "    <tr>\n",
       "      <th>1</th>\n",
       "      <td>0.175570</td>\n",
       "      <td>0.079259</td>\n",
       "      <td>0.112318</td>\n",
       "      <td>0.942353</td>\n",
       "      <td>0.555464</td>\n",
       "      <td>0.676418</td>\n",
       "    </tr>\n",
       "    <tr>\n",
       "      <th>2</th>\n",
       "      <td>0.559154</td>\n",
       "      <td>0.693405</td>\n",
       "      <td>0.716073</td>\n",
       "      <td>0.337575</td>\n",
       "      <td>0.963586</td>\n",
       "      <td>0.446806</td>\n",
       "    </tr>\n",
       "    <tr>\n",
       "      <th>3</th>\n",
       "      <td>0.489861</td>\n",
       "      <td>0.639746</td>\n",
       "      <td>0.060172</td>\n",
       "      <td>0.386694</td>\n",
       "      <td>0.825222</td>\n",
       "      <td>0.526551</td>\n",
       "    </tr>\n",
       "    <tr>\n",
       "      <th>4</th>\n",
       "      <td>0.672451</td>\n",
       "      <td>0.955739</td>\n",
       "      <td>0.732155</td>\n",
       "      <td>0.689520</td>\n",
       "      <td>0.322864</td>\n",
       "      <td>0.256105</td>\n",
       "    </tr>\n",
       "    <tr>\n",
       "      <th>5</th>\n",
       "      <td>0.375770</td>\n",
       "      <td>0.080341</td>\n",
       "      <td>0.324407</td>\n",
       "      <td>0.222239</td>\n",
       "      <td>0.200918</td>\n",
       "      <td>0.821983</td>\n",
       "    </tr>\n",
       "  </tbody>\n",
       "</table>\n",
       "</div>"
      ],
      "text/plain": [
       "          a                   b                   c          \n",
       "          1         2         1         2         1         2\n",
       "0  0.707342  0.561667  0.471315  0.558657  0.386637  0.742765\n",
       "1  0.175570  0.079259  0.112318  0.942353  0.555464  0.676418\n",
       "2  0.559154  0.693405  0.716073  0.337575  0.963586  0.446806\n",
       "3  0.489861  0.639746  0.060172  0.386694  0.825222  0.526551\n",
       "4  0.672451  0.955739  0.732155  0.689520  0.322864  0.256105\n",
       "5  0.375770  0.080341  0.324407  0.222239  0.200918  0.821983"
      ]
     },
     "execution_count": 6,
     "metadata": {},
     "output_type": "execute_result"
    }
   ],
   "source": [
    "test_df = pd.DataFrame(\n",
    "    np.random.rand(6,6),\n",
    "    columns = pd.MultiIndex.from_product([['a', 'b', 'c'], [1,2]])\n",
    ")\n",
    "\n",
    "test_df"
   ]
  },
  {
   "cell_type": "markdown",
   "id": "6f54e338-cc0e-4bc7-aa16-b229aa3fe0ef",
   "metadata": {},
   "source": [
    "If you are using `pandas.MultiIndex` in columns of `pandas.DataFrame` you have to use `tuple` as `col_name` argument."
   ]
  },
  {
   "cell_type": "code",
   "execution_count": 7,
   "id": "f4ba0637-5d2c-465a-b838-101252e559bf",
   "metadata": {},
   "outputs": [
    {
     "data": {
      "text/html": [
       "<div>\n",
       "<style scoped>\n",
       "    .dataframe tbody tr th:only-of-type {\n",
       "        vertical-align: middle;\n",
       "    }\n",
       "\n",
       "    .dataframe tbody tr th {\n",
       "        vertical-align: top;\n",
       "    }\n",
       "\n",
       "    .dataframe thead tr th {\n",
       "        text-align: left;\n",
       "    }\n",
       "</style>\n",
       "<table border=\"1\" class=\"dataframe\">\n",
       "  <thead>\n",
       "    <tr>\n",
       "      <th></th>\n",
       "      <th>a</th>\n",
       "      <th>a _transf</th>\n",
       "      <th>a</th>\n",
       "      <th colspan=\"2\" halign=\"left\">b</th>\n",
       "      <th colspan=\"2\" halign=\"left\">c</th>\n",
       "    </tr>\n",
       "    <tr>\n",
       "      <th></th>\n",
       "      <th>1</th>\n",
       "      <th>1 _transf</th>\n",
       "      <th>2</th>\n",
       "      <th>1</th>\n",
       "      <th>2</th>\n",
       "      <th>1</th>\n",
       "      <th>2</th>\n",
       "    </tr>\n",
       "  </thead>\n",
       "  <tbody>\n",
       "    <tr>\n",
       "      <th>0</th>\n",
       "      <td>0.707342</td>\n",
       "      <td>0.116695</td>\n",
       "      <td>0.561667</td>\n",
       "      <td>0.471315</td>\n",
       "      <td>0.558657</td>\n",
       "      <td>0.386637</td>\n",
       "      <td>0.742765</td>\n",
       "    </tr>\n",
       "    <tr>\n",
       "      <th>1</th>\n",
       "      <td>0.175570</td>\n",
       "      <td>0.891022</td>\n",
       "      <td>0.079259</td>\n",
       "      <td>0.112318</td>\n",
       "      <td>0.942353</td>\n",
       "      <td>0.555464</td>\n",
       "      <td>0.676418</td>\n",
       "    </tr>\n",
       "    <tr>\n",
       "      <th>2</th>\n",
       "      <td>0.559154</td>\n",
       "      <td>0.941242</td>\n",
       "      <td>0.693405</td>\n",
       "      <td>0.716073</td>\n",
       "      <td>0.337575</td>\n",
       "      <td>0.963586</td>\n",
       "      <td>0.446806</td>\n",
       "    </tr>\n",
       "    <tr>\n",
       "      <th>3</th>\n",
       "      <td>0.489861</td>\n",
       "      <td>0.590416</td>\n",
       "      <td>0.639746</td>\n",
       "      <td>0.060172</td>\n",
       "      <td>0.386694</td>\n",
       "      <td>0.825222</td>\n",
       "      <td>0.526551</td>\n",
       "    </tr>\n",
       "    <tr>\n",
       "      <th>4</th>\n",
       "      <td>0.672451</td>\n",
       "      <td>0.531273</td>\n",
       "      <td>0.955739</td>\n",
       "      <td>0.732155</td>\n",
       "      <td>0.689520</td>\n",
       "      <td>0.322864</td>\n",
       "      <td>0.256105</td>\n",
       "    </tr>\n",
       "    <tr>\n",
       "      <th>5</th>\n",
       "      <td>0.375770</td>\n",
       "      <td>0.632156</td>\n",
       "      <td>0.080341</td>\n",
       "      <td>0.324407</td>\n",
       "      <td>0.222239</td>\n",
       "      <td>0.200918</td>\n",
       "      <td>0.821983</td>\n",
       "    </tr>\n",
       "  </tbody>\n",
       "</table>\n",
       "</div>"
      ],
      "text/plain": [
       "          a a _transf         a         b                   c          \n",
       "          1 1 _transf         2         1         2         1         2\n",
       "0  0.707342  0.116695  0.561667  0.471315  0.558657  0.386637  0.742765\n",
       "1  0.175570  0.891022  0.079259  0.112318  0.942353  0.555464  0.676418\n",
       "2  0.559154  0.941242  0.693405  0.716073  0.337575  0.963586  0.446806\n",
       "3  0.489861  0.590416  0.639746  0.060172  0.386694  0.825222  0.526551\n",
       "4  0.672451  0.531273  0.955739  0.732155  0.689520  0.322864  0.256105\n",
       "5  0.375770  0.632156  0.080341  0.324407  0.222239  0.200918  0.821983"
      ]
     },
     "execution_count": 7,
     "metadata": {},
     "output_type": "execute_result"
    }
   ],
   "source": [
    "insert_next(\n",
    "    test_df, (\"a\", 1),\n",
    "    np.random.rand(6)\n",
    ")"
   ]
  },
  {
   "cell_type": "markdown",
   "id": "fc7577c6-5f33-4fc8-a0b9-b798c90dc504",
   "metadata": {},
   "source": [
    "Other case you will have warning, and most likely error from `pandas`."
   ]
  },
  {
   "cell_type": "code",
   "execution_count": 8,
   "id": "78153629-8a04-4cdc-9259-8c13aaa6032c",
   "metadata": {},
   "outputs": [
    {
     "ename": "NameError",
     "evalue": "name 'warn' is not defined",
     "output_type": "error",
     "traceback": [
      "\u001b[0;31m---------------------------------------------------------------------------\u001b[0m",
      "\u001b[0;31mNameError\u001b[0m                                 Traceback (most recent call last)",
      "Input \u001b[0;32mIn [8]\u001b[0m, in \u001b[0;36m<cell line: 1>\u001b[0;34m()\u001b[0m\n\u001b[0;32m----> 1\u001b[0m \u001b[43minsert_next\u001b[49m\u001b[43m(\u001b[49m\n\u001b[1;32m      2\u001b[0m \u001b[43m    \u001b[49m\u001b[43mtest_df\u001b[49m\u001b[43m,\u001b[49m\u001b[43m \u001b[49m\u001b[38;5;124;43m\"\u001b[39;49m\u001b[38;5;124;43ma\u001b[39;49m\u001b[38;5;124;43m\"\u001b[39;49m\u001b[43m,\u001b[49m\n\u001b[1;32m      3\u001b[0m \u001b[43m    \u001b[49m\u001b[43mnp\u001b[49m\u001b[38;5;241;43m.\u001b[39;49m\u001b[43mrandom\u001b[49m\u001b[38;5;241;43m.\u001b[39;49m\u001b[43mrand\u001b[49m\u001b[43m(\u001b[49m\u001b[38;5;241;43m6\u001b[39;49m\u001b[43m)\u001b[49m\u001b[43m,\u001b[49m\n\u001b[1;32m      4\u001b[0m \u001b[43m    \u001b[49m\u001b[38;5;124;43m\"\u001b[39;49m\u001b[38;5;124;43mtest\u001b[39;49m\u001b[38;5;124;43m\"\u001b[39;49m\n\u001b[1;32m      5\u001b[0m \u001b[43m)\u001b[49m\n",
      "File \u001b[0;32m~/KFA/DS_common/data_processing.py:25\u001b[0m, in \u001b[0;36minsert_next\u001b[0;34m(df, col_name, transform_col, new_name)\u001b[0m\n\u001b[1;32m     19\u001b[0m df \u001b[38;5;241m=\u001b[39m df\u001b[38;5;241m.\u001b[39mcopy()\n\u001b[1;32m     21\u001b[0m \u001b[38;5;28;01mif\u001b[39;00m (\n\u001b[1;32m     22\u001b[0m     df\u001b[38;5;241m.\u001b[39mcolumns\u001b[38;5;241m.\u001b[39m\u001b[38;5;18m__class__\u001b[39m \u001b[38;5;241m==\u001b[39m pd\u001b[38;5;241m.\u001b[39mMultiIndex \u001b[38;5;129;01mand\u001b[39;00m \n\u001b[1;32m     23\u001b[0m     col_name\u001b[38;5;241m.\u001b[39m\u001b[38;5;18m__class__\u001b[39m \u001b[38;5;241m==\u001b[39m \u001b[38;5;28mstr\u001b[39m\n\u001b[1;32m     24\u001b[0m ):\n\u001b[0;32m---> 25\u001b[0m     \u001b[43mwarn\u001b[49m(\n\u001b[1;32m     26\u001b[0m         \u001b[38;5;124;03m\"\"\"\u001b[39;00m\n\u001b[1;32m     27\u001b[0m \u001b[38;5;124;03m        For tables with columns.__class__ == pd.MultiIndex, not allowed using\u001b[39;00m\n\u001b[1;32m     28\u001b[0m \u001b[38;5;124;03m        col_name of type str. Try better typle.\u001b[39;00m\n\u001b[1;32m     29\u001b[0m \u001b[38;5;124;03m        \"\"\"\u001b[39;00m,\n\u001b[1;32m     30\u001b[0m         category \u001b[38;5;241m=\u001b[39m \u001b[38;5;167;01mRuntimeWarning\u001b[39;00m\n\u001b[1;32m     31\u001b[0m     )\n\u001b[1;32m     33\u001b[0m \u001b[38;5;28;01mif\u001b[39;00m new_name \u001b[38;5;129;01mis\u001b[39;00m \u001b[38;5;28;01mNone\u001b[39;00m:\n\u001b[1;32m     34\u001b[0m     \u001b[38;5;28;01mif\u001b[39;00m col_name\u001b[38;5;241m.\u001b[39m\u001b[38;5;18m__class__\u001b[39m \u001b[38;5;241m==\u001b[39m \u001b[38;5;28mstr\u001b[39m:\n",
      "\u001b[0;31mNameError\u001b[0m: name 'warn' is not defined"
     ]
    }
   ],
   "source": [
    "insert_next(\n",
    "    test_df, \"a\",\n",
    "    np.random.rand(6),\n",
    "    \"test\"\n",
    ")"
   ]
  },
  {
   "cell_type": "markdown",
   "id": "7234a764-91ac-4c8e-bd01-3a63099b4395",
   "metadata": {},
   "source": [
    "# `get_num_cond`\n",
    "\n",
    "Get condition for selection from pandas.DataFrame numeric data types"
   ]
  },
  {
   "cell_type": "code",
   "execution_count": 9,
   "id": "52b8e366-df33-44ba-9ca2-25a25b511b2e",
   "metadata": {},
   "outputs": [
    {
     "data": {
      "text/plain": [
       "num_var     True\n",
       "cut_var    False\n",
       "dtype: bool"
      ]
     },
     "execution_count": 9,
     "metadata": {},
     "output_type": "execute_result"
    }
   ],
   "source": [
    "test_df = pd.DataFrame({\n",
    "    \"num_var\" : np.random.normal(3, 5, 200),\n",
    "    \"cut_var\" : np.random.choice(['a', 'b'])\n",
    "})\n",
    "\n",
    "get_num_cond(test_df)"
   ]
  },
  {
   "cell_type": "markdown",
   "id": "9cf387a9-8ac6-4516-a588-2b1f40c694c1",
   "metadata": {},
   "source": [
    "# `pd_OHE`\n",
    "\n",
    "Conduct one hot encoding for pandas data frame with the result as pandas.DataFrame and columns in reading format. "
   ]
  },
  {
   "cell_type": "code",
   "execution_count": 10,
   "id": "89a67b14-3c74-4a72-a3bb-61f4630a6442",
   "metadata": {},
   "outputs": [
    {
     "data": {
      "text/html": [
       "<div>\n",
       "<style scoped>\n",
       "    .dataframe tbody tr th:only-of-type {\n",
       "        vertical-align: middle;\n",
       "    }\n",
       "\n",
       "    .dataframe tbody tr th {\n",
       "        vertical-align: top;\n",
       "    }\n",
       "\n",
       "    .dataframe thead th {\n",
       "        text-align: right;\n",
       "    }\n",
       "</style>\n",
       "<table border=\"1\" class=\"dataframe\">\n",
       "  <thead>\n",
       "    <tr style=\"text-align: right;\">\n",
       "      <th></th>\n",
       "      <th>my_col_b</th>\n",
       "      <th>my_col_nan</th>\n",
       "      <th>my_col2_d</th>\n",
       "      <th>my_col2_g</th>\n",
       "      <th>my_col2_q</th>\n",
       "      <th>my_col2_t</th>\n",
       "    </tr>\n",
       "  </thead>\n",
       "  <tbody>\n",
       "    <tr>\n",
       "      <th>0</th>\n",
       "      <td>0.0</td>\n",
       "      <td>0.0</td>\n",
       "      <td>1.0</td>\n",
       "      <td>0.0</td>\n",
       "      <td>0.0</td>\n",
       "      <td>0.0</td>\n",
       "    </tr>\n",
       "    <tr>\n",
       "      <th>1</th>\n",
       "      <td>1.0</td>\n",
       "      <td>0.0</td>\n",
       "      <td>0.0</td>\n",
       "      <td>0.0</td>\n",
       "      <td>0.0</td>\n",
       "      <td>0.0</td>\n",
       "    </tr>\n",
       "    <tr>\n",
       "      <th>2</th>\n",
       "      <td>1.0</td>\n",
       "      <td>0.0</td>\n",
       "      <td>0.0</td>\n",
       "      <td>0.0</td>\n",
       "      <td>0.0</td>\n",
       "      <td>1.0</td>\n",
       "    </tr>\n",
       "    <tr>\n",
       "      <th>3</th>\n",
       "      <td>0.0</td>\n",
       "      <td>0.0</td>\n",
       "      <td>0.0</td>\n",
       "      <td>1.0</td>\n",
       "      <td>0.0</td>\n",
       "      <td>0.0</td>\n",
       "    </tr>\n",
       "    <tr>\n",
       "      <th>4</th>\n",
       "      <td>0.0</td>\n",
       "      <td>1.0</td>\n",
       "      <td>0.0</td>\n",
       "      <td>0.0</td>\n",
       "      <td>1.0</td>\n",
       "      <td>0.0</td>\n",
       "    </tr>\n",
       "  </tbody>\n",
       "</table>\n",
       "</div>"
      ],
      "text/plain": [
       "   my_col_b  my_col_nan  my_col2_d  my_col2_g  my_col2_q  my_col2_t\n",
       "0       0.0         0.0        1.0        0.0        0.0        0.0\n",
       "1       1.0         0.0        0.0        0.0        0.0        0.0\n",
       "2       1.0         0.0        0.0        0.0        0.0        1.0\n",
       "3       0.0         0.0        0.0        1.0        0.0        0.0\n",
       "4       0.0         1.0        0.0        0.0        1.0        0.0"
      ]
     },
     "execution_count": 10,
     "metadata": {},
     "output_type": "execute_result"
    }
   ],
   "source": [
    "test_df = pd.DataFrame({\n",
    "        'my_col' : ['a', 'b', 'b', 'a', np.NaN],\n",
    "        'my_col2': ['d', 'v', 't', 'g', 'q']\n",
    "})\n",
    "\n",
    "pd_OHE(test_df, sk_OHE_kwarg = {'drop':['a', 'v']})"
   ]
  },
  {
   "cell_type": "markdown",
   "id": "48d565bf-a857-4406-b48a-cf4a8af9ce21",
   "metadata": {
    "tags": []
   },
   "source": [
    "# `get_join_repl_rule`\n",
    "Get an joining rule for the levels of some variable for further use in `pandas.Series.replace`"
   ]
  },
  {
   "cell_type": "code",
   "execution_count": 11,
   "id": "c5dd07d5-3e52-4de3-a69a-59c08d5f8a6f",
   "metadata": {
    "tags": []
   },
   "outputs": [
    {
     "data": {
      "text/plain": [
       "{'lev1': 'lev1_lev2', 'lev2': 'lev1_lev2', 'lev3': 'lev3'}"
      ]
     },
     "execution_count": 11,
     "metadata": {},
     "output_type": "execute_result"
    }
   ],
   "source": [
    "get_merge_repl_rule([['lev1', 'lev2'], ['lev3']])"
   ]
  },
  {
   "cell_type": "markdown",
   "id": "4c1e7243-02d5-4b1b-8580-8ec866f78a38",
   "metadata": {
    "tags": []
   },
   "source": [
    "# `np_replace`\n",
    "\n",
    "For `numpy.array` replace values, by roole defined as dictionary:<br>\n",
    "```\n",
    "{\n",
    "    <old val1>:<new val1>, \n",
    "    <old val2>:<new val2>,\n",
    "    .....................\n",
    "    <old valn>:<new valn>\n",
    "}\n",
    "```\n",
    "\n",
    "`pandas.DataFrame.replace` synonym, but for `numpy.array`."
   ]
  },
  {
   "cell_type": "code",
   "execution_count": 12,
   "id": "ea7b70d9-bb4b-474f-b562-dc7b8705faf1",
   "metadata": {},
   "outputs": [
    {
     "data": {
      "text/plain": [
       "array([['c', 'a', 'c', 'a', 'a', 'a', 'a', 'c', 'b', 'c'],\n",
       "       ['b', 'b', 'a', 'b', 'b', 'a', 'c', 'c', 'b', 'c'],\n",
       "       ['c', 'b', 'c', 'c', 'a', 'c', 'c', 'b', 'b', 'c'],\n",
       "       ['b', 'c', 'a', 'a', 'c', 'c', 'c', 'a', 'b', 'c'],\n",
       "       ['a', 'a', 'c', 'a', 'a', 'b', 'c', 'b', 'c', 'b'],\n",
       "       ['b', 'c', 'a', 'c', 'c', 'a', 'c', 'a', 'a', 'b'],\n",
       "       ['b', 'b', 'b', 'a', 'b', 'a', 'a', 'a', 'b', 'c'],\n",
       "       ['c', 'a', 'a', 'b', 'b', 'c', 'a', 'c', 'a', 'a'],\n",
       "       ['b', 'a', 'a', 'c', 'a', 'c', 'c', 'b', 'a', 'c'],\n",
       "       ['c', 'c', 'a', 'a', 'b', 'c', 'a', 'c', 'c', 'b']], dtype='<U1')"
      ]
     },
     "execution_count": 12,
     "metadata": {},
     "output_type": "execute_result"
    }
   ],
   "source": [
    "X = np.random.choice(\n",
    "    ['a', 'b', 'c'], [10, 10]\n",
    ")\n",
    "\n",
    "X"
   ]
  },
  {
   "cell_type": "code",
   "execution_count": 13,
   "id": "43d0c8be-8eb7-4c1b-af52-484c0c47dc33",
   "metadata": {},
   "outputs": [
    {
     "data": {
      "text/plain": [
       "array([['c', 'test_a2', 'c', 'test_a2', 'test_a2', 'test_a2', 'test_a2',\n",
       "        'c', 'test_b', 'c'],\n",
       "       ['test_b', 'test_b', 'test_a2', 'test_b', 'test_b', 'test_a2',\n",
       "        'c', 'c', 'test_b', 'c'],\n",
       "       ['c', 'test_b', 'c', 'c', 'test_a2', 'c', 'c', 'test_b', 'test_b',\n",
       "        'c'],\n",
       "       ['test_b', 'c', 'test_a2', 'test_a2', 'c', 'c', 'c', 'test_a2',\n",
       "        'test_b', 'c'],\n",
       "       ['test_a2', 'test_a2', 'c', 'test_a2', 'test_a2', 'test_b', 'c',\n",
       "        'test_b', 'c', 'test_b'],\n",
       "       ['test_b', 'c', 'test_a2', 'c', 'c', 'test_a2', 'c', 'test_a2',\n",
       "        'test_a2', 'test_b'],\n",
       "       ['test_b', 'test_b', 'test_b', 'test_a2', 'test_b', 'test_a2',\n",
       "        'test_a2', 'test_a2', 'test_b', 'c'],\n",
       "       ['c', 'test_a2', 'test_a2', 'test_b', 'test_b', 'c', 'test_a2',\n",
       "        'c', 'test_a2', 'test_a2'],\n",
       "       ['test_b', 'test_a2', 'test_a2', 'c', 'test_a2', 'c', 'c',\n",
       "        'test_b', 'test_a2', 'c'],\n",
       "       ['c', 'c', 'test_a2', 'test_a2', 'test_b', 'c', 'test_a2', 'c',\n",
       "        'c', 'test_b']], dtype='<U7')"
      ]
     },
     "execution_count": 13,
     "metadata": {},
     "output_type": "execute_result"
    }
   ],
   "source": [
    "np_replace(X, {'a':'test_a', 'b': \"test_b\", 'a':\"test_a2\"})"
   ]
  },
  {
   "cell_type": "markdown",
   "id": "8acacf19-f573-4f23-83ff-5e22be17635d",
   "metadata": {},
   "source": [
    "# `fix_pd_multiIndex`\n",
    "\n",
    "`padnas` has some problems with loading multilevel columns headers from excel. When different columns has different count of levels, result `pandas.DataFrame` will have maximum count of levels in each columns, and lower levels of columns wich in excel has less levels will renamed like `Unnamed: ...`. This function goal is change every name of wich starts from `Unnamed: ... ` in index to empty line in index.\n",
    "\n",
    "Let the input file looks like.\n",
    "\n",
    "<img src=\"pictures/multiindex_examle.png\"></img>\n",
    "\n",
    "By defult panads loads it like."
   ]
  },
  {
   "cell_type": "code",
   "execution_count": 14,
   "id": "06866093-f6d1-4a8e-ab5b-a97fe18a4fcb",
   "metadata": {},
   "outputs": [
    {
     "data": {
      "text/html": [
       "<div>\n",
       "<style scoped>\n",
       "    .dataframe tbody tr th:only-of-type {\n",
       "        vertical-align: middle;\n",
       "    }\n",
       "\n",
       "    .dataframe tbody tr th {\n",
       "        vertical-align: top;\n",
       "    }\n",
       "\n",
       "    .dataframe thead tr th {\n",
       "        text-align: left;\n",
       "    }\n",
       "</style>\n",
       "<table border=\"1\" class=\"dataframe\">\n",
       "  <thead>\n",
       "    <tr>\n",
       "      <th></th>\n",
       "      <th>id</th>\n",
       "      <th colspan=\"2\" halign=\"left\">group1</th>\n",
       "      <th colspan=\"2\" halign=\"left\">group2</th>\n",
       "    </tr>\n",
       "    <tr>\n",
       "      <th></th>\n",
       "      <th>Unnamed: 0_level_1</th>\n",
       "      <th>col1</th>\n",
       "      <th>col2</th>\n",
       "      <th>col3</th>\n",
       "      <th>col4</th>\n",
       "    </tr>\n",
       "  </thead>\n",
       "  <tbody>\n",
       "    <tr>\n",
       "      <th>0</th>\n",
       "      <td>323</td>\n",
       "      <td>a</td>\n",
       "      <td>4</td>\n",
       "      <td>g</td>\n",
       "      <td>5</td>\n",
       "    </tr>\n",
       "    <tr>\n",
       "      <th>1</th>\n",
       "      <td>433</td>\n",
       "      <td>b</td>\n",
       "      <td>5</td>\n",
       "      <td>r</td>\n",
       "      <td>6</td>\n",
       "    </tr>\n",
       "    <tr>\n",
       "      <th>2</th>\n",
       "      <td>123</td>\n",
       "      <td>c</td>\n",
       "      <td>6</td>\n",
       "      <td>d</td>\n",
       "      <td>7</td>\n",
       "    </tr>\n",
       "    <tr>\n",
       "      <th>3</th>\n",
       "      <td>321</td>\n",
       "      <td>d</td>\n",
       "      <td>7</td>\n",
       "      <td>x</td>\n",
       "      <td>5</td>\n",
       "    </tr>\n",
       "  </tbody>\n",
       "</table>\n",
       "</div>"
      ],
      "text/plain": [
       "                  id group1      group2     \n",
       "  Unnamed: 0_level_1   col1 col2   col3 col4\n",
       "0                323      a    4      g    5\n",
       "1                433      b    5      r    6\n",
       "2                123      c    6      d    7\n",
       "3                321      d    7      x    5"
      ]
     },
     "execution_count": 14,
     "metadata": {},
     "output_type": "execute_result"
    }
   ],
   "source": [
    "df = pd.read_excel(\n",
    "    \"test_data/fix_pd_multiIndex_df.xlsx\",\n",
    "    header = [0,1]\n",
    ")\n",
    "df"
   ]
  },
  {
   "cell_type": "markdown",
   "id": "0d7d71bb-09a7-430c-aab7-c15803a136de",
   "metadata": {},
   "source": [
    "So `id` column, loaded as `(\"id\", \"Unnamed: 0_level_1\")`. Now lets apply function for geting a new Index."
   ]
  },
  {
   "cell_type": "code",
   "execution_count": 15,
   "id": "76006b8f-9faa-4cd0-a2da-2ef57079dc27",
   "metadata": {},
   "outputs": [
    {
     "data": {
      "text/plain": [
       "MultiIndex([(    'id',     ''),\n",
       "            ('group1', 'col1'),\n",
       "            ('group1', 'col2'),\n",
       "            ('group2', 'col3'),\n",
       "            ('group2', 'col4')],\n",
       "           )"
      ]
     },
     "execution_count": 15,
     "metadata": {},
     "output_type": "execute_result"
    }
   ],
   "source": [
    "new_columns = fix_pd_multiIndex(df.columns)\n",
    "new_columns"
   ]
  },
  {
   "cell_type": "markdown",
   "id": "5989b74b-740d-4523-a365-681c18674dc8",
   "metadata": {},
   "source": [
    "And now apply it to our dataframe."
   ]
  },
  {
   "cell_type": "code",
   "execution_count": 16,
   "id": "d035630c-6b07-454b-ae93-c969c5230a35",
   "metadata": {},
   "outputs": [
    {
     "data": {
      "text/html": [
       "<div>\n",
       "<style scoped>\n",
       "    .dataframe tbody tr th:only-of-type {\n",
       "        vertical-align: middle;\n",
       "    }\n",
       "\n",
       "    .dataframe tbody tr th {\n",
       "        vertical-align: top;\n",
       "    }\n",
       "\n",
       "    .dataframe thead tr th {\n",
       "        text-align: left;\n",
       "    }\n",
       "</style>\n",
       "<table border=\"1\" class=\"dataframe\">\n",
       "  <thead>\n",
       "    <tr>\n",
       "      <th></th>\n",
       "      <th>id</th>\n",
       "      <th colspan=\"2\" halign=\"left\">group1</th>\n",
       "      <th colspan=\"2\" halign=\"left\">group2</th>\n",
       "    </tr>\n",
       "    <tr>\n",
       "      <th></th>\n",
       "      <th></th>\n",
       "      <th>col1</th>\n",
       "      <th>col2</th>\n",
       "      <th>col3</th>\n",
       "      <th>col4</th>\n",
       "    </tr>\n",
       "  </thead>\n",
       "  <tbody>\n",
       "    <tr>\n",
       "      <th>0</th>\n",
       "      <td>323</td>\n",
       "      <td>a</td>\n",
       "      <td>4</td>\n",
       "      <td>g</td>\n",
       "      <td>5</td>\n",
       "    </tr>\n",
       "    <tr>\n",
       "      <th>1</th>\n",
       "      <td>433</td>\n",
       "      <td>b</td>\n",
       "      <td>5</td>\n",
       "      <td>r</td>\n",
       "      <td>6</td>\n",
       "    </tr>\n",
       "    <tr>\n",
       "      <th>2</th>\n",
       "      <td>123</td>\n",
       "      <td>c</td>\n",
       "      <td>6</td>\n",
       "      <td>d</td>\n",
       "      <td>7</td>\n",
       "    </tr>\n",
       "    <tr>\n",
       "      <th>3</th>\n",
       "      <td>321</td>\n",
       "      <td>d</td>\n",
       "      <td>7</td>\n",
       "      <td>x</td>\n",
       "      <td>5</td>\n",
       "    </tr>\n",
       "  </tbody>\n",
       "</table>\n",
       "</div>"
      ],
      "text/plain": [
       "    id group1      group2     \n",
       "         col1 col2   col3 col4\n",
       "0  323      a    4      g    5\n",
       "1  433      b    5      r    6\n",
       "2  123      c    6      d    7\n",
       "3  321      d    7      x    5"
      ]
     },
     "execution_count": 16,
     "metadata": {},
     "output_type": "execute_result"
    }
   ],
   "source": [
    "df.columns = new_columns\n",
    "df"
   ]
  }
 ],
 "metadata": {
  "kernelspec": {
   "display_name": "Python 3 (ipykernel)",
   "language": "python",
   "name": "python3"
  },
  "language_info": {
   "codemirror_mode": {
    "name": "ipython",
    "version": 3
   },
   "file_extension": ".py",
   "mimetype": "text/x-python",
   "name": "python",
   "nbconvert_exporter": "python",
   "pygments_lexer": "ipython3",
   "version": "3.10.0"
  }
 },
 "nbformat": 4,
 "nbformat_minor": 5
}
