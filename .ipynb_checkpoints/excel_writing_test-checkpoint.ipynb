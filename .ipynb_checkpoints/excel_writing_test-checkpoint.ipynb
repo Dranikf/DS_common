{
 "cells": [
  {
   "cell_type": "markdown",
   "metadata": {},
   "source": [
    "# Testing for functions from \"excel_writing.py\" "
   ]
  },
  {
   "cell_type": "code",
   "execution_count": 10,
   "metadata": {},
   "outputs": [],
   "source": [
    "import pandas as pd\n",
    "import numpy as np\n",
    "from excel_writing import *"
   ]
  },
  {
   "cell_type": "markdown",
   "metadata": {},
   "source": [
    "# `add_sheet`\n",
    "\n",
    "    Adding a sheet with setted name.\n",
    "    Illegal characters will be removed.\n",
    "    If name is too long it will be cutted.\n",
    "    If there is same names they will be numerated."
   ]
  },
  {
   "cell_type": "code",
   "execution_count": 11,
   "metadata": {},
   "outputs": [],
   "source": [
    "xl_writer = pd.ExcelWriter(\"test_data/sheet_creation.xlsx\",engine='xlsxwriter')\n",
    "\n",
    "for i in range(20):\n",
    "    add_sheet(xl_writer, 'some name')\n",
    "    add_sheet(xl_writer, 'some very very very long long name')\n",
    "\n",
    "xl_writer.close()"
   ]
  },
  {
   "cell_type": "code",
   "execution_count": null,
   "metadata": {},
   "outputs": [],
   "source": [
    "df = pd.DataFrame(\n",
    "    \n",
    "    \n",
    ")"
   ]
  },
  {
   "cell_type": "markdown",
   "metadata": {},
   "source": [
    "# `mc_df_to_writer`\n",
    "\n",
    "Function for saving `pandas.DataFrame` which conctains to one of the availible  writers (https://pandas.pydata.org/docs/reference/api/pandas.ExcelWriter.html)."
   ]
  },
  {
   "cell_type": "code",
   "execution_count": null,
   "metadata": {},
   "outputs": [],
   "source": []
  },
  {
   "cell_type": "markdown",
   "metadata": {},
   "source": [
    "# `save_double_column_df`\n",
    "\n",
    "    Function to save doublecolumn DataFrame, to xlwriter."
   ]
  },
  {
   "cell_type": "markdown",
   "metadata": {},
   "source": [
    "Experimental table."
   ]
  },
  {
   "cell_type": "code",
   "execution_count": 98,
   "metadata": {},
   "outputs": [
    {
     "data": {
      "text/html": [
       "<div>\n",
       "<style scoped>\n",
       "    .dataframe tbody tr th:only-of-type {\n",
       "        vertical-align: middle;\n",
       "    }\n",
       "\n",
       "    .dataframe tbody tr th {\n",
       "        vertical-align: top;\n",
       "    }\n",
       "\n",
       "    .dataframe thead tr th {\n",
       "        text-align: left;\n",
       "    }\n",
       "</style>\n",
       "<table border=\"1\" class=\"dataframe\">\n",
       "  <thead>\n",
       "    <tr>\n",
       "      <th></th>\n",
       "      <th colspan=\"2\" halign=\"left\">Cars</th>\n",
       "      <th colspan=\"2\" halign=\"left\">Airplane</th>\n",
       "    </tr>\n",
       "    <tr>\n",
       "      <th></th>\n",
       "      <th>Speed</th>\n",
       "      <th>MPL</th>\n",
       "      <th>Speed</th>\n",
       "      <th>MPL</th>\n",
       "    </tr>\n",
       "  </thead>\n",
       "  <tbody>\n",
       "    <tr>\n",
       "      <th>0</th>\n",
       "      <td>1</td>\n",
       "      <td>2</td>\n",
       "      <td>5</td>\n",
       "      <td>6</td>\n",
       "    </tr>\n",
       "    <tr>\n",
       "      <th>1</th>\n",
       "      <td>7</td>\n",
       "      <td>4</td>\n",
       "      <td>5</td>\n",
       "      <td>7</td>\n",
       "    </tr>\n",
       "  </tbody>\n",
       "</table>\n",
       "</div>"
      ],
      "text/plain": [
       "   Cars     Airplane    \n",
       "  Speed MPL    Speed MPL\n",
       "0     1   2        5   6\n",
       "1     7   4        5   7"
      ]
     },
     "execution_count": 98,
     "metadata": {},
     "output_type": "execute_result"
    }
   ],
   "source": [
    "mi = pd.MultiIndex.from_tuples((('Cars', 'Speed'), \n",
    "                                ('Cars', \"MPL\"), \n",
    "                                ('Airplane', 'Speed'), \n",
    "                                ('Airplane', 'MPL')))\n",
    "\n",
    "test_table = pd.DataFrame(np.array([[1,2,5,6], [7,4,5,7]]), columns = mi)\n",
    "# test_table.index.name = \"ind name\"\n",
    "test_table"
   ]
  },
  {
   "cell_type": "markdown",
   "metadata": {},
   "source": [
    "Saving via `xlwriter` object."
   ]
  },
  {
   "cell_type": "code",
   "execution_count": 99,
   "metadata": {},
   "outputs": [],
   "source": [
    "def save_double_column_df(df, xl_writer, startrow = 0, **kwargs):\n",
    "    '''\n",
    "        Function to save doublecolumn DataFrame, to xlwriter.\n",
    "        inputs:\n",
    "            df - pandas dataframe to save\n",
    "            xl_writer - book for saving\n",
    "            startrow - row from wich data frame will begins\n",
    "            **kwargs - arguments of `to_excel` function of DataFrame`\n",
    "    '''\n",
    "    if xl_writer.__class__.__name__ == \"str\": \n",
    "        xl_writer = pd.ExcelWriter(xl_writer)\n",
    "        xl_writer.close()\n",
    "    \n",
    "    df.drop(df.index).to_excel(xl_writer, startrow = startrow, **kwargs)\n",
    "    df.to_excel(xl_writer, startrow = startrow + 1, header = False, **kwargs)\n",
    "    \n",
    "    "
   ]
  },
  {
   "cell_type": "code",
   "execution_count": 100,
   "metadata": {},
   "outputs": [],
   "source": [
    "xl_writer = pd.ExcelWriter(\"test_data/multi_cols_file1.xlsx\")\n",
    "save_double_column_df(test_table, xl_writer)\n",
    "xl_writer.close()"
   ]
  },
  {
   "cell_type": "markdown",
   "metadata": {},
   "source": [
    "Saving via file name."
   ]
  },
  {
   "cell_type": "code",
   "execution_count": 101,
   "metadata": {},
   "outputs": [],
   "source": [
    "save_double_column_df(test_table, \"test_data/multi_cols_file2.xlsx\")"
   ]
  }
 ],
 "metadata": {
  "interpreter": {
   "hash": "e7370f93d1d0cde622a1f8e1c04877d8463912d04d973331ad4851f04de6915a"
  },
  "kernelspec": {
   "display_name": "Python 3 (ipykernel)",
   "language": "python",
   "name": "python3"
  },
  "language_info": {
   "codemirror_mode": {
    "name": "ipython",
    "version": 3
   },
   "file_extension": ".py",
   "mimetype": "text/x-python",
   "name": "python",
   "nbconvert_exporter": "python",
   "pygments_lexer": "ipython3",
   "version": "3.10.0"
  }
 },
 "nbformat": 4,
 "nbformat_minor": 4
}
